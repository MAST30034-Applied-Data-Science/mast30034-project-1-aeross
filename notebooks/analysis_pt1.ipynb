{
 "cells": [
  {
   "cell_type": "markdown",
   "metadata": {},
   "source": [
    "Research topic: Crash analysis for taxi vehicles per total number of trips in 2019 in each borough. Analyse what are the common factors that are causing the crashes; predict the number, injuries/fatalities, and the contributing factor(s) for future crashes; and inform taxi drivers of these findings to significantly reduce the number of crashes in the future.\n",
    "\n",
    "Factors include: what causes the crash (improper turning, running the red, following too closely, etc), location (borough) (probably a pain in the ass to match with lat/lon), time (day vs night, peak hour vs empty streets), weather (probably not gonna be used because the hourly data too complicated, massive, and hard to get)\n",
    "\n",
    "Plan:\n",
    "- Granularise time into two features: day and night, and the day is further split into peak and non-peak hours\n",
    "- day and night in this scenario is not determined by sunset and sunrise times, but by the time when civil twilight ends (why?)\n",
    "- Need to take into account weekends and public holidays: in this case, they will be calculated separately\n",
    "- \n",
    "\n",
    "External datasets: https://data.cityofnewyork.us/api/views/h9gi-nx95/rows.csv?accessType=DOWNLOAD  <- crash data (download link)\n",
    "    https://data.cityofnewyork.us/Public-Safety/Motor-Vehicle-Collisions-Crashes/h9gi-nx95/data   <- crash data\n",
    "    https://dateandtime.info/citysunrisesunset.php?id=5128581&month=1&year=2019                  <- sunrise/sunset data to separate night and day\n",
    "    https://github.com/akiratwang/MAST30034_Python/blob/main/data/taxi_zones/                    <- taxi zones data\n",
    "    https://www1.nyc.gov/assets/opa/downloads/pdf/2019-list-of-holidays.pdf                      <- NYC public holiday data\n",
    "\n",
    "references:\n",
    "- https://medium.com/analytics-vidhya/how-to-scrape-a-table-from-website-using-python-ce90d0cfb607 <- web scraping"
   ]
  },
  {
   "cell_type": "code",
   "execution_count": 1,
   "metadata": {},
   "outputs": [],
   "source": [
    "# read data\n",
    "import pandas as pd\n",
    "\n",
    "crime = pd.read_csv(\"../data/curated/crime.csv\")"
   ]
  },
  {
   "cell_type": "markdown",
   "metadata": {},
   "source": [
    "## The distribution of the response variable"
   ]
  },
  {
   "cell_type": "code",
   "execution_count": 2,
   "metadata": {},
   "outputs": [
    {
     "data": {
      "text/plain": [
       "(array([1.7326e+04, 5.3470e+03, 2.6110e+03, 1.5450e+03, 9.9300e+02,\n",
       "        6.5500e+02, 4.2700e+02, 2.9700e+02, 2.2400e+02, 1.8300e+02,\n",
       "        1.5600e+02, 1.3100e+02, 1.2500e+02, 1.0500e+02, 9.4000e+01,\n",
       "        7.8000e+01, 8.2000e+01, 6.3000e+01, 7.1000e+01, 5.3000e+01,\n",
       "        4.8000e+01, 3.3000e+01, 3.1000e+01, 1.8000e+01, 2.1000e+01,\n",
       "        1.3000e+01, 7.0000e+00, 8.0000e+00, 3.0000e+00, 3.0000e+00,\n",
       "        4.0000e+00, 5.0000e+00, 3.0000e+00, 1.0000e+00, 0.0000e+00,\n",
       "        1.0000e+00]),\n",
       " array([ 0,  1,  2,  3,  4,  5,  6,  7,  8,  9, 10, 11, 12, 13, 14, 15, 16,\n",
       "        17, 18, 19, 20, 21, 22, 23, 24, 25, 26, 27, 28, 29, 30, 31, 32, 33,\n",
       "        34, 35, 36]),\n",
       " <BarContainer object of 36 artists>)"
      ]
     },
     "execution_count": 2,
     "metadata": {},
     "output_type": "execute_result"
    },
    {
     "data": {
      "image/png": "[encoded data removed]",
      "text/plain": [
       "<Figure size 432x288 with 1 Axes>"
      ]
     },
     "metadata": {
      "needs_background": "light"
     },
     "output_type": "display_data"
    }
   ],
   "source": [
    "import numpy as np\n",
    "import matplotlib.pyplot as plt\n",
    "\n",
    "y = crime[\"count\"]\n",
    "plt.hist(y, bins=[i for i in range(max(crime[\"count\"]) + 1)])"
   ]
  },
  {
   "cell_type": "markdown",
   "metadata": {},
   "source": [
    "Based on the histogram, the data is not normally distributed. It could be negative binomial or poisson...?\n",
    "\n",
    "Anyway, the point is, any type of linear model is definitely not applicable here, and I'm not doing negative binomial nor poisson regression because that is out of the scope of my knowledge.\n"
   ]
  },
  {
   "cell_type": "code",
   "execution_count": 121,
   "metadata": {},
   "outputs": [
    {
     "name": "stdout",
     "output_type": "stream",
     "text": [
      "['onehotencoder__season_autumn' 'onehotencoder__season_spring'\n",
      " 'onehotencoder__season_summer' 'onehotencoder__season_winter'\n",
      " 'onehotencoder__daylight_day' 'onehotencoder__daylight_night'\n",
      " 'onehotencoder__borough_Bronx' 'onehotencoder__borough_Brooklyn'\n",
      " 'onehotencoder__borough_Manhattan' 'onehotencoder__borough_Queens'\n",
      " 'onehotencoder__borough_Staten Island' 'ordinalencoder__speed']\n",
      "[[0. 0. 0. ... 1. 0. 0.]\n",
      " [0. 0. 0. ... 0. 0. 0.]\n",
      " [0. 0. 0. ... 0. 0. 0.]\n",
      " ...\n",
      " [0. 0. 0. ... 0. 0. 2.]\n",
      " [0. 0. 0. ... 0. 1. 2.]\n",
      " [0. 0. 0. ... 0. 0. 2.]]\n"
     ]
    }
   ],
   "source": [
    "# apply one hot encoding to transform nominal variable \n",
    "# and ordinal encoding to transform ordinal variable\n",
    "X = crime.drop(columns=[\"date\", \"count\"])\n",
    "\n",
    "from sklearn.preprocessing import OneHotEncoder, OrdinalEncoder\n",
    "from sklearn.compose import make_column_transformer\n",
    "\n",
    "ohe = OneHotEncoder()\n",
    "oe = OrdinalEncoder(categories=[[\"normal\", \"fast\", \"empty\"]])\n",
    "\n",
    "ohe.fit_transform(X[[\"season\", \"daylight\", \"borough\"]])\n",
    "oe.fit_transform(X[[\"speed\"]])\n",
    "\n",
    "X_t = make_column_transformer((ohe, [\"season\", \"daylight\", \"borough\"]), \\\n",
    "    (oe, [\"speed\"]))\n",
    "\n",
    "column_names = X_t.fit(X).get_feature_names_out()\n",
    "X = X_t.fit_transform(X)\n",
    "\n",
    "print(column_names)\n",
    "print(X)"
   ]
  },
  {
   "cell_type": "code",
   "execution_count": 58,
   "metadata": {},
   "outputs": [
    {
     "data": {
      "text/plain": [
       "(23073, 12)"
      ]
     },
     "execution_count": 58,
     "metadata": {},
     "output_type": "execute_result"
    }
   ],
   "source": [
    "# split data into train and test sets\n",
    "from sklearn.model_selection import train_test_split\n",
    "\n",
    "X_train, X_test, y_train, y_test = train_test_split(X_t, y, test_size=0.25, random_state=0)"
   ]
  },
  {
   "cell_type": "markdown",
   "metadata": {},
   "source": [
    "## Dummy Regression"
   ]
  },
  {
   "cell_type": "code",
   "execution_count": 131,
   "metadata": {},
   "outputs": [
    {
     "name": "stdout",
     "output_type": "stream",
     "text": [
      "3.591027125911577\n",
      "1.2430775557753373\n"
     ]
    }
   ],
   "source": [
    "# simply predicts the value which has the most occurrence, which is 0. This will be used as the baseline.\n",
    "dummy_pred = np.zeros(y_test.shape[0])\n",
    "\n",
    "# evaluation using RMSE\n",
    "from sklearn.metrics import mean_squared_error, mean_absolute_error\n",
    "print(np.sqrt(mean_squared_error(y_test, dummy_pred)))\n",
    "print(np.sqrt(mean_absolute_error(y_test, dummy_pred)))"
   ]
  },
  {
   "cell_type": "markdown",
   "metadata": {},
   "source": [
    "## Poisson Regression"
   ]
  },
  {
   "cell_type": "code",
   "execution_count": 133,
   "metadata": {},
   "outputs": [
    {
     "name": "stdout",
     "output_type": "stream",
     "text": [
      "1.5589077300622127\n",
      "0.5382308309744734\n",
      "2.815703960985826\n",
      "1.2812055376238736\n"
     ]
    }
   ],
   "source": [
    "# note that although the data looks like it follows a poisson distribution,\n",
    "# its variance is actually a lot larger than its mean. (Poisson has equal mean and variance)\n",
    "\n",
    "from sklearn.linear_model import PoissonRegressor\n",
    "\n",
    "pr = PoissonRegressor()\n",
    "pr.fit(X_train, y_train)\n",
    "y_pred = pr.predict(X_test)\n",
    "\n",
    "print(np.mean(y_pred))\n",
    "print(np.var(y_pred))\n",
    "print(np.sqrt(mean_squared_error(y_test, y_pred)))\n",
    "print(np.sqrt(mean_absolute_error(y_test, y_pred)))"
   ]
  },
  {
   "cell_type": "code",
   "execution_count": 129,
   "metadata": {},
   "outputs": [
    {
     "data": {
      "text/plain": [
       "10.507703568673168"
      ]
     },
     "execution_count": 129,
     "metadata": {},
     "output_type": "execute_result"
    }
   ],
   "source": [
    "# As seen there, although the mean of the predicted values looks fine, \n",
    "# the variance of the predicted values are way off the actual variance.\n",
    "np.mean(y_test)\n",
    "np.var(y_test)\n",
    "# In addition, the RMSE, although better from the baseline model, is still barely an improvement."
   ]
  },
  {
   "cell_type": "markdown",
   "metadata": {},
   "source": [
    "Since this predicted data has higher variance than mean, the data is overdispersed. Dealing with overdispersion requires a much deeper statistical knowledge that is beyond the scope of my understanding as well as what's required in this subject. (I believe this topic is discussed in MAST30027, but that is in week 4. Given the deadline of this subject, and how much work I have to split among four subjects, I'm afraid that is not possible...not everyone has 150 IQ!)\n",
    "\n",
    "Instead of doing regression, I will use two models that are both based on decision trees as their main components: random forest and gradient boost. They should, in theory, work better because decision trees don't depend on whether the data follows a certain distribution.\n",
    "\n",
    "I will also use MAE and MAPE in addition to RMSE as evaluation metrics."
   ]
  },
  {
   "cell_type": "markdown",
   "metadata": {},
   "source": [
    "## Random Forest Regression"
   ]
  },
  {
   "cell_type": "code",
   "execution_count": 141,
   "metadata": {},
   "outputs": [
    {
     "name": "stdout",
     "output_type": "stream",
     "text": [
      "1.5293525510353694\n",
      "8.595977829190911\n",
      "RMSE  = 1.502189463616242\n",
      "MAE = 0.9074677142261222\n"
     ]
    },
    {
     "data": {
      "text/plain": [
       "array([8.79690851e-03, 2.10689650e-03, 4.26747631e-03, 1.26247754e-02,\n",
       "       1.55397796e-01, 1.56329418e-01, 2.63665665e-03, 4.09930930e-04,\n",
       "       2.75126553e-01, 1.92343305e-04, 3.38034704e-02, 3.48307775e-01])"
      ]
     },
     "execution_count": 141,
     "metadata": {},
     "output_type": "execute_result"
    }
   ],
   "source": [
    "from sklearn.ensemble import RandomForestRegressor\n",
    "rfr = RandomForestRegressor(n_estimators=500, max_depth=10, random_state=0)\n",
    "rfr.fit(X_train, y_train)\n",
    "y_pred = rfr.predict(X_test)\n",
    "\n",
    "\n",
    "print(np.mean(y_pred))\n",
    "print(np.var(y_pred))\n",
    "print(f\"RMSE = {np.sqrt(mean_squared_error(y_test, y_pred))}\")\n",
    "print(F\"MAE  = {mean_absolute_error(y_test, y_pred)}\")\n",
    "rfr_fi = rfr.feature_importances_\n",
    "rfr_fi"
   ]
  },
  {
   "cell_type": "markdown",
   "metadata": {},
   "source": [
    "## Gradient Boosting Regression"
   ]
  },
  {
   "cell_type": "code",
   "execution_count": 140,
   "metadata": {},
   "outputs": [
    {
     "name": "stdout",
     "output_type": "stream",
     "text": [
      "1.5292763967738356\n",
      "8.599750322368662\n",
      "RMSE  = 1.5022832300777793\n",
      "MAE = 0.9074120724568268\n"
     ]
    },
    {
     "data": {
      "text/plain": [
       "array([1.00261377e-02, 1.38269627e-04, 3.25392036e-03, 1.35514036e-02,\n",
       "       1.99667021e-01, 1.12319836e-01, 2.43101397e-03, 4.86286467e-04,\n",
       "       2.75981315e-01, 1.39646358e-04, 3.39129644e-02, 3.48092185e-01])"
      ]
     },
     "execution_count": 140,
     "metadata": {},
     "output_type": "execute_result"
    }
   ],
   "source": [
    "from sklearn.ensemble import GradientBoostingRegressor\n",
    "gbr = GradientBoostingRegressor(learning_rate=0.1, n_estimators=500, max_depth=10)\n",
    "gbr.fit(X_train, y_train)\n",
    "y_pred = gbr.predict(X_test)\n",
    "\n",
    "print(np.mean(y_pred))\n",
    "print(np.var(y_pred))\n",
    "print(f\"RMSE = {np.sqrt(mean_squared_error(y_test, y_pred))}\")\n",
    "print(F\"MAE  = {mean_absolute_error(y_test, y_pred)}\")\n",
    "gbr_fi = gbr.feature_importances_\n",
    "gbr_fi"
   ]
  },
  {
   "cell_type": "markdown",
   "metadata": {},
   "source": [
    "From the values seen above, the mean and variance of predicted values are very similar, and so are the MAE and RMSE. The feature importance are also similar, and there seem to be a decent gap between the top 4 features compared to the rest.\n",
    "\n",
    "Hence, I will test that hypothesis by re-doing the modelling to find the ideal number of features."
   ]
  },
  {
   "cell_type": "code",
   "execution_count": 155,
   "metadata": {},
   "outputs": [
    {
     "data": {
      "text/plain": [
       "[(11, 34.81999803944515),\n",
       " (8, 27.55539336095922),\n",
       " (4, 17.75324086888206),\n",
       " (5, 13.432462702532835),\n",
       " (10, 3.385821739887809),\n",
       " (3, 1.308808951993509),\n",
       " (0, 0.941152312236047),\n",
       " (2, 0.3760698337359568),\n",
       " (6, 0.2533835311756891),\n",
       " (1, 0.1122583061715366),\n",
       " (7, 0.044810869841283345),\n",
       " (9, 0.016599483138906534)]"
      ]
     },
     "execution_count": 155,
     "metadata": {},
     "output_type": "execute_result"
    }
   ],
   "source": [
    "feature_importance = (rfr_fi + gbr_fi) / 2  # average values between the two models\n",
    "feature_importance = [float(i) * 100 for i in feature_importance]  # in terms of percentage so that it's easier to see\n",
    "sorted_fi = sorted(enumerate(feature_importance), key=lambda i: i[1], reverse=True)  # so the original index is kept after sorting\n",
    "sorted_fi"
   ]
  },
  {
   "cell_type": "code",
   "execution_count": 189,
   "metadata": {},
   "outputs": [],
   "source": [
    "feature_indices = []\n",
    "rfr_RMSE = []\n",
    "rfr_MAE = []\n",
    "gbr_RMSE = []\n",
    "gbr_MAE = []\n",
    "\n",
    "for i in range(len(feature_importance)):\n",
    "    feature_indices.append(sorted_fi[i][0])\n",
    "    X_train2 = X_train[:, feature_indices]\n",
    "    X_test2 = X_test[:, feature_indices]\n",
    "\n",
    "    # random forest\n",
    "    rfr.fit(X_train2, y_train)\n",
    "    y_pred = rfr.predict(X_test2)\n",
    "\n",
    "    rfr_RMSE.append(np.sqrt(mean_squared_error(y_test, y_pred)))\n",
    "    rfr_MAE.append(mean_absolute_error(y_test, y_pred))\n",
    "\n",
    "    # gradient boost\n",
    "    gbr = GradientBoostingRegressor(learning_rate=0.1, n_estimators=500, max_depth=10)\n",
    "    gbr.fit(X_train2, y_train)\n",
    "    y_pred = gbr.predict(X_test2)\n",
    "\n",
    "    gbr_RMSE.append(np.sqrt(mean_squared_error(y_test, y_pred)))\n",
    "    gbr_MAE.append(mean_absolute_error(y_test, y_pred))"
   ]
  },
  {
   "cell_type": "code",
   "execution_count": 191,
   "metadata": {},
   "outputs": [
    {
     "name": "stdout",
     "output_type": "stream",
     "text": [
      "[3.035066055650699, 2.351846991433192, 1.6671882303304233, 1.6671882303304233, 1.5661817259155748, 1.5208191768587216, 1.5095930972636078, 1.5059729734840857, 1.5024084344579078, 1.5024095387681067, 1.502189522501198, 1.5021896569461264]\n",
      "[3.0350737881630883, 2.3518566980267135, 1.6672086964782593, 1.6672086964782593, 1.5661886373919514, 1.5208512139424464, 1.5096384263879872, 1.5060346784801735, 1.5024871580571966, 1.5024871580571966, 1.5022832300777793, 1.5022832300777793]\n",
      "[1.738747519737947, 1.3841767608062074, 0.9868516801745492, 0.9868516801745492, 0.8540966546882353, 0.8387062215729049, 0.831343671401335, 0.8291602419397782, 0.8250192998202224, 0.8250458403667494, 0.8234984981499145, 0.8235008332822755]\n",
      "[1.738632915802286, 1.3840273138332182, 0.9866624817663433, 0.9866624817663432, 0.8540059376583775, 0.8386518532981669, 0.8312419824164033, 0.8290654501431951, 0.8249317316872712, 0.8249317316872712, 0.8233966692403935, 0.8233966692403935]\n"
     ]
    }
   ],
   "source": [
    "print(rfr_RMSE)\n",
    "print(gbr_RMSE)\n",
    "print(rfr_MAE)\n",
    "print(gbr_MAE)"
   ]
  },
  {
   "cell_type": "code",
   "execution_count": 202,
   "metadata": {},
   "outputs": [
    {
     "name": "stdout",
     "output_type": "stream",
     "text": [
      "column name = ordinalencoder__speed\n",
      "significance = 34.82%\n",
      "\n",
      "column name = onehotencoder__borough_Manhattan\n",
      "significance = 27.56%\n",
      "\n",
      "column name = onehotencoder__daylight_day\n",
      "significance = 17.75%\n",
      "\n"
     ]
    }
   ],
   "source": [
    "# in conclusion, all though some features might look insignificant, random forest and gradient boost are \n",
    "# robust to overfitting and therefore generally performs better, if not the same, if more features are added in.\n",
    "# Nevertheless, I will take the top 3 features as the most significanat features. They are:\n",
    "for i in range(3):\n",
    "    print(f\"column name = {column_names[sorted_fi[i][0]]}\")\n",
    "    print(f\"significance = {round(sorted_fi[i][1], 2)}%\")\n",
    "    print(\"\")\n",
    "    \n"
   ]
  },
  {
   "cell_type": "code",
   "execution_count": 204,
   "metadata": {},
   "outputs": [
    {
     "data": {
      "text/plain": [
       "<BarContainer object of 30765 artists>"
      ]
     },
     "execution_count": 204,
     "metadata": {},
     "output_type": "execute_result"
    },
    {
     "data": {
      "image/png": "[encoded data removed]",
      "text/plain": [
       "<Figure size 432x288 with 1 Axes>"
      ]
     },
     "metadata": {
      "needs_background": "light"
     },
     "output_type": "display_data"
    }
   ],
   "source": [
    "import matplotlib.pyplot as plt"
   ]
  },
  {
   "cell_type": "code",
   "execution_count": 216,
   "metadata": {},
   "outputs": [
    {
     "data": {
      "image/png": "[encoded data removed]",
      "text/plain": [
       "<Figure size 432x288 with 1 Axes>"
      ]
     },
     "metadata": {
      "needs_background": "light"
     },
     "output_type": "display_data"
    }
   ],
   "source": [
    "speed_count = []\n",
    "speed = [\"normal\", \"fast\", \"empty\"]\n",
    "speed_count.append(sum(crime[crime[\"speed\"] == \"normal\"][\"count\"]))\n",
    "speed_count.append(sum(crime[crime[\"speed\"] == \"fast\"][\"count\"]))\n",
    "speed_count.append(sum(crime[crime[\"speed\"] == \"empty\"][\"count\"]))\n",
    "\n",
    "plt.bar(speed, speed_count)\n",
    "plt.ylabel(\"number of crashes\")\n",
    "plt.xlabel(\"speed\")\n",
    "plt.title(\"Total Number of Crashes by Speed\")\n",
    "plt.savefig(\"../plots/speed_crash.png\")"
   ]
  },
  {
   "cell_type": "code",
   "execution_count": 217,
   "metadata": {},
   "outputs": [
    {
     "data": {
      "image/png": "[encoded data removed]",
      "text/plain": [
       "<Figure size 432x288 with 1 Axes>"
      ]
     },
     "metadata": {
      "needs_background": "light"
     },
     "output_type": "display_data"
    }
   ],
   "source": [
    "daylight_count = []\n",
    "daylight = [\"day\", \"night\"]\n",
    "daylight_count.append(sum(crime[crime[\"daylight\"] == \"day\"][\"count\"]))\n",
    "daylight_count.append(sum(crime[crime[\"daylight\"] == \"night\"][\"count\"]))\n",
    "\n",
    "plt.bar(daylight, daylight_count)\n",
    "plt.ylabel(\"number of crashes\")\n",
    "plt.xlabel(\"daylight\")\n",
    "plt.title(\"Total Number of Crashes by Daylight\")\n",
    "plt.savefig(\"../plots/daylight_crash.png\")"
   ]
  },
  {
   "cell_type": "code",
   "execution_count": 218,
   "metadata": {},
   "outputs": [
    {
     "data": {
      "image/png": "[encoded data removed]",
      "text/plain": [
       "<Figure size 432x288 with 1 Axes>"
      ]
     },
     "metadata": {
      "needs_background": "light"
     },
     "output_type": "display_data"
    }
   ],
   "source": [
    "boro_count = []\n",
    "boro = [\"Manhattan\", \"Staten Island\", \"Brooklyn\", \"Queens\", \"Bronx\"]\n",
    "boro_count.append(sum(crime[crime[\"borough\"] == \"Manhattan\"][\"count\"]))\n",
    "boro_count.append(sum(crime[crime[\"borough\"] == \"Staten Island\"][\"count\"]))\n",
    "boro_count.append(sum(crime[crime[\"borough\"] == \"Brooklyn\"][\"count\"]))\n",
    "boro_count.append(sum(crime[crime[\"borough\"] == \"Queens\"][\"count\"]))\n",
    "boro_count.append(sum(crime[crime[\"borough\"] == \"Bronx\"][\"count\"]))\n",
    "\n",
    "plt.bar(boro, boro_count)\n",
    "plt.ylabel(\"number of crashes\")\n",
    "plt.xlabel(\"borough\")\n",
    "plt.title(\"Total Number of Crashes by Borough\")\n",
    "plt.savefig(\"../plots/boro_crash.png\")"
   ]
  }
 ],
 "metadata": {
  "kernelspec": {
   "display_name": "Python 3.8.10 64-bit",
   "language": "python",
   "name": "python3"
  },
  "language_info": {
   "codemirror_mode": {
    "name": "ipython",
    "version": 3
   },
   "file_extension": ".py",
   "mimetype": "text/x-python",
   "name": "python",
   "nbconvert_exporter": "python",
   "pygments_lexer": "ipython3",
   "version": "3.8.10"
  },
  "orig_nbformat": 4,
  "vscode": {
   "interpreter": {
    "hash": "916dbcbb3f70747c44a77c7bcd40155683ae19c65e1c03b4aa3499c5328201f1"
   }
  }
 },
 "nbformat": 4,
 "nbformat_minor": 2
}
