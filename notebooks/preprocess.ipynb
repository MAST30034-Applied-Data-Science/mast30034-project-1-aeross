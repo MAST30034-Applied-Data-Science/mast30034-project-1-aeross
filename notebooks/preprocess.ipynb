{
 "cells": [
  {
   "cell_type": "code",
   "execution_count": 10,
   "metadata": {},
   "outputs": [
    {
     "name": "stdout",
     "output_type": "stream",
     "text": [
      "22/08/18 11:20:17 WARN Utils: Your hostname, MSI resolves to a loopback address: 127.0.1.1; using 192.168.207.1 instead (on interface eth1)\n",
      "22/08/18 11:20:17 WARN Utils: Set SPARK_LOCAL_IP if you need to bind to another address\n"
     ]
    },
    {
     "name": "stderr",
     "output_type": "stream",
     "text": [
      "Setting default log level to \"WARN\".\n",
      "To adjust logging level use sc.setLogLevel(newLevel). For SparkR, use setLogLevel(newLevel).\n"
     ]
    },
    {
     "name": "stdout",
     "output_type": "stream",
     "text": [
      "22/08/18 11:20:18 WARN NativeCodeLoader: Unable to load native-hadoop library for your platform... using builtin-java classes where applicable\n"
     ]
    }
   ],
   "source": [
    "### all the necessary imports\n",
    "\n",
    "# python script imports\n",
    "import sys\n",
    "sys.path.insert(0, '../scripts')\n",
    "from sparkshape import *\n",
    "\n",
    "# This is copied from tutorial 1\n",
    "from pyspark.sql import SparkSession\n",
    "\n",
    "# Create a spark session (which will run spark jobs)\n",
    "spark = (\n",
    "    SparkSession.builder.appName(\"MAST30034 Tutorial 1\")\n",
    "    .config(\"spark.sql.repl.eagerEval.enabled\", True) \n",
    "    .config(\"spark.sql.parquet.cacheMetadata\", \"true\")\n",
    "    .config(\"spark.sql.session.timeZone\", \"Etc/UTC\")\n",
    "    .config(\"spark.executor.memory\", \"2g\")\n",
    "    .config(\"spark.driver.memory\", \"4g\")\n",
    "    .getOrCreate()\n",
    ")\n",
    "\n",
    "# other imports\n",
    "from pyspark.sql.functions import col\n",
    "from pyspark.sql.functions import unix_timestamp"
   ]
  },
  {
   "cell_type": "code",
   "execution_count": 2,
   "metadata": {},
   "outputs": [
    {
     "name": "stderr",
     "output_type": "stream",
     "text": [
      "                                                                                \r"
     ]
    },
    {
     "name": "stdout",
     "output_type": "stream",
     "text": [
      "root\n",
      " |-- VendorID: long (nullable = true)\n",
      " |-- lpep_pickup_datetime: timestamp (nullable = true)\n",
      " |-- lpep_dropoff_datetime: timestamp (nullable = true)\n",
      " |-- store_and_fwd_flag: string (nullable = true)\n",
      " |-- RatecodeID: double (nullable = true)\n",
      " |-- PULocationID: long (nullable = true)\n",
      " |-- DOLocationID: long (nullable = true)\n",
      " |-- passenger_count: double (nullable = true)\n",
      " |-- trip_distance: double (nullable = true)\n",
      " |-- fare_amount: double (nullable = true)\n",
      " |-- extra: double (nullable = true)\n",
      " |-- mta_tax: double (nullable = true)\n",
      " |-- tip_amount: double (nullable = true)\n",
      " |-- tolls_amount: double (nullable = true)\n",
      " |-- ehail_fee: double (nullable = true)\n",
      " |-- improvement_surcharge: double (nullable = true)\n",
      " |-- total_amount: double (nullable = true)\n",
      " |-- payment_type: double (nullable = true)\n",
      " |-- trip_type: double (nullable = true)\n",
      " |-- congestion_surcharge: double (nullable = true)\n",
      "\n",
      "+--------+--------------------+---------------------+------------------+----------+------------+------------+---------------+-------------+-----------+-----+-------+----------+------------+---------+---------------------+------------+------------+---------+--------------------+\n",
      "|VendorID|lpep_pickup_datetime|lpep_dropoff_datetime|store_and_fwd_flag|RatecodeID|PULocationID|DOLocationID|passenger_count|trip_distance|fare_amount|extra|mta_tax|tip_amount|tolls_amount|ehail_fee|improvement_surcharge|total_amount|payment_type|trip_type|congestion_surcharge|\n",
      "+--------+--------------------+---------------------+------------------+----------+------------+------------+---------------+-------------+-----------+-----+-------+----------+------------+---------+---------------------+------------+------------+---------+--------------------+\n",
      "|       2| 2018-12-21 15:17:29|  2018-12-21 15:18:57|                 N|       1.0|         264|         264|            5.0|          0.0|        3.0|  0.5|    0.5|       0.0|         0.0|     null|                  0.3|         4.3|         2.0|      1.0|                null|\n",
      "|       2| 2019-01-01 00:10:16|  2019-01-01 00:16:32|                 N|       1.0|          97|          49|            2.0|         0.86|        6.0|  0.5|    0.5|       0.0|         0.0|     null|                  0.3|         7.3|         2.0|      1.0|                null|\n",
      "|       2| 2019-01-01 00:27:11|  2019-01-01 00:31:38|                 N|       1.0|          49|         189|            2.0|         0.66|        4.5|  0.5|    0.5|       0.0|         0.0|     null|                  0.3|         5.8|         1.0|      1.0|                null|\n",
      "|       2| 2019-01-01 00:46:20|  2019-01-01 01:04:54|                 N|       1.0|         189|          17|            2.0|         2.68|       13.5|  0.5|    0.5|      2.96|         0.0|     null|                  0.3|       19.71|         1.0|      1.0|                null|\n",
      "|       2| 2019-01-01 00:19:06|  2019-01-01 00:39:43|                 N|       1.0|          82|         258|            1.0|         4.53|       18.0|  0.5|    0.5|       0.0|         0.0|     null|                  0.3|        19.3|         2.0|      1.0|                null|\n",
      "|       2| 2019-01-01 00:12:35|  2019-01-01 00:19:09|                 N|       1.0|          49|          17|            1.0|         1.05|        6.5|  0.5|    0.5|       0.0|         0.0|     null|                  0.3|         7.8|         1.0|      1.0|                null|\n",
      "|       2| 2019-01-01 00:47:55|  2019-01-01 01:00:01|                 N|       1.0|         255|          33|            1.0|         3.77|       13.5|  0.5|    0.5|       0.0|         0.0|     null|                  0.3|        14.8|         1.0|      1.0|                null|\n",
      "|       1| 2019-01-01 00:12:47|  2019-01-01 00:30:50|                 N|       1.0|          76|         225|            1.0|          4.1|       16.0|  0.5|    0.5|       0.0|         0.0|     null|                  0.3|        17.3|         1.0|      1.0|                null|\n",
      "|       2| 2019-01-01 00:16:23|  2019-01-01 00:39:46|                 N|       1.0|          25|          89|            1.0|         7.75|       25.5|  0.5|    0.5|       0.0|         0.0|     null|                  0.3|        26.8|         1.0|      1.0|                null|\n",
      "|       2| 2019-01-01 00:58:02|  2019-01-01 01:19:02|                 N|       1.0|          85|          39|            1.0|         3.68|       15.5|  0.5|    0.5|       0.0|         0.0|     null|                  0.3|        16.8|         1.0|      1.0|                null|\n",
      "|       2| 2019-01-01 00:37:00|  2019-01-01 00:56:42|                 N|       1.0|         223|         238|            1.0|         6.84|       22.0|  0.5|    0.5|       8.0|        5.76|     null|                  0.3|       37.06|         1.0|      1.0|                null|\n",
      "|       2| 2019-01-01 00:13:48|  2019-01-01 00:21:00|                 N|       1.0|         129|         129|            2.0|         1.15|        6.5|  0.5|    0.5|      1.56|         0.0|     null|                  0.3|        9.36|         1.0|      1.0|                null|\n",
      "|       2| 2019-01-01 00:19:59|  2019-01-01 00:45:50|                 N|       1.0|          71|          71|            1.0|         0.49|       15.5|  0.5|    0.5|       0.0|         0.0|     null|                  0.3|        16.8|         1.0|      1.0|                null|\n",
      "|       2| 2019-01-01 00:57:57|  2019-01-01 01:20:10|                 N|       1.0|          85|         177|            1.0|         3.61|       17.0|  0.5|    0.5|       0.0|         0.0|     null|                  0.3|        18.3|         1.0|      1.0|                null|\n",
      "|       1| 2019-01-01 00:09:02|  2019-01-01 00:17:50|                 N|       1.0|         256|          80|            1.0|          1.2|        7.5|  0.5|    0.5|       5.2|         0.0|     null|                  0.3|        14.0|         1.0|      1.0|                null|\n",
      "|       1| 2019-01-01 00:22:12|  2019-01-01 00:25:29|                 N|       1.0|          80|          80|            1.0|          0.5|        4.0|  0.5|    0.5|       0.0|         0.0|     null|                  0.3|         5.3|         2.0|      1.0|                null|\n",
      "|       1| 2019-01-01 00:31:55|  2019-01-01 00:52:59|                 N|       1.0|         256|         229|            1.0|          5.5|       19.5|  0.5|    0.5|      4.15|         0.0|     null|                  0.3|       24.95|         1.0|      1.0|                null|\n",
      "|       2| 2019-01-01 00:30:20|  2019-01-01 00:54:19|                 N|       1.0|         255|         231|            1.0|         5.01|       20.0|  0.5|    0.5|      4.26|         0.0|     null|                  0.3|       25.56|         1.0|      1.0|                null|\n",
      "|       2| 2018-12-31 23:58:06|  2019-01-01 00:00:57|                 N|       1.0|         146|           7|            1.0|         0.43|        4.0|  0.5|    0.5|      1.06|         0.0|     null|                  0.3|        6.36|         1.0|      1.0|                null|\n",
      "|       2| 2019-01-01 00:40:17|  2019-01-01 00:50:23|                 N|       1.0|         146|         129|            1.0|         2.72|       10.5|  0.5|    0.5|      2.36|         0.0|     null|                  0.3|       14.16|         1.0|      1.0|                null|\n",
      "+--------+--------------------+---------------------+------------------+----------+------------+------------+---------------+-------------+-----------+-----+-------+----------+------------+---------+---------------------+------------+------------+---------+--------------------+\n",
      "only showing top 20 rows\n",
      "\n"
     ]
    }
   ],
   "source": [
    "# let's import all the green taxi data for the year 2019 and take a closer look into what the data looks like\n",
    "sdf_g = spark.read.parquet(\"../data/raw/green/\")\n",
    "sdf_g.printSchema()\n",
    "sdf_g.show()"
   ]
  },
  {
   "cell_type": "code",
   "execution_count": 3,
   "metadata": {},
   "outputs": [],
   "source": [
    "# Alright! Now that I've had a good idea what this data looks like, let's remove ehail_fee out of the data \n",
    "# because the values in ehail_fee are always null. I also need data for the length of each trip, and that is acquired by calculating\n",
    "# the difference between lpep_pickup_datetime and lpep_dropoff_datetime.\n",
    "time_diff = unix_timestamp(\"lpep_dropoff_datetime\") - unix_timestamp(\"lpep_pickup_datetime\")\n",
    "sdf_g = sdf_g.drop(col(\"ehail_fee\"))\n",
    "sdf_g = sdf_g.withColumn(\"trip_duration\", time_diff)"
   ]
  },
  {
   "cell_type": "code",
   "execution_count": 4,
   "metadata": {},
   "outputs": [
    {
     "name": "stderr",
     "output_type": "stream",
     "text": [
      "[Stage 2:>                                                         (0 + 8) / 11]\r"
     ]
    },
    {
     "name": "stdout",
     "output_type": "stream",
     "text": [
      "22/08/10 12:12:35 WARN MemoryManager: Total allocation exceeds 95.00% (906,992,014 bytes) of heap memory\n",
      "Scaling row group sizes to 96.54% for 7 writers\n",
      "22/08/10 12:12:35 WARN MemoryManager: Total allocation exceeds 95.00% (906,992,014 bytes) of heap memory\n",
      "Scaling row group sizes to 84.47% for 8 writers\n",
      "22/08/10 12:12:42 WARN MemoryManager: Total allocation exceeds 95.00% (906,992,014 bytes) of heap memory\n",
      "Scaling row group sizes to 96.54% for 7 writers\n"
     ]
    },
    {
     "name": "stderr",
     "output_type": "stream",
     "text": [
      "[Stage 2:==========>                                               (2 + 8) / 11]\r"
     ]
    },
    {
     "name": "stdout",
     "output_type": "stream",
     "text": [
      "22/08/10 12:12:42 WARN MemoryManager: Total allocation exceeds 95.00% (906,992,014 bytes) of heap memory\n",
      "Scaling row group sizes to 96.54% for 7 writers\n",
      "22/08/10 12:12:43 WARN MemoryManager: Total allocation exceeds 95.00% (906,992,014 bytes) of heap memory\n",
      "Scaling row group sizes to 84.47% for 8 writers\n",
      "22/08/10 12:12:43 WARN MemoryManager: Total allocation exceeds 95.00% (906,992,014 bytes) of heap memory\n",
      "Scaling row group sizes to 96.54% for 7 writers\n"
     ]
    },
    {
     "name": "stderr",
     "output_type": "stream",
     "text": [
      "                                                                                \r"
     ]
    }
   ],
   "source": [
    "# save this as a new parquet file\n",
    "sdf_g.write.mode(\"overwrite\").parquet(\"../data/curated/green\")\n",
    "# to copy what tute1 said: \"Your directory might look a bit funky. Don't worry, just leave it as is,\n",
    "# (we don't have time to cover everything about Spark unfortunately) and you can just read in the directory as is.\"\n",
    "# I TAKE YOUR WORD FOR THIS, OKAY!!"
   ]
  },
  {
   "cell_type": "markdown",
   "metadata": {},
   "source": [
    "Now, do the same thing (yes, same exact thing) for the yellow taxi data."
   ]
  },
  {
   "cell_type": "code",
   "execution_count": 11,
   "metadata": {},
   "outputs": [
    {
     "name": "stderr",
     "output_type": "stream",
     "text": [
      "                                                                                \r"
     ]
    },
    {
     "name": "stdout",
     "output_type": "stream",
     "text": [
      "root\n",
      " |-- VendorID: long (nullable = true)\n",
      " |-- tpep_pickup_datetime: timestamp (nullable = true)\n",
      " |-- tpep_dropoff_datetime: timestamp (nullable = true)\n",
      " |-- passenger_count: double (nullable = true)\n",
      " |-- trip_distance: double (nullable = true)\n",
      " |-- RatecodeID: double (nullable = true)\n",
      " |-- store_and_fwd_flag: string (nullable = true)\n",
      " |-- PULocationID: long (nullable = true)\n",
      " |-- DOLocationID: long (nullable = true)\n",
      " |-- payment_type: long (nullable = true)\n",
      " |-- fare_amount: double (nullable = true)\n",
      " |-- extra: double (nullable = true)\n",
      " |-- mta_tax: double (nullable = true)\n",
      " |-- tip_amount: double (nullable = true)\n",
      " |-- tolls_amount: double (nullable = true)\n",
      " |-- improvement_surcharge: double (nullable = true)\n",
      " |-- total_amount: double (nullable = true)\n",
      " |-- congestion_surcharge: double (nullable = true)\n",
      " |-- airport_fee: integer (nullable = true)\n",
      "\n"
     ]
    },
    {
     "name": "stderr",
     "output_type": "stream",
     "text": [
      "                                                                                \r"
     ]
    },
    {
     "name": "stdout",
     "output_type": "stream",
     "text": [
      "+--------+--------------------+---------------------+---------------+-------------+----------+------------------+------------+------------+------------+-----------+-----+-------+----------+------------+---------------------+------------+--------------------+-----------+\n",
      "|VendorID|tpep_pickup_datetime|tpep_dropoff_datetime|passenger_count|trip_distance|RatecodeID|store_and_fwd_flag|PULocationID|DOLocationID|payment_type|fare_amount|extra|mta_tax|tip_amount|tolls_amount|improvement_surcharge|total_amount|congestion_surcharge|airport_fee|\n",
      "+--------+--------------------+---------------------+---------------+-------------+----------+------------------+------------+------------+------------+-----------+-----+-------+----------+------------+---------------------+------------+--------------------+-----------+\n",
      "|       1| 2019-01-01 00:46:40|  2019-01-01 00:53:20|            1.0|          1.5|       1.0|                 N|         151|         239|           1|        7.0|  0.5|    0.5|      1.65|         0.0|                  0.3|        9.95|                null|       null|\n",
      "|       1| 2019-01-01 00:59:47|  2019-01-01 01:18:59|            1.0|          2.6|       1.0|                 N|         239|         246|           1|       14.0|  0.5|    0.5|       1.0|         0.0|                  0.3|        16.3|                null|       null|\n",
      "|       2| 2018-12-21 13:48:30|  2018-12-21 13:52:40|            3.0|          0.0|       1.0|                 N|         236|         236|           1|        4.5|  0.5|    0.5|       0.0|         0.0|                  0.3|         5.8|                null|       null|\n",
      "|       2| 2018-11-28 15:52:25|  2018-11-28 15:55:45|            5.0|          0.0|       1.0|                 N|         193|         193|           2|        3.5|  0.5|    0.5|       0.0|         0.0|                  0.3|        7.55|                null|       null|\n",
      "|       2| 2018-11-28 15:56:57|  2018-11-28 15:58:33|            5.0|          0.0|       2.0|                 N|         193|         193|           2|       52.0|  0.0|    0.5|       0.0|         0.0|                  0.3|       55.55|                null|       null|\n",
      "|       2| 2018-11-28 16:25:49|  2018-11-28 16:28:26|            5.0|          0.0|       1.0|                 N|         193|         193|           2|        3.5|  0.5|    0.5|       0.0|        5.76|                  0.3|       13.31|                null|       null|\n",
      "|       2| 2018-11-28 16:29:37|  2018-11-28 16:33:43|            5.0|          0.0|       2.0|                 N|         193|         193|           2|       52.0|  0.0|    0.5|       0.0|         0.0|                  0.3|       55.55|                null|       null|\n",
      "|       1| 2019-01-01 00:21:28|  2019-01-01 00:28:37|            1.0|          1.3|       1.0|                 N|         163|         229|           1|        6.5|  0.5|    0.5|      1.25|         0.0|                  0.3|        9.05|                null|       null|\n",
      "|       1| 2019-01-01 00:32:01|  2019-01-01 00:45:39|            1.0|          3.7|       1.0|                 N|         229|           7|           1|       13.5|  0.5|    0.5|       3.7|         0.0|                  0.3|        18.5|                null|       null|\n",
      "|       1| 2019-01-01 00:57:32|  2019-01-01 01:09:32|            2.0|          2.1|       1.0|                 N|         141|         234|           1|       10.0|  0.5|    0.5|       1.7|         0.0|                  0.3|        13.0|                null|       null|\n",
      "|       1| 2019-01-01 00:24:04|  2019-01-01 00:47:06|            2.0|          2.8|       1.0|                 N|         246|         162|           1|       15.0|  0.5|    0.5|      3.25|         0.0|                  0.3|       19.55|                null|       null|\n",
      "|       1| 2019-01-01 00:21:59|  2019-01-01 00:28:24|            1.0|          0.7|       1.0|                 N|         238|         151|           1|        5.5|  0.5|    0.5|       1.7|         0.0|                  0.3|         8.5|                null|       null|\n",
      "|       1| 2019-01-01 00:45:21|  2019-01-01 01:31:05|            1.0|          8.7|       1.0|                 N|         163|          25|           1|       34.5|  0.5|    0.5|      7.15|         0.0|                  0.3|       42.95|                null|       null|\n",
      "|       1| 2019-01-01 00:43:19|  2019-01-01 01:07:42|            1.0|          6.3|       1.0|                 N|         224|          25|           1|       21.5|  0.5|    0.5|       5.7|         0.0|                  0.3|        28.5|                null|       null|\n",
      "|       1| 2019-01-01 00:58:24|  2019-01-01 01:15:18|            1.0|          2.7|       1.0|                 N|         141|         234|           1|       13.0|  0.5|    0.5|       1.0|         0.0|                  0.3|        15.3|                null|       null|\n",
      "|       2| 2019-01-01 00:23:14|  2019-01-01 00:25:40|            1.0|         0.38|       1.0|                 N|         170|         170|           2|        3.5|  0.5|    0.5|       0.0|         0.0|                  0.3|         4.8|                null|       null|\n",
      "|       2| 2019-01-01 00:39:51|  2019-01-01 00:48:02|            1.0|         0.55|       1.0|                 N|         170|         170|           1|        6.5|  0.5|    0.5|      1.95|         0.0|                  0.3|        9.75|                null|       null|\n",
      "|       2| 2019-01-01 00:46:00|  2019-01-01 00:49:07|            1.0|          0.3|       1.0|                 N|         107|         107|           1|        4.0|  0.5|    0.5|      1.06|         0.0|                  0.3|        6.36|                null|       null|\n",
      "|       2| 2019-01-01 00:57:45|  2019-01-01 01:03:51|            1.0|         1.42|       1.0|                 N|         170|         141|           1|        6.5|  0.5|    0.5|      1.56|         0.0|                  0.3|        9.36|                null|       null|\n",
      "|       2| 2019-01-01 00:16:16|  2019-01-01 00:25:57|            1.0|         1.72|       1.0|                 N|          41|         247|           2|        9.0|  0.5|    0.5|       0.0|         0.0|                  0.3|        10.3|                null|       null|\n",
      "+--------+--------------------+---------------------+---------------+-------------+----------+------------------+------------+------------+------------+-----------+-----+-------+----------+------------+---------------------+------------+--------------------+-----------+\n",
      "only showing top 20 rows\n",
      "\n"
     ]
    }
   ],
   "source": [
    "sdf_y = spark.read.parquet(\"../data/raw/yellow/2019-01.parquet\")\n",
    "sdf_y.printSchema()\n",
    "sdf_y.show()"
   ]
  },
  {
   "cell_type": "markdown",
   "metadata": {},
   "source": [
    "It seems like there is no ehail_fee unlike the green data. All is good to proceed to the next step."
   ]
  },
  {
   "cell_type": "code",
   "execution_count": 12,
   "metadata": {},
   "outputs": [],
   "source": [
    "time_diff = unix_timestamp(\"tpep_dropoff_datetime\") - unix_timestamp(\"tpep_pickup_datetime\")\n",
    "sdf_y = sdf_y.withColumn(\"trip_duration\", time_diff)\n",
    "sdf_y = sdf_y.select(col(\"tpep_pickup_datetime\"), col(\"tpep_dropoff_datetime\"), col(\"trip_distance\"), \\\n",
    "    col(\"trip_duration\"), col(\"PULocationID\"), col(\"DOLocationID\"))\n",
    "sdf_y = sdf_y.sort(col(\"tpep_pickup_datetime\"),col(\"tpep_dropoff_datetime\"))"
   ]
  },
  {
   "cell_type": "code",
   "execution_count": 13,
   "metadata": {},
   "outputs": [
    {
     "name": "stderr",
     "output_type": "stream",
     "text": [
      "ERROR:root:KeyboardInterrupt while sending command.                 (3 + 6) / 9]\n",
      "Traceback (most recent call last):\n",
      "  File \"/home/andrew/.local/lib/python3.8/site-packages/py4j/java_gateway.py\", line 1038, in send_command\n",
      "    response = connection.send_command(command)\n",
      "  File \"/home/andrew/.local/lib/python3.8/site-packages/py4j/clientserver.py\", line 511, in send_command\n",
      "    answer = smart_decode(self.stream.readline()[:-1])\n",
      "  File \"/usr/lib/python3.8/socket.py\", line 669, in readinto\n",
      "    return self._sock.recv_into(b)\n",
      "KeyboardInterrupt\n",
      "                                                                                \r"
     ]
    },
    {
     "ename": "KeyboardInterrupt",
     "evalue": "",
     "output_type": "error",
     "traceback": [
      "\u001b[0;31m---------------------------------------------------------------------------\u001b[0m",
      "\u001b[0;31mKeyboardInterrupt\u001b[0m                         Traceback (most recent call last)",
      "\u001b[1;32m/mnt/c/Users/andre/Downloads/Unimelb/MAST30034 Applied Data Science/Project 1/GitHub/notebooks/preprocess.ipynb Cell 9\u001b[0m in \u001b[0;36m<cell line: 1>\u001b[0;34m()\u001b[0m\n\u001b[0;32m----> <a href='vscode-notebook-cell://wsl%2Bubuntu/mnt/c/Users/andre/Downloads/Unimelb/MAST30034%20Applied%20Data%20Science/Project%201/GitHub/notebooks/preprocess.ipynb#X11sdnNjb2RlLXJlbW90ZQ%3D%3D?line=0'>1</a>\u001b[0m sdf_y\u001b[39m.\u001b[39;49mcollect()[\u001b[39m0\u001b[39m][\u001b[39m0\u001b[39m]\n",
      "File \u001b[0;32m~/.local/lib/python3.8/site-packages/pyspark/sql/dataframe.py:817\u001b[0m, in \u001b[0;36mDataFrame.collect\u001b[0;34m(self)\u001b[0m\n\u001b[1;32m    807\u001b[0m \u001b[39m\"\"\"Returns all the records as a list of :class:`Row`.\u001b[39;00m\n\u001b[1;32m    808\u001b[0m \n\u001b[1;32m    809\u001b[0m \u001b[39m.. versionadded:: 1.3.0\u001b[39;00m\n\u001b[0;32m   (...)\u001b[0m\n\u001b[1;32m    814\u001b[0m \u001b[39m[Row(age=2, name='Alice'), Row(age=5, name='Bob')]\u001b[39;00m\n\u001b[1;32m    815\u001b[0m \u001b[39m\"\"\"\u001b[39;00m\n\u001b[1;32m    816\u001b[0m \u001b[39mwith\u001b[39;00m SCCallSiteSync(\u001b[39mself\u001b[39m\u001b[39m.\u001b[39m_sc):\n\u001b[0;32m--> 817\u001b[0m     sock_info \u001b[39m=\u001b[39m \u001b[39mself\u001b[39;49m\u001b[39m.\u001b[39;49m_jdf\u001b[39m.\u001b[39;49mcollectToPython()\n\u001b[1;32m    818\u001b[0m \u001b[39mreturn\u001b[39;00m \u001b[39mlist\u001b[39m(_load_from_socket(sock_info, BatchedSerializer(CPickleSerializer())))\n",
      "File \u001b[0;32m~/.local/lib/python3.8/site-packages/py4j/java_gateway.py:1320\u001b[0m, in \u001b[0;36mJavaMember.__call__\u001b[0;34m(self, *args)\u001b[0m\n\u001b[1;32m   1313\u001b[0m args_command, temp_args \u001b[39m=\u001b[39m \u001b[39mself\u001b[39m\u001b[39m.\u001b[39m_build_args(\u001b[39m*\u001b[39margs)\n\u001b[1;32m   1315\u001b[0m command \u001b[39m=\u001b[39m proto\u001b[39m.\u001b[39mCALL_COMMAND_NAME \u001b[39m+\u001b[39m\\\n\u001b[1;32m   1316\u001b[0m     \u001b[39mself\u001b[39m\u001b[39m.\u001b[39mcommand_header \u001b[39m+\u001b[39m\\\n\u001b[1;32m   1317\u001b[0m     args_command \u001b[39m+\u001b[39m\\\n\u001b[1;32m   1318\u001b[0m     proto\u001b[39m.\u001b[39mEND_COMMAND_PART\n\u001b[0;32m-> 1320\u001b[0m answer \u001b[39m=\u001b[39m \u001b[39mself\u001b[39;49m\u001b[39m.\u001b[39;49mgateway_client\u001b[39m.\u001b[39;49msend_command(command)\n\u001b[1;32m   1321\u001b[0m return_value \u001b[39m=\u001b[39m get_return_value(\n\u001b[1;32m   1322\u001b[0m     answer, \u001b[39mself\u001b[39m\u001b[39m.\u001b[39mgateway_client, \u001b[39mself\u001b[39m\u001b[39m.\u001b[39mtarget_id, \u001b[39mself\u001b[39m\u001b[39m.\u001b[39mname)\n\u001b[1;32m   1324\u001b[0m \u001b[39mfor\u001b[39;00m temp_arg \u001b[39min\u001b[39;00m temp_args:\n",
      "File \u001b[0;32m~/.local/lib/python3.8/site-packages/py4j/java_gateway.py:1038\u001b[0m, in \u001b[0;36mGatewayClient.send_command\u001b[0;34m(self, command, retry, binary)\u001b[0m\n\u001b[1;32m   1036\u001b[0m connection \u001b[39m=\u001b[39m \u001b[39mself\u001b[39m\u001b[39m.\u001b[39m_get_connection()\n\u001b[1;32m   1037\u001b[0m \u001b[39mtry\u001b[39;00m:\n\u001b[0;32m-> 1038\u001b[0m     response \u001b[39m=\u001b[39m connection\u001b[39m.\u001b[39;49msend_command(command)\n\u001b[1;32m   1039\u001b[0m     \u001b[39mif\u001b[39;00m binary:\n\u001b[1;32m   1040\u001b[0m         \u001b[39mreturn\u001b[39;00m response, \u001b[39mself\u001b[39m\u001b[39m.\u001b[39m_create_connection_guard(connection)\n",
      "File \u001b[0;32m~/.local/lib/python3.8/site-packages/py4j/clientserver.py:511\u001b[0m, in \u001b[0;36mClientServerConnection.send_command\u001b[0;34m(self, command)\u001b[0m\n\u001b[1;32m    509\u001b[0m \u001b[39mtry\u001b[39;00m:\n\u001b[1;32m    510\u001b[0m     \u001b[39mwhile\u001b[39;00m \u001b[39mTrue\u001b[39;00m:\n\u001b[0;32m--> 511\u001b[0m         answer \u001b[39m=\u001b[39m smart_decode(\u001b[39mself\u001b[39;49m\u001b[39m.\u001b[39;49mstream\u001b[39m.\u001b[39;49mreadline()[:\u001b[39m-\u001b[39m\u001b[39m1\u001b[39m])\n\u001b[1;32m    512\u001b[0m         logger\u001b[39m.\u001b[39mdebug(\u001b[39m\"\u001b[39m\u001b[39mAnswer received: \u001b[39m\u001b[39m{0}\u001b[39;00m\u001b[39m\"\u001b[39m\u001b[39m.\u001b[39mformat(answer))\n\u001b[1;32m    513\u001b[0m         \u001b[39m# Happens when a the other end is dead. There might be an empty\u001b[39;00m\n\u001b[1;32m    514\u001b[0m         \u001b[39m# answer before the socket raises an error.\u001b[39;00m\n",
      "File \u001b[0;32m/usr/lib/python3.8/socket.py:669\u001b[0m, in \u001b[0;36mSocketIO.readinto\u001b[0;34m(self, b)\u001b[0m\n\u001b[1;32m    667\u001b[0m \u001b[39mwhile\u001b[39;00m \u001b[39mTrue\u001b[39;00m:\n\u001b[1;32m    668\u001b[0m     \u001b[39mtry\u001b[39;00m:\n\u001b[0;32m--> 669\u001b[0m         \u001b[39mreturn\u001b[39;00m \u001b[39mself\u001b[39;49m\u001b[39m.\u001b[39;49m_sock\u001b[39m.\u001b[39;49mrecv_into(b)\n\u001b[1;32m    670\u001b[0m     \u001b[39mexcept\u001b[39;00m timeout:\n\u001b[1;32m    671\u001b[0m         \u001b[39mself\u001b[39m\u001b[39m.\u001b[39m_timeout_occurred \u001b[39m=\u001b[39m \u001b[39mTrue\u001b[39;00m\n",
      "\u001b[0;31mKeyboardInterrupt\u001b[0m: "
     ]
    }
   ],
   "source": [
    "sdf_y.collect()[0][0]"
   ]
  },
  {
   "cell_type": "code",
   "execution_count": 7,
   "metadata": {},
   "outputs": [
    {
     "name": "stderr",
     "output_type": "stream",
     "text": [
      "                                                                                \r"
     ]
    },
    {
     "name": "stdout",
     "output_type": "stream",
     "text": [
      "22/08/10 14:19:14 WARN HeartbeatReceiver: Removing executor driver with no recent heartbeats: 904277 ms exceeds timeout 120000 ms\n",
      "22/08/10 14:19:14 WARN SparkContext: Killing executors is not supported by current scheduler.\n"
     ]
    }
   ],
   "source": [
    "for i in range(1, 13):\n",
    "    if i < 10:\n",
    "        sdf_y = spark.read.parquet(\"../data/raw/yellow/2019-0\" + str(i) + \".parquet\")\n",
    "        time_diff = unix_timestamp(\"tpep_dropoff_datetime\") - unix_timestamp(\"tpep_pickup_datetime\")\n",
    "        sdf_y = sdf_y.withColumn(\"trip_duration\", time_diff)\n",
    "        sdf_y.write.mode(\"overwrite\").parquet(\"../data/curated/yellow/2019-0\" + str(i))\n",
    "    else:\n",
    "        sdf_y = spark.read.parquet(\"../data/raw/yellow/2019-\" + str(i) + \".parquet\")\n",
    "        time_diff = unix_timestamp(\"tpep_dropoff_datetime\") - unix_timestamp(\"tpep_pickup_datetime\")\n",
    "        sdf_y = sdf_y.withColumn(\"trip_duration\", time_diff)\n",
    "        sdf_y.write.mode(\"overwrite\").parquet(\"../data/curated/yellow/2019-\" + str(i))"
   ]
  },
  {
   "cell_type": "markdown",
   "metadata": {},
   "source": [
    "On a day-to-day basis, compare a number of attributes to the total number of crashes in that timeframe.\n",
    "In one day, the rows are further broken down into: the month (to account for the average weather condition), the daylight (day or night), the most common human waking hours (11 PM to 7 AM vs the rest of the day), and rush hours [FOR WEEKDAYS AND NON-PUBLIC HOLIDAYS ONLY].\n",
    "\n",
    "For the rush hours, the TLC defines it as a period between 4 PM to 8 PM, which is arbitrary because there should be rush hours in the morning as well. The true time period of rush hours can be obtained by measuring the average speed of all taxi trips measured on that day. However, that arbitrary definition should be good enough to use because, (1) there will be a significant increase in the amount of time and effort to analyse the average speed data day-by-day, (2) chances are the most of the period between 4 to 8 PM will overlap with the actual true period measured by taxi speed, (3) the speed difference during the day between the rush and non-rush hours might not be too big anyway, compared to the speed difference between day and night.\n",
    "\n",
    "For the waking vs non-waking hours, it is again somewhat arbitrary, but it's pretty close to the data gathered by Sleep Cycle.\n",
    "https://www.sleepcycle.com/sleep-science/what-we-know-about-americas-healthiest-happiest-best-rested/\n",
    "\n",
    "Unfortunately, there is no data for the education status, income, age, and driving experience for taxi drivers in new york, as a significant amount of crashes are caused by human errors and disobeyment of road rules. So, we gotta make do with what we got.\n",
    "\n",
    "\n",
    "1. Read twilight data, convert datetime into three columns of data: one for the month, one for day or night taken from the twilight data, one for the peak hour or non-peak hour.\n",
    "2. That makes it three attributes. The fourth one is the number of trips completed per instance, from the yellow plus green taxi data.\n",
    "3. On the weekends and public holidays, there will be no rush vs non-rush hours, there will just be another value in the attribute labelled \"OFF\" in the rush_hours column.\n",
    "4. In addition, the average human waking vs sleeping hours will be included.\n",
    "5. The location of the crash is probably the most complicated part. Join location and get its location ID from the crash data. (note: rtree or pygeos need to be installed)\n",
    "7. Any additional attributes will be improvised along the way.\n",
    "\n",
    "ANALYSIS\n",
    "1. Definitely linear regression.\n",
    "2. What else, I don't know.\n",
    "\n",
    "attributes:   [\"month, daylight, waking_hours, rush_hours, locationID, num_victims (injured + killed), num_vehicles_involved, total_num_of_taxi_trips]\n",
    "response: [\"total number of crashes\"]\n"
   ]
  },
  {
   "cell_type": "markdown",
   "metadata": {},
   "source": [
    "1. Read twilight data, convert datetime into three columns of data: one for the month, one for day or night taken from the twilight data, one for the peak hour or non-peak hour.\n",
    "2. The rush or peak hours will be obtained by the average speed in which the taxis travel in a given time, every 10 minutes. The trend then can be seen smoothly in a graph. (maybe divide into 3 section: one for rush hours, one for normal, and one for really empty streets where vehicles can go so fast)\n",
    "3. Do this on the weekends and public holidays as well.\n",
    "See the trends, and decide which hours to divide.\n",
    "4. In addition, the average human waking vs sleeping hours will be included.\n",
    "5. The location of the crash is probably the most complicated part. Join location and get its location ID from the crash data.\n",
    "7. Any additional attributes will be added and improvised along the way."
   ]
  },
  {
   "cell_type": "markdown",
   "metadata": {},
   "source": [
    "-------------------------------------------------------------------------------------------------------------------------------------------------"
   ]
  },
  {
   "cell_type": "markdown",
   "metadata": {},
   "source": [
    "Okay, I'm **done** with spark. The iloc[] equivalent to pandas (collect()) is broken and seems to be taking forever to run, the timezone is messed up and the \"timestamp\" data type doesn't match properly with datetime(), so there is no way to precisely see data outside of 2019 nor there is a way to filter out specific dates to find out weekdays/weekends and public holidays, nor there is an accurate way to see day vs night.\n",
    "\n",
    "Moving on to the ol' reliable pandas."
   ]
  },
  {
   "cell_type": "code",
   "execution_count": 2,
   "metadata": {},
   "outputs": [],
   "source": [
    "import pandas as pd\n",
    "import numpy as np\n",
    "from datetime import datetime"
   ]
  },
  {
   "cell_type": "code",
   "execution_count": 3,
   "metadata": {},
   "outputs": [
    {
     "data": {
      "text/html": [
       "<div>\n",
       "<style scoped>\n",
       "    .dataframe tbody tr th:only-of-type {\n",
       "        vertical-align: middle;\n",
       "    }\n",
       "\n",
       "    .dataframe tbody tr th {\n",
       "        vertical-align: top;\n",
       "    }\n",
       "\n",
       "    .dataframe thead th {\n",
       "        text-align: right;\n",
       "    }\n",
       "</style>\n",
       "<table border=\"1\" class=\"dataframe\">\n",
       "  <thead>\n",
       "    <tr style=\"text-align: right;\">\n",
       "      <th></th>\n",
       "      <th>tpep_pickup_datetime</th>\n",
       "      <th>tpep_dropoff_datetime</th>\n",
       "      <th>trip_distance</th>\n",
       "      <th>PULocationID</th>\n",
       "      <th>DOLocationID</th>\n",
       "    </tr>\n",
       "  </thead>\n",
       "  <tbody>\n",
       "    <tr>\n",
       "      <th>0</th>\n",
       "      <td>2019-01-01 00:46:40</td>\n",
       "      <td>2019-01-01 00:53:20</td>\n",
       "      <td>1.5</td>\n",
       "      <td>151</td>\n",
       "      <td>239</td>\n",
       "    </tr>\n",
       "    <tr>\n",
       "      <th>1</th>\n",
       "      <td>2019-01-01 00:59:47</td>\n",
       "      <td>2019-01-01 01:18:59</td>\n",
       "      <td>2.6</td>\n",
       "      <td>239</td>\n",
       "      <td>246</td>\n",
       "    </tr>\n",
       "    <tr>\n",
       "      <th>7</th>\n",
       "      <td>2019-01-01 00:21:28</td>\n",
       "      <td>2019-01-01 00:28:37</td>\n",
       "      <td>1.3</td>\n",
       "      <td>163</td>\n",
       "      <td>229</td>\n",
       "    </tr>\n",
       "    <tr>\n",
       "      <th>8</th>\n",
       "      <td>2019-01-01 00:32:01</td>\n",
       "      <td>2019-01-01 00:45:39</td>\n",
       "      <td>3.7</td>\n",
       "      <td>229</td>\n",
       "      <td>7</td>\n",
       "    </tr>\n",
       "    <tr>\n",
       "      <th>9</th>\n",
       "      <td>2019-01-01 00:57:32</td>\n",
       "      <td>2019-01-01 01:09:32</td>\n",
       "      <td>2.1</td>\n",
       "      <td>141</td>\n",
       "      <td>234</td>\n",
       "    </tr>\n",
       "  </tbody>\n",
       "</table>\n",
       "</div>"
      ],
      "text/plain": [
       "  tpep_pickup_datetime tpep_dropoff_datetime  trip_distance  PULocationID  \\\n",
       "0  2019-01-01 00:46:40   2019-01-01 00:53:20            1.5           151   \n",
       "1  2019-01-01 00:59:47   2019-01-01 01:18:59            2.6           239   \n",
       "7  2019-01-01 00:21:28   2019-01-01 00:28:37            1.3           163   \n",
       "8  2019-01-01 00:32:01   2019-01-01 00:45:39            3.7           229   \n",
       "9  2019-01-01 00:57:32   2019-01-01 01:09:32            2.1           141   \n",
       "\n",
       "   DOLocationID  \n",
       "0           239  \n",
       "1           246  \n",
       "7           229  \n",
       "8             7  \n",
       "9           234  "
      ]
     },
     "execution_count": 3,
     "metadata": {},
     "output_type": "execute_result"
    }
   ],
   "source": [
    "pdf = pd.read_parquet(\"../data/raw/yellow/2019-01.parquet\")  # pdf = parquet data frame\n",
    "\n",
    "# drop useless columns\n",
    "pdf = pdf.drop(columns=[\"VendorID\", \"passenger_count\", \"RatecodeID\", \"store_and_fwd_flag\", \"payment_type\", \"fare_amount\", \"extra\", \"mta_tax\" ,\\\n",
    "    \"tip_amount\", \"tolls_amount\", \"improvement_surcharge\", \"total_amount\", \"congestion_surcharge\", \"airport_fee\"])\n",
    "# filter out non-2019 data\n",
    "pdf = pdf[pdf[\"tpep_dropoff_datetime\"] > datetime(2018, 12, 31)]\n",
    "pdf = pdf[pdf[\"tpep_pickup_datetime\"] < datetime(2020, 1, 1)]\n",
    "pdf.head()"
   ]
  },
  {
   "cell_type": "code",
   "execution_count": 4,
   "metadata": {},
   "outputs": [
    {
     "data": {
      "text/html": [
       "<div>\n",
       "<style scoped>\n",
       "    .dataframe tbody tr th:only-of-type {\n",
       "        vertical-align: middle;\n",
       "    }\n",
       "\n",
       "    .dataframe tbody tr th {\n",
       "        vertical-align: top;\n",
       "    }\n",
       "\n",
       "    .dataframe thead th {\n",
       "        text-align: right;\n",
       "    }\n",
       "</style>\n",
       "<table border=\"1\" class=\"dataframe\">\n",
       "  <thead>\n",
       "    <tr style=\"text-align: right;\">\n",
       "      <th></th>\n",
       "      <th>tpep_pickup_datetime</th>\n",
       "      <th>tpep_dropoff_datetime</th>\n",
       "      <th>trip_distance</th>\n",
       "      <th>PULocationID</th>\n",
       "      <th>DOLocationID</th>\n",
       "      <th>trip_duration</th>\n",
       "    </tr>\n",
       "  </thead>\n",
       "  <tbody>\n",
       "    <tr>\n",
       "      <th>0</th>\n",
       "      <td>2019-01-01 00:46:40</td>\n",
       "      <td>2019-01-01 00:53:20</td>\n",
       "      <td>1.5</td>\n",
       "      <td>151</td>\n",
       "      <td>239</td>\n",
       "      <td>6.666667</td>\n",
       "    </tr>\n",
       "    <tr>\n",
       "      <th>1</th>\n",
       "      <td>2019-01-01 00:59:47</td>\n",
       "      <td>2019-01-01 01:18:59</td>\n",
       "      <td>2.6</td>\n",
       "      <td>239</td>\n",
       "      <td>246</td>\n",
       "      <td>19.200000</td>\n",
       "    </tr>\n",
       "    <tr>\n",
       "      <th>7</th>\n",
       "      <td>2019-01-01 00:21:28</td>\n",
       "      <td>2019-01-01 00:28:37</td>\n",
       "      <td>1.3</td>\n",
       "      <td>163</td>\n",
       "      <td>229</td>\n",
       "      <td>7.150000</td>\n",
       "    </tr>\n",
       "    <tr>\n",
       "      <th>8</th>\n",
       "      <td>2019-01-01 00:32:01</td>\n",
       "      <td>2019-01-01 00:45:39</td>\n",
       "      <td>3.7</td>\n",
       "      <td>229</td>\n",
       "      <td>7</td>\n",
       "      <td>13.633333</td>\n",
       "    </tr>\n",
       "    <tr>\n",
       "      <th>9</th>\n",
       "      <td>2019-01-01 00:57:32</td>\n",
       "      <td>2019-01-01 01:09:32</td>\n",
       "      <td>2.1</td>\n",
       "      <td>141</td>\n",
       "      <td>234</td>\n",
       "      <td>12.000000</td>\n",
       "    </tr>\n",
       "  </tbody>\n",
       "</table>\n",
       "</div>"
      ],
      "text/plain": [
       "  tpep_pickup_datetime tpep_dropoff_datetime  trip_distance  PULocationID  \\\n",
       "0  2019-01-01 00:46:40   2019-01-01 00:53:20            1.5           151   \n",
       "1  2019-01-01 00:59:47   2019-01-01 01:18:59            2.6           239   \n",
       "7  2019-01-01 00:21:28   2019-01-01 00:28:37            1.3           163   \n",
       "8  2019-01-01 00:32:01   2019-01-01 00:45:39            3.7           229   \n",
       "9  2019-01-01 00:57:32   2019-01-01 01:09:32            2.1           141   \n",
       "\n",
       "   DOLocationID  trip_duration  \n",
       "0           239       6.666667  \n",
       "1           246      19.200000  \n",
       "7           229       7.150000  \n",
       "8             7      13.633333  \n",
       "9           234      12.000000  "
      ]
     },
     "execution_count": 4,
     "metadata": {},
     "output_type": "execute_result"
    }
   ],
   "source": [
    "# find out the trip duration\n",
    "pdf[\"trip_duration\"] = pdf[\"tpep_dropoff_datetime\"] - pdf[\"tpep_pickup_datetime\"]\n",
    "# in minutes (float)\n",
    "pdf[\"trip_duration\"] = pdf[\"trip_duration\"] / np.timedelta64(1, \"m\")\n",
    "pdf.head()"
   ]
  },
  {
   "cell_type": "markdown",
   "metadata": {},
   "source": [
    "## 1: Speed"
   ]
  },
  {
   "cell_type": "code",
   "execution_count": 33,
   "metadata": {},
   "outputs": [
    {
     "data": {
      "text/html": [
       "<div>\n",
       "<style scoped>\n",
       "    .dataframe tbody tr th:only-of-type {\n",
       "        vertical-align: middle;\n",
       "    }\n",
       "\n",
       "    .dataframe tbody tr th {\n",
       "        vertical-align: top;\n",
       "    }\n",
       "\n",
       "    .dataframe thead th {\n",
       "        text-align: right;\n",
       "    }\n",
       "</style>\n",
       "<table border=\"1\" class=\"dataframe\">\n",
       "  <thead>\n",
       "    <tr style=\"text-align: right;\">\n",
       "      <th></th>\n",
       "      <th>tpep_pickup_datetime</th>\n",
       "      <th>tpep_dropoff_datetime</th>\n",
       "      <th>trip_distance</th>\n",
       "      <th>PULocationID</th>\n",
       "      <th>DOLocationID</th>\n",
       "      <th>trip_duration</th>\n",
       "      <th>avg_speed</th>\n",
       "    </tr>\n",
       "  </thead>\n",
       "  <tbody>\n",
       "    <tr>\n",
       "      <th>0</th>\n",
       "      <td>2019-01-01 00:46:40</td>\n",
       "      <td>2019-01-01 00:53:20</td>\n",
       "      <td>1.5</td>\n",
       "      <td>151</td>\n",
       "      <td>239</td>\n",
       "      <td>6.666667</td>\n",
       "      <td>0.225000</td>\n",
       "    </tr>\n",
       "    <tr>\n",
       "      <th>1</th>\n",
       "      <td>2019-01-01 00:59:47</td>\n",
       "      <td>2019-01-01 01:18:59</td>\n",
       "      <td>2.6</td>\n",
       "      <td>239</td>\n",
       "      <td>246</td>\n",
       "      <td>19.200000</td>\n",
       "      <td>0.135417</td>\n",
       "    </tr>\n",
       "    <tr>\n",
       "      <th>7</th>\n",
       "      <td>2019-01-01 00:21:28</td>\n",
       "      <td>2019-01-01 00:28:37</td>\n",
       "      <td>1.3</td>\n",
       "      <td>163</td>\n",
       "      <td>229</td>\n",
       "      <td>7.150000</td>\n",
       "      <td>0.181818</td>\n",
       "    </tr>\n",
       "    <tr>\n",
       "      <th>8</th>\n",
       "      <td>2019-01-01 00:32:01</td>\n",
       "      <td>2019-01-01 00:45:39</td>\n",
       "      <td>3.7</td>\n",
       "      <td>229</td>\n",
       "      <td>7</td>\n",
       "      <td>13.633333</td>\n",
       "      <td>0.271394</td>\n",
       "    </tr>\n",
       "    <tr>\n",
       "      <th>9</th>\n",
       "      <td>2019-01-01 00:57:32</td>\n",
       "      <td>2019-01-01 01:09:32</td>\n",
       "      <td>2.1</td>\n",
       "      <td>141</td>\n",
       "      <td>234</td>\n",
       "      <td>12.000000</td>\n",
       "      <td>0.175000</td>\n",
       "    </tr>\n",
       "  </tbody>\n",
       "</table>\n",
       "</div>"
      ],
      "text/plain": [
       "  tpep_pickup_datetime tpep_dropoff_datetime  trip_distance  PULocationID  \\\n",
       "0  2019-01-01 00:46:40   2019-01-01 00:53:20            1.5           151   \n",
       "1  2019-01-01 00:59:47   2019-01-01 01:18:59            2.6           239   \n",
       "7  2019-01-01 00:21:28   2019-01-01 00:28:37            1.3           163   \n",
       "8  2019-01-01 00:32:01   2019-01-01 00:45:39            3.7           229   \n",
       "9  2019-01-01 00:57:32   2019-01-01 01:09:32            2.1           141   \n",
       "\n",
       "   DOLocationID  trip_duration  avg_speed  \n",
       "0           239       6.666667   0.225000  \n",
       "1           246      19.200000   0.135417  \n",
       "7           229       7.150000   0.181818  \n",
       "8             7      13.633333   0.271394  \n",
       "9           234      12.000000   0.175000  "
      ]
     },
     "execution_count": 33,
     "metadata": {},
     "output_type": "execute_result"
    }
   ],
   "source": [
    "# find out the average speed of each trip (miles/minute)\n",
    "pdf[\"avg_speed\"] = pdf[\"trip_distance\"] / pdf[\"trip_duration\"]\n",
    "pdf.head()"
   ]
  },
  {
   "cell_type": "markdown",
   "metadata": {},
   "source": [
    "Before proceeding any further, we must first see and assess outliers, because I *know* there will be outliers in this big messy data."
   ]
  },
  {
   "cell_type": "code",
   "execution_count": 34,
   "metadata": {},
   "outputs": [
    {
     "name": "stdout",
     "output_type": "stream",
     "text": [
      "        tpep_pickup_datetime tpep_dropoff_datetime  trip_distance  \\\n",
      "4741746  2019-01-20 15:15:30   2019-01-18 15:57:16            1.9   \n",
      "2517596  2019-01-11 19:24:47   2019-01-11 19:24:49            0.0   \n",
      "2332498  2019-01-11 08:10:07   2019-01-11 08:10:15            0.0   \n",
      "\n",
      "         PULocationID  DOLocationID  trip_duration  avg_speed  \n",
      "4741746           186           162   -2838.233333  -0.000669  \n",
      "2517596           264             7       0.033333   0.000000  \n",
      "2332498           191           191       0.133333   0.000000  \n"
     ]
    },
    {
     "data": {
      "text/html": [
       "<div>\n",
       "<style scoped>\n",
       "    .dataframe tbody tr th:only-of-type {\n",
       "        vertical-align: middle;\n",
       "    }\n",
       "\n",
       "    .dataframe tbody tr th {\n",
       "        vertical-align: top;\n",
       "    }\n",
       "\n",
       "    .dataframe thead th {\n",
       "        text-align: right;\n",
       "    }\n",
       "</style>\n",
       "<table border=\"1\" class=\"dataframe\">\n",
       "  <thead>\n",
       "    <tr style=\"text-align: right;\">\n",
       "      <th></th>\n",
       "      <th>tpep_pickup_datetime</th>\n",
       "      <th>tpep_dropoff_datetime</th>\n",
       "      <th>trip_distance</th>\n",
       "      <th>PULocationID</th>\n",
       "      <th>DOLocationID</th>\n",
       "      <th>trip_duration</th>\n",
       "      <th>avg_speed</th>\n",
       "    </tr>\n",
       "  </thead>\n",
       "  <tbody>\n",
       "    <tr>\n",
       "      <th>7696097</th>\n",
       "      <td>2019-01-31 11:54:00</td>\n",
       "      <td>2019-01-31 11:54:00</td>\n",
       "      <td>0.0</td>\n",
       "      <td>161</td>\n",
       "      <td>161</td>\n",
       "      <td>0.0</td>\n",
       "      <td>NaN</td>\n",
       "    </tr>\n",
       "    <tr>\n",
       "      <th>7696210</th>\n",
       "      <td>2019-01-31 14:10:00</td>\n",
       "      <td>2019-01-31 14:10:00</td>\n",
       "      <td>0.0</td>\n",
       "      <td>263</td>\n",
       "      <td>263</td>\n",
       "      <td>0.0</td>\n",
       "      <td>NaN</td>\n",
       "    </tr>\n",
       "    <tr>\n",
       "      <th>7696372</th>\n",
       "      <td>2019-01-31 16:03:00</td>\n",
       "      <td>2019-01-31 16:03:00</td>\n",
       "      <td>0.0</td>\n",
       "      <td>231</td>\n",
       "      <td>231</td>\n",
       "      <td>0.0</td>\n",
       "      <td>NaN</td>\n",
       "    </tr>\n",
       "  </tbody>\n",
       "</table>\n",
       "</div>"
      ],
      "text/plain": [
       "        tpep_pickup_datetime tpep_dropoff_datetime  trip_distance  \\\n",
       "7696097  2019-01-31 11:54:00   2019-01-31 11:54:00            0.0   \n",
       "7696210  2019-01-31 14:10:00   2019-01-31 14:10:00            0.0   \n",
       "7696372  2019-01-31 16:03:00   2019-01-31 16:03:00            0.0   \n",
       "\n",
       "         PULocationID  DOLocationID  trip_duration  avg_speed  \n",
       "7696097           161           161            0.0        NaN  \n",
       "7696210           263           263            0.0        NaN  \n",
       "7696372           231           231            0.0        NaN  "
      ]
     },
     "execution_count": 34,
     "metadata": {},
     "output_type": "execute_result"
    }
   ],
   "source": [
    "pdf2 = pdf.copy()\n",
    "pdf2 = pdf2.sort_values(\"avg_speed\", ascending=True)\n",
    "print(pdf2.head(3))\n",
    "pdf2.tail(3)"
   ]
  },
  {
   "cell_type": "code",
   "execution_count": 37,
   "metadata": {},
   "outputs": [
    {
     "name": "stdout",
     "output_type": "stream",
     "text": [
      "        tpep_pickup_datetime tpep_dropoff_datetime  trip_distance  \\\n",
      "2880939  2019-01-13 03:34:15   2019-01-14 03:26:10           0.01   \n",
      "2880940  2019-01-13 03:34:15   2019-01-14 03:26:10           0.01   \n",
      "4646276  2019-01-20 00:53:01   2019-01-21 00:33:16           0.01   \n",
      "\n",
      "         PULocationID  DOLocationID  trip_duration  avg_speed  \n",
      "2880939           234           234    1431.916667   0.000007  \n",
      "2880940           234           234    1431.916667   0.000007  \n",
      "4646276           158           158    1420.250000   0.000007  \n"
     ]
    },
    {
     "data": {
      "text/html": [
       "<div>\n",
       "<style scoped>\n",
       "    .dataframe tbody tr th:only-of-type {\n",
       "        vertical-align: middle;\n",
       "    }\n",
       "\n",
       "    .dataframe tbody tr th {\n",
       "        vertical-align: top;\n",
       "    }\n",
       "\n",
       "    .dataframe thead th {\n",
       "        text-align: right;\n",
       "    }\n",
       "</style>\n",
       "<table border=\"1\" class=\"dataframe\">\n",
       "  <thead>\n",
       "    <tr style=\"text-align: right;\">\n",
       "      <th></th>\n",
       "      <th>tpep_pickup_datetime</th>\n",
       "      <th>tpep_dropoff_datetime</th>\n",
       "      <th>trip_distance</th>\n",
       "      <th>PULocationID</th>\n",
       "      <th>DOLocationID</th>\n",
       "      <th>trip_duration</th>\n",
       "      <th>avg_speed</th>\n",
       "    </tr>\n",
       "  </thead>\n",
       "  <tbody>\n",
       "    <tr>\n",
       "      <th>2467602</th>\n",
       "      <td>2019-01-11 17:00:20</td>\n",
       "      <td>2019-01-11 17:00:21</td>\n",
       "      <td>20.0</td>\n",
       "      <td>87</td>\n",
       "      <td>87</td>\n",
       "      <td>0.016667</td>\n",
       "      <td>1200.0</td>\n",
       "    </tr>\n",
       "    <tr>\n",
       "      <th>2841025</th>\n",
       "      <td>2019-01-12 23:30:17</td>\n",
       "      <td>2019-01-12 23:30:22</td>\n",
       "      <td>100.8</td>\n",
       "      <td>162</td>\n",
       "      <td>162</td>\n",
       "      <td>0.083333</td>\n",
       "      <td>1209.6</td>\n",
       "    </tr>\n",
       "    <tr>\n",
       "      <th>6218867</th>\n",
       "      <td>2019-01-26 12:30:57</td>\n",
       "      <td>2019-01-26 12:30:58</td>\n",
       "      <td>20.4</td>\n",
       "      <td>132</td>\n",
       "      <td>132</td>\n",
       "      <td>0.016667</td>\n",
       "      <td>1224.0</td>\n",
       "    </tr>\n",
       "  </tbody>\n",
       "</table>\n",
       "</div>"
      ],
      "text/plain": [
       "        tpep_pickup_datetime tpep_dropoff_datetime  trip_distance  \\\n",
       "2467602  2019-01-11 17:00:20   2019-01-11 17:00:21           20.0   \n",
       "2841025  2019-01-12 23:30:17   2019-01-12 23:30:22          100.8   \n",
       "6218867  2019-01-26 12:30:57   2019-01-26 12:30:58           20.4   \n",
       "\n",
       "         PULocationID  DOLocationID  trip_duration  avg_speed  \n",
       "2467602            87            87       0.016667     1200.0  \n",
       "2841025           162           162       0.083333     1209.6  \n",
       "6218867           132           132       0.016667     1224.0  "
      ]
     },
     "execution_count": 37,
     "metadata": {},
     "output_type": "execute_result"
    }
   ],
   "source": [
    "# It is then pretty intuitive and straightforward that zero, NaN, negative, and infinity values should be removed.\n",
    "\n",
    "pdf2.replace([np.inf, -np.inf], np.nan, inplace=True)  # inf and -inf\n",
    "pdf2.dropna(subset=[\"avg_speed\"], inplace=True)        # NaN\n",
    "pdf2 = pdf2[pdf2[\"avg_speed\"] > 0]                     # negative and 0 values\n",
    "\n",
    "print(pdf2.head(3))\n",
    "pdf2.tail(3)\n"
   ]
  },
  {
   "cell_type": "code",
   "execution_count": 38,
   "metadata": {},
   "outputs": [
    {
     "data": {
      "text/plain": [
       "<AxesSubplot:>"
      ]
     },
     "execution_count": 38,
     "metadata": {},
     "output_type": "execute_result"
    },
    {
     "data": {
      "image/png": "[encoded data removed]",
      "text/plain": [
       "<Figure size 640x480 with 1 Axes>"
      ]
     },
     "metadata": {},
     "output_type": "display_data"
    }
   ],
   "source": [
    "# All that's left to remove are massive outliers that don't really make sense logically. I mean, I'd love to travel at 1200 miles/minute,\n",
    "# but unfortunately, they are the way they are becuse the data didn't record the trip distance or/and the trip duration properly.\n",
    "pdf2[\"log_avg_speed\"] = np.log(pdf2[\"avg_speed\"])  # log transform to make the graph more readable\n",
    "#pdf2\n",
    "pdf2.boxplot(column=[\"log_avg_speed\"])"
   ]
  },
  {
   "cell_type": "code",
   "execution_count": 46,
   "metadata": {},
   "outputs": [
    {
     "data": {
      "image/png": "[encoded data removed]",
      "text/plain": [
       "<Figure size 640x480 with 1 Axes>"
      ]
     },
     "metadata": {},
     "output_type": "display_data"
    }
   ],
   "source": [
    "# After looking at the graph and converting the approximate average value to km/h, it is then starting to look logical with the \n",
    "# average speed value around 20km/h. Now, from here, although the 1.5 * IQR value method to find outliers is not perfect,\n",
    "# I'd say it is the best, fastest, and simplest method because the distribution of the data is unknown (no, the data is NOT\n",
    "# normally distributed, proof below).\n",
    "avg_speed = pdf2[\"log_avg_speed\"].to_numpy()\n",
    "\n",
    "from scipy import stats\n",
    "import pylab\n",
    "\n",
    "stats.probplot(avg_speed, dist=\"norm\", plot=pylab)\n",
    "pylab.show()"
   ]
  },
  {
   "cell_type": "code",
   "execution_count": 58,
   "metadata": {},
   "outputs": [
    {
     "data": {
      "text/plain": [
       "<AxesSubplot:>"
      ]
     },
     "execution_count": 58,
     "metadata": {},
     "output_type": "execute_result"
    },
    {
     "data": {
      "image/png": "[encoded data removed]",
      "text/plain": [
       "<Figure size 640x480 with 1 Axes>"
      ]
     },
     "metadata": {},
     "output_type": "display_data"
    }
   ],
   "source": [
    "# find and remove outliers\n",
    "q1 = pdf2[\"avg_speed\"].quantile(0.25)\n",
    "q3 = pdf2[\"avg_speed\"].quantile(0.75)\n",
    "iqr = q3 - q1\n",
    "\n",
    "pdf2 = pdf2[pdf2[\"avg_speed\"] > q1 - 1.5 * iqr]\n",
    "pdf2 = pdf2[pdf2[\"avg_speed\"] < q3 + 1.5 * iqr]\n",
    "pdf2.boxplot(column=[\"avg_speed\"])"
   ]
  },
  {
   "cell_type": "code",
   "execution_count": 59,
   "metadata": {},
   "outputs": [
    {
     "data": {
      "text/plain": [
       "6934520"
      ]
     },
     "execution_count": 59,
     "metadata": {},
     "output_type": "execute_result"
    }
   ],
   "source": [
    "pdf2.shape[0]"
   ]
  },
  {
   "cell_type": "code",
   "execution_count": 63,
   "metadata": {},
   "outputs": [
    {
     "ename": "IndexError",
     "evalue": "index 1 is out of bounds for axis 0 with size 0",
     "output_type": "error",
     "traceback": [
      "\u001b[0;31m---------------------------------------------------------------------------\u001b[0m",
      "\u001b[0;31mIndexError\u001b[0m                                Traceback (most recent call last)",
      "\u001b[1;32m/mnt/c/Users/andre/Downloads/Unimelb/MAST30034 Applied Data Science/Project 1/GitHub/notebooks/preprocess.ipynb Cell 27\u001b[0m in \u001b[0;36m<cell line: 29>\u001b[0;34m()\u001b[0m\n\u001b[1;32m     <a href='vscode-notebook-cell://wsl%2Bubuntu/mnt/c/Users/andre/Downloads/Unimelb/MAST30034%20Applied%20Data%20Science/Project%201/GitHub/notebooks/preprocess.ipynb#X31sdnNjb2RlLXJlbW90ZQ%3D%3D?line=62'>63</a>\u001b[0m             np\u001b[39m.\u001b[39mappend(speed_data[pu_time \u001b[39m-\u001b[39m N_MIN], avg_speed)\n\u001b[1;32m     <a href='vscode-notebook-cell://wsl%2Bubuntu/mnt/c/Users/andre/Downloads/Unimelb/MAST30034%20Applied%20Data%20Science/Project%201/GitHub/notebooks/preprocess.ipynb#X31sdnNjb2RlLXJlbW90ZQ%3D%3D?line=63'>64</a>\u001b[0m         \u001b[39melse\u001b[39;00m:\n\u001b[0;32m---> <a href='vscode-notebook-cell://wsl%2Bubuntu/mnt/c/Users/andre/Downloads/Unimelb/MAST30034%20Applied%20Data%20Science/Project%201/GitHub/notebooks/preprocess.ipynb#X31sdnNjb2RlLXJlbW90ZQ%3D%3D?line=64'>65</a>\u001b[0m             np\u001b[39m.\u001b[39mappend(speed_data[pu_time], avg_speed)\n\u001b[1;32m     <a href='vscode-notebook-cell://wsl%2Bubuntu/mnt/c/Users/andre/Downloads/Unimelb/MAST30034%20Applied%20Data%20Science/Project%201/GitHub/notebooks/preprocess.ipynb#X31sdnNjb2RlLXJlbW90ZQ%3D%3D?line=65'>66</a>\u001b[0m         pu_time \u001b[39m+\u001b[39m\u001b[39m=\u001b[39m \u001b[39m1\u001b[39m\n\u001b[1;32m     <a href='vscode-notebook-cell://wsl%2Bubuntu/mnt/c/Users/andre/Downloads/Unimelb/MAST30034%20Applied%20Data%20Science/Project%201/GitHub/notebooks/preprocess.ipynb#X31sdnNjb2RlLXJlbW90ZQ%3D%3D?line=67'>68</a>\u001b[0m speed_data\n",
      "\u001b[0;31mIndexError\u001b[0m: index 1 is out of bounds for axis 0 with size 0"
     ]
    }
   ],
   "source": [
    "# the speed data for every nth minute in one day is going to be stored in a 2d list, consisting of 1440 * x elements.\n",
    "# note: 1440 is the number of minutes in 24 hours, and x is the avg_speed data when (a) trip(s) occurs at the nth minute.\n",
    "\n",
    "# ...\n",
    "# I'm only doing the January data, currently I'm 23 minutes in and Python is still not done processing the for loop. \n",
    "# The projected time for this loop to end is more than 30 minutes, which puts me at... *calculator noises* ...more than 6 hours to process\n",
    "# all 12 months worth of dataset. Patience has a limit, am I right.\n",
    "# I guess the only solution to this is to randomly sample the entire 2019 dataset by 0.001% or smaller, because this \n",
    "# current method seems like hell. I believe doing this on pyspark (instead of pandas) wouldn't help at all, \n",
    "# because it will still take a while to loop a bunch of commands 80 million times.\n",
    "# ...\n",
    "\n",
    "# the speed data for every nth hour in one day is going to be stored in a 2d list, consisting of 24 * x elements.\n",
    "# note: 24 is the number of hours in one day, and x is the avg_speed data when (a) trip(s) occur(s) at the nth hour.\n",
    "\n",
    "import random\n",
    "N_MIN = 1440\n",
    "\n",
    "# initialise list\n",
    "speed_data = np.array([])\n",
    "for i in range(N_MIN):\n",
    "    np.append(speed_data, [])\n",
    "\n",
    "# randomly sample the speed data\n",
    "pdf3 = pdf2.copy()\n",
    "pdf3.sample(frac=0.01)\n",
    "\n",
    "# fill in the values\n",
    "for i in range(pdf3.shape[0]):\n",
    "    if i == 1096519:\n",
    "        print(i)\n",
    "    if i == 2396519:\n",
    "        print(i)\n",
    "    if i == 4096519:\n",
    "        print(i)\n",
    "    if i == 5796519:\n",
    "        print(i)\n",
    "    # the average speed value for the ith trip\n",
    "    avg_speed = pdf3.iloc[i, -1]\n",
    "\n",
    "    \n",
    "    pu_day = pdf3.iloc[i, 0].timetuple().tm_yday\n",
    "    # pick up time, in the number of hours elapsed starting from 00:00\n",
    "    pu_hour = pdf3.iloc[i, 0].timetuple().tm_hour\n",
    "    pu_min = pdf3.iloc[i, 0].timetuple().tm_min + 1  # rounding up, because tm_sec exists (why? explained in report, \n",
    "                                                    # if the page limit allows...otherwise, think about it yourself, it's pretty intuitive)\n",
    "    pu_time = 60 * pu_hour + pu_min\n",
    "\n",
    "    \n",
    "    do_day = pdf3.iloc[i, 1].timetuple().tm_yday\n",
    "    # drop off time, in the number of hours elapsed starting from 00:00\n",
    "    do_hour = pdf3.iloc[i, 1].timetuple().tm_hour\n",
    "    do_min = pdf3.iloc[i, 1].timetuple().tm_min\n",
    "    do_time = 60 * do_hour + do_min\n",
    "\n",
    "\n",
    "    # if the trip starts at a particular day and ends at the next day\n",
    "    if do_day != pu_day:\n",
    "        do_hour += N_MIN\n",
    "\n",
    "    while pu_time <= do_time:\n",
    "        if pu_time >= N_MIN:\n",
    "            np.append(speed_data[pu_time - N_MIN], avg_speed)\n",
    "        else:\n",
    "            np.append(speed_data[pu_time], avg_speed)\n",
    "        pu_time += 1\n",
    "\n",
    "speed_data"
   ]
  },
  {
   "cell_type": "code",
   "execution_count": 72,
   "metadata": {},
   "outputs": [
    {
     "data": {
      "text/plain": [
       "array([], shape=(2, 0), dtype=float64)"
      ]
     },
     "execution_count": 72,
     "metadata": {},
     "output_type": "execute_result"
    }
   ],
   "source": [
    "speed_data = np.array([[], []])\n",
    "for i in range(1440):\n",
    "    np.append(speed_data, [100])\n",
    "speed_data"
   ]
  },
  {
   "cell_type": "code",
   "execution_count": 61,
   "metadata": {},
   "outputs": [
    {
     "name": "stdout",
     "output_type": "stream",
     "text": [
      "range(0, 7696519)\n"
     ]
    },
    {
     "ename": "TypeError",
     "evalue": "can't multiply sequence by non-int of type 'float'",
     "output_type": "error",
     "traceback": [
      "\u001b[0;31m---------------------------------------------------------------------------\u001b[0m",
      "\u001b[0;31mTypeError\u001b[0m                                 Traceback (most recent call last)",
      "\u001b[1;32m/mnt/c/Users/andre/Downloads/Unimelb/MAST30034 Applied Data Science/Project 1/GitHub/notebooks/preprocess.ipynb Cell 28\u001b[0m in \u001b[0;36m<cell line: 3>\u001b[0;34m()\u001b[0m\n\u001b[1;32m      <a href='vscode-notebook-cell://wsl%2Bubuntu/mnt/c/Users/andre/Downloads/Unimelb/MAST30034%20Applied%20Data%20Science/Project%201/GitHub/notebooks/preprocess.ipynb#X43sdnNjb2RlLXJlbW90ZQ%3D%3D?line=0'>1</a>\u001b[0m x \u001b[39m=\u001b[39m pdf\u001b[39m.\u001b[39mshape[\u001b[39m0\u001b[39m]\n\u001b[1;32m      <a href='vscode-notebook-cell://wsl%2Bubuntu/mnt/c/Users/andre/Downloads/Unimelb/MAST30034%20Applied%20Data%20Science/Project%201/GitHub/notebooks/preprocess.ipynb#X43sdnNjb2RlLXJlbW90ZQ%3D%3D?line=1'>2</a>\u001b[0m \u001b[39mprint\u001b[39m(\u001b[39mrange\u001b[39m(x))\n\u001b[0;32m----> <a href='vscode-notebook-cell://wsl%2Bubuntu/mnt/c/Users/andre/Downloads/Unimelb/MAST30034%20Applied%20Data%20Science/Project%201/GitHub/notebooks/preprocess.ipynb#X43sdnNjb2RlLXJlbW90ZQ%3D%3D?line=2'>3</a>\u001b[0m x_sampled \u001b[39m=\u001b[39m random\u001b[39m.\u001b[39;49msample(\u001b[39mrange\u001b[39;49m(x), x\u001b[39m/\u001b[39;49m\u001b[39m100\u001b[39;49m)\n\u001b[1;32m      <a href='vscode-notebook-cell://wsl%2Bubuntu/mnt/c/Users/andre/Downloads/Unimelb/MAST30034%20Applied%20Data%20Science/Project%201/GitHub/notebooks/preprocess.ipynb#X43sdnNjb2RlLXJlbW90ZQ%3D%3D?line=3'>4</a>\u001b[0m x_sampled\n",
      "File \u001b[0;32m/usr/lib/python3.8/random.py:364\u001b[0m, in \u001b[0;36mRandom.sample\u001b[0;34m(self, population, k)\u001b[0m\n\u001b[1;32m    362\u001b[0m \u001b[39mif\u001b[39;00m \u001b[39mnot\u001b[39;00m \u001b[39m0\u001b[39m \u001b[39m<\u001b[39m\u001b[39m=\u001b[39m k \u001b[39m<\u001b[39m\u001b[39m=\u001b[39m n:\n\u001b[1;32m    363\u001b[0m     \u001b[39mraise\u001b[39;00m \u001b[39mValueError\u001b[39;00m(\u001b[39m\"\u001b[39m\u001b[39mSample larger than population or is negative\u001b[39m\u001b[39m\"\u001b[39m)\n\u001b[0;32m--> 364\u001b[0m result \u001b[39m=\u001b[39m [\u001b[39mNone\u001b[39;49;00m] \u001b[39m*\u001b[39;49m k\n\u001b[1;32m    365\u001b[0m setsize \u001b[39m=\u001b[39m \u001b[39m21\u001b[39m        \u001b[39m# size of a small set minus size of an empty list\u001b[39;00m\n\u001b[1;32m    366\u001b[0m \u001b[39mif\u001b[39;00m k \u001b[39m>\u001b[39m \u001b[39m5\u001b[39m:\n",
      "\u001b[0;31mTypeError\u001b[0m: can't multiply sequence by non-int of type 'float'"
     ]
    }
   ],
   "source": [
    "x = pdf.shape[0]\n",
    "print(range(x))\n",
    "x_sampled = random.sample((x), x/100)\n",
    "x_sampled"
   ]
  }
 ],
 "metadata": {
  "kernelspec": {
   "display_name": "Python 3.8.10 64-bit",
   "language": "python",
   "name": "python3"
  },
  "language_info": {
   "codemirror_mode": {
    "name": "ipython",
    "version": 3
   },
   "file_extension": ".py",
   "mimetype": "text/x-python",
   "name": "python",
   "nbconvert_exporter": "python",
   "pygments_lexer": "ipython3",
   "version": "3.8.10"
  },
  "orig_nbformat": 4,
  "vscode": {
   "interpreter": {
    "hash": "916dbcbb3f70747c44a77c7bcd40155683ae19c65e1c03b4aa3499c5328201f1"
   }
  }
 },
 "nbformat": 4,
 "nbformat_minor": 2
}
