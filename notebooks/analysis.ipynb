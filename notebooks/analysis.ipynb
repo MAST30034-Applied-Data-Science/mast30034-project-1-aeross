{
 "cells": [
  {
   "cell_type": "code",
   "execution_count": 43,
   "metadata": {},
   "outputs": [],
   "source": [
    "# read data\n",
    "import pandas as pd\n",
    "\n",
    "# Okay, I don't know why I named this variable crime...it's supposed to be crash, but my brain short-circuited so\n",
    "# from now on, let's just pretend that crime is the new, better way to spell crash.\n",
    "crime = pd.read_csv(\"../data/curated/crash.csv\")"
   ]
  },
  {
   "cell_type": "markdown",
   "metadata": {},
   "source": [
    "## The distribution of the response variable"
   ]
  },
  {
   "cell_type": "code",
   "execution_count": 44,
   "metadata": {},
   "outputs": [
    {
     "data": {
      "image/png": "[encoded data removed]",
      "text/plain": [
       "<Figure size 432x288 with 1 Axes>"
      ]
     },
     "metadata": {
      "needs_background": "light"
     },
     "output_type": "display_data"
    }
   ],
   "source": [
    "import numpy as np\n",
    "import matplotlib.pyplot as plt\n",
    "\n",
    "y = crime[\"count\"]\n",
    "plt.hist(y, bins=[i for i in range(max(crime[\"count\"]) + 1)])\n",
    "plt.xlabel(\"number of crashes\")\n",
    "plt.ylabel(\"frequency\")\n",
    "plt.title(\"Taxi Crash Distribution\")\n",
    "plt.savefig(\"../plots/crash_dist.png\")"
   ]
  },
  {
   "cell_type": "markdown",
   "metadata": {},
   "source": [
    "Based on the histogram, the data is not normally distributed. It could be negative binomial or poisson...?\n",
    "\n",
    "Anyway, the point is, any type of linear model is definitely not applicable here, and I'm not doing negative binomial regression because that is out of the scope of my knowledge.\n"
   ]
  },
  {
   "cell_type": "code",
   "execution_count": 45,
   "metadata": {},
   "outputs": [
    {
     "name": "stdout",
     "output_type": "stream",
     "text": [
      "['onehotencoder__season_autumn' 'onehotencoder__season_spring'\n",
      " 'onehotencoder__season_summer' 'onehotencoder__season_winter'\n",
      " 'onehotencoder__daylight_day' 'onehotencoder__daylight_night'\n",
      " 'onehotencoder__borough_Bronx' 'onehotencoder__borough_Brooklyn'\n",
      " 'onehotencoder__borough_Manhattan' 'onehotencoder__borough_Queens'\n",
      " 'onehotencoder__borough_Staten Island' 'ordinalencoder__speed']\n",
      "[[0. 0. 0. ... 1. 0. 0.]\n",
      " [0. 0. 0. ... 0. 0. 0.]\n",
      " [0. 0. 0. ... 0. 0. 0.]\n",
      " ...\n",
      " [0. 0. 0. ... 0. 0. 2.]\n",
      " [0. 0. 0. ... 0. 1. 2.]\n",
      " [0. 0. 0. ... 0. 0. 2.]]\n"
     ]
    }
   ],
   "source": [
    "# apply one hot encoding to transform nominal variable \n",
    "# and ordinal encoding to transform ordinal variable\n",
    "X = crime.drop(columns=[\"date\", \"count\"])\n",
    "\n",
    "from sklearn.preprocessing import OneHotEncoder, OrdinalEncoder\n",
    "from sklearn.compose import make_column_transformer\n",
    "\n",
    "ohe = OneHotEncoder()\n",
    "oe = OrdinalEncoder(categories=[[\"normal\", \"fast\", \"empty\"]])\n",
    "\n",
    "ohe.fit_transform(X[[\"season\", \"daylight\", \"borough\"]])\n",
    "oe.fit_transform(X[[\"speed\"]])\n",
    "\n",
    "X_t = make_column_transformer((ohe, [\"season\", \"daylight\", \"borough\"]), \\\n",
    "    (oe, [\"speed\"]))\n",
    "\n",
    "column_names = X_t.fit(X).get_feature_names_out()\n",
    "X = X_t.fit_transform(X)\n",
    "\n",
    "print(column_names)\n",
    "print(X)"
   ]
  },
  {
   "cell_type": "code",
   "execution_count": 46,
   "metadata": {},
   "outputs": [],
   "source": [
    "# split data into train and test sets\n",
    "from sklearn.model_selection import train_test_split\n",
    "\n",
    "X_train, X_test, y_train, y_test = train_test_split(X, y, test_size=0.25, random_state=0)"
   ]
  },
  {
   "cell_type": "markdown",
   "metadata": {},
   "source": [
    "## Dummy Regression"
   ]
  },
  {
   "cell_type": "code",
   "execution_count": 47,
   "metadata": {},
   "outputs": [
    {
     "name": "stdout",
     "output_type": "stream",
     "text": [
      "40.64804768437498\n",
      "21.91822672906916\n"
     ]
    }
   ],
   "source": [
    "# simply predicts the value which has the most occurrence, which is 0. This will be used as the baseline.\n",
    "dummy_pred = np.zeros(y_test.shape[0])\n",
    "\n",
    "# evaluation using MAE and RMSE\n",
    "from sklearn.metrics import mean_squared_error, mean_absolute_error\n",
    "print(np.sqrt(mean_squared_error(y_test, dummy_pred)))\n",
    "print(mean_absolute_error(y_test, dummy_pred))"
   ]
  },
  {
   "cell_type": "markdown",
   "metadata": {},
   "source": [
    "## Poisson Regression"
   ]
  },
  {
   "cell_type": "code",
   "execution_count": 48,
   "metadata": {},
   "outputs": [
    {
     "name": "stdout",
     "output_type": "stream",
     "text": [
      "21.865866195876983\n",
      "553.0199797566553\n",
      "18.2069078971439\n",
      "12.273542724483566\n"
     ]
    }
   ],
   "source": [
    "# note that although the data looks like it follows a poisson distribution,\n",
    "# its variance is actually a lot larger than its mean. (Poisson has equal mean and variance)\n",
    "\n",
    "from sklearn.linear_model import PoissonRegressor\n",
    "\n",
    "pr = PoissonRegressor()\n",
    "pr.fit(X_train, y_train)\n",
    "y_pred = pr.predict(X_test)\n",
    "\n",
    "print(np.mean(y_pred))\n",
    "print(np.var(y_pred))\n",
    "print(np.sqrt(mean_squared_error(y_test, y_pred)))\n",
    "print(mean_absolute_error(y_test, y_pred))"
   ]
  },
  {
   "cell_type": "code",
   "execution_count": 49,
   "metadata": {},
   "outputs": [
    {
     "name": "stdout",
     "output_type": "stream",
     "text": [
      "21.91822672906916\n"
     ]
    },
    {
     "data": {
      "text/plain": [
       "1171.8551176043402"
      ]
     },
     "execution_count": 49,
     "metadata": {},
     "output_type": "execute_result"
    }
   ],
   "source": [
    "# As seen there, although the mean of the predicted values looks fine, \n",
    "# the variance of the predicted values are way off the actual variance.\n",
    "print(np.mean(y_test))\n",
    "np.var(y_test)\n",
    "# In addition, the RMSE, although better from the baseline model, is still barely an improvement. \n",
    "# The MAE is even worse, possibly because most of the true values are skewed at 0."
   ]
  },
  {
   "cell_type": "markdown",
   "metadata": {},
   "source": [
    "Since this predicted data has higher variance than mean, the data is overdispersed. Dealing with overdispersion requires a much deeper statistical knowledge that is beyond the scope of my understanding as well as what's required in this subject. (I believe this topic is discussed in MAST30027, but that is in week 4. Given the deadline of this subject, and how much work I have to split among four subjects, I'm afraid that is not possible...not everyone has 150 IQ!)\n",
    "\n",
    "Instead of doing regression, I will use two models that are both based on decision trees as their main components: random forest and gradient boost. They should, in theory, work better because decision trees don't depend on whether the data follows a certain distribution.\n",
    "\n",
    "I will also use MAE and MAPE in addition to RMSE as evaluation metrics."
   ]
  },
  {
   "cell_type": "markdown",
   "metadata": {},
   "source": [
    "## Random Forest Regression"
   ]
  },
  {
   "cell_type": "code",
   "execution_count": 50,
   "metadata": {},
   "outputs": [
    {
     "name": "stdout",
     "output_type": "stream",
     "text": [
      "21.903811471109858\n",
      "1071.3895769712717\n",
      "RMSE = 10.085603137309388\n",
      "MAE  = 5.752070297315643\n"
     ]
    },
    {
     "data": {
      "text/plain": [
       "array([0.00512082, 0.00102429, 0.0014735 , 0.01692335, 0.1514377 ,\n",
       "       0.16466516, 0.05115328, 0.00085469, 0.03746687, 0.00098442,\n",
       "       0.1657478 , 0.40314812])"
      ]
     },
     "execution_count": 50,
     "metadata": {},
     "output_type": "execute_result"
    }
   ],
   "source": [
    "from sklearn.ensemble import RandomForestRegressor\n",
    "rfr = RandomForestRegressor(n_estimators=500, max_depth=10, random_state=0)\n",
    "rfr.fit(X_train, y_train)\n",
    "y_pred = rfr.predict(X_test)\n",
    "\n",
    "\n",
    "print(np.mean(y_pred))\n",
    "print(np.var(y_pred))\n",
    "print(f\"RMSE = {np.sqrt(mean_squared_error(y_test, y_pred))}\")\n",
    "print(F\"MAE  = {mean_absolute_error(y_test, y_pred)}\")\n",
    "rfr_fi = rfr.feature_importances_\n",
    "rfr_fi"
   ]
  },
  {
   "cell_type": "markdown",
   "metadata": {},
   "source": [
    "## Gradient Boosting Regression"
   ]
  },
  {
   "cell_type": "code",
   "execution_count": 51,
   "metadata": {},
   "outputs": [
    {
     "name": "stdout",
     "output_type": "stream",
     "text": [
      "21.905029132628055\n",
      "1071.556229051951\n",
      "RMSE = 10.086443240390942\n",
      "MAE  = 5.752781603307638\n"
     ]
    },
    {
     "data": {
      "text/plain": [
       "array([0.00549205, 0.00063131, 0.00114558, 0.01723692, 0.1739773 ,\n",
       "       0.14220714, 0.051199  , 0.00064215, 0.03756441, 0.0008402 ,\n",
       "       0.16592327, 0.40314067])"
      ]
     },
     "execution_count": 51,
     "metadata": {},
     "output_type": "execute_result"
    }
   ],
   "source": [
    "from sklearn.ensemble import GradientBoostingRegressor\n",
    "gbr = GradientBoostingRegressor(learning_rate=0.1, n_estimators=500, max_depth=10)\n",
    "gbr.fit(X_train, y_train)\n",
    "y_pred = gbr.predict(X_test)\n",
    "\n",
    "print(np.mean(y_pred))\n",
    "print(np.var(y_pred))\n",
    "print(f\"RMSE = {np.sqrt(mean_squared_error(y_test, y_pred))}\")\n",
    "print(F\"MAE  = {mean_absolute_error(y_test, y_pred)}\")\n",
    "gbr_fi = gbr.feature_importances_\n",
    "gbr_fi"
   ]
  },
  {
   "cell_type": "markdown",
   "metadata": {},
   "source": [
    "From the values seen above, the mean and variance of predicted values are very similar, and so are the MAE and RMSE. The feature importance are also similar, and there seem to be a decent gap between the top 4 features compared to the rest.\n",
    "\n",
    "Hence, I will test that hypothesis by re-doing the modelling to find the ideal number of features."
   ]
  },
  {
   "cell_type": "code",
   "execution_count": 52,
   "metadata": {},
   "outputs": [
    {
     "data": {
      "text/plain": [
       "[(11, 40.314439828757585),\n",
       " (10, 16.583553317662624),\n",
       " (4, 16.27074980199913),\n",
       " (5, 15.343614897082613),\n",
       " (6, 5.117613892993555),\n",
       " (8, 3.751563950361278),\n",
       " (3, 1.7080133576309733),\n",
       " (0, 0.530643558516115),\n",
       " (2, 0.13095416492123796),\n",
       " (9, 0.09123113830717405),\n",
       " (1, 0.08278019496963444),\n",
       " (7, 0.07484189679807568)]"
      ]
     },
     "execution_count": 52,
     "metadata": {},
     "output_type": "execute_result"
    }
   ],
   "source": [
    "feature_importance = (rfr_fi + gbr_fi) / 2  # average values between the two models\n",
    "feature_importance = [float(i) * 100 for i in feature_importance]  # in terms of percentage so that it's easier to see\n",
    "sorted_fi = sorted(enumerate(feature_importance), key=lambda i: i[1], reverse=True)  # so the original index is kept after sorting\n",
    "sorted_fi"
   ]
  },
  {
   "cell_type": "code",
   "execution_count": 53,
   "metadata": {},
   "outputs": [],
   "source": [
    "feature_indices = []\n",
    "rfr_RMSE = []\n",
    "rfr_MAE = []\n",
    "gbr_RMSE = []\n",
    "gbr_MAE = []\n",
    "\n",
    "for i in range(len(feature_importance)):\n",
    "    feature_indices.append(sorted_fi[i][0])\n",
    "    X_train2 = X_train[:, feature_indices]\n",
    "    X_test2 = X_test[:, feature_indices]\n",
    "\n",
    "    # random forest\n",
    "    rfr.fit(X_train2, y_train)\n",
    "    y_pred = rfr.predict(X_test2)\n",
    "\n",
    "    rfr_RMSE.append(np.sqrt(mean_squared_error(y_test, y_pred)))\n",
    "    rfr_MAE.append(mean_absolute_error(y_test, y_pred))\n",
    "\n",
    "    # gradient boost\n",
    "    gbr = GradientBoostingRegressor(learning_rate=0.1, n_estimators=500, max_depth=10)\n",
    "    gbr.fit(X_train2, y_train)\n",
    "    y_pred = gbr.predict(X_test2)\n",
    "\n",
    "    gbr_RMSE.append(np.sqrt(mean_squared_error(y_test, y_pred)))\n",
    "    gbr_MAE.append(mean_absolute_error(y_test, y_pred))"
   ]
  },
  {
   "cell_type": "code",
   "execution_count": 54,
   "metadata": {},
   "outputs": [
    {
     "name": "stdout",
     "output_type": "stream",
     "text": [
      "[27.40576813237437, 24.825506468587516, 14.765318977113932, 14.765318977113932, 12.786259417603908, 11.186044004263124, 10.36935252334343, 10.075084780555452, 10.072392047108382, 10.085605225750744, 10.085602532595285, 10.085603041876837]\n",
      "[27.405766613556892, 24.82544598095163, 14.76495519262043, 14.76495519262043, 12.786242878525146, 11.186032644835105, 10.369127881330538, 10.075159326828478, 10.07272432805397, 10.086443240390942, 10.086443240390942, 10.086443240390942]\n",
      "[17.07577327149088, 14.346208983428255, 8.055650893959122, 8.055650893959122, 6.982101257076528, 6.401245974654215, 5.95231694574912, 5.775085945686179, 5.758190643249059, 5.75206606726084, 5.752066072897621, 5.752071121434462]\n",
      "[17.075052915322473, 14.346188768017054, 8.056244931679942, 8.056244931679942, 6.982391613366897, 6.401479789566118, 5.952648588225517, 5.775442183324806, 5.75861195590533, 5.752781603307637, 5.752781603307638, 5.752781603307638]\n"
     ]
    }
   ],
   "source": [
    "print(rfr_RMSE)\n",
    "print(gbr_RMSE)\n",
    "print(rfr_MAE)\n",
    "print(gbr_MAE)"
   ]
  },
  {
   "cell_type": "code",
   "execution_count": 55,
   "metadata": {},
   "outputs": [
    {
     "name": "stdout",
     "output_type": "stream",
     "text": [
      "column name = ordinalencoder__speed\n",
      "significance = 40.31%\n",
      "\n",
      "column name = onehotencoder__borough_Staten Island\n",
      "significance = 16.58%\n",
      "\n",
      "column name = onehotencoder__daylight_day\n",
      "significance = 16.27%\n",
      "\n"
     ]
    }
   ],
   "source": [
    "# in conclusion, all though some features might look insignificant, random forest and gradient boost are \n",
    "# robust to overfitting and therefore generally performs better, if not the same, if more features are added in.\n",
    "# Nevertheless, I will take the top 3 features as the most significanat features. They are:\n",
    "for i in range(3):\n",
    "    print(f\"column name = {column_names[sorted_fi[i][0]]}\")\n",
    "    print(f\"significance = {round(sorted_fi[i][1], 2)}%\")\n",
    "    print(\"\")\n",
    "    \n"
   ]
  },
  {
   "cell_type": "code",
   "execution_count": 56,
   "metadata": {},
   "outputs": [],
   "source": [
    "import matplotlib.pyplot as plt"
   ]
  },
  {
   "cell_type": "code",
   "execution_count": 57,
   "metadata": {},
   "outputs": [
    {
     "data": {
      "image/png": "[encoded data removed]",
      "text/plain": [
       "<Figure size 432x288 with 1 Axes>"
      ]
     },
     "metadata": {
      "needs_background": "light"
     },
     "output_type": "display_data"
    }
   ],
   "source": [
    "speed_count = []\n",
    "speed = [\"normal\", \"fast\", \"empty\"]\n",
    "speed_count.append(sum(crime[crime[\"speed\"] == \"normal\"][\"count\"]))\n",
    "speed_count.append(sum(crime[crime[\"speed\"] == \"fast\"][\"count\"]))\n",
    "speed_count.append(sum(crime[crime[\"speed\"] == \"empty\"][\"count\"]))\n",
    "\n",
    "plt.bar(speed, speed_count)\n",
    "plt.ylabel(\"number of crashes\", fontweight=\"bold\")\n",
    "plt.xlabel(\"speed\", fontweight=\"bold\")\n",
    "plt.title(\"Total Number of Crashes by Speed\")\n",
    "plt.savefig(\"../plots/speed_crash.png\")"
   ]
  },
  {
   "cell_type": "code",
   "execution_count": 58,
   "metadata": {},
   "outputs": [
    {
     "data": {
      "image/png": "[encoded data removed]",
      "text/plain": [
       "<Figure size 432x288 with 1 Axes>"
      ]
     },
     "metadata": {
      "needs_background": "light"
     },
     "output_type": "display_data"
    }
   ],
   "source": [
    "daylight_count = []\n",
    "daylight = [\"day\", \"night\"]\n",
    "daylight_count.append(sum(crime[crime[\"daylight\"] == \"day\"][\"count\"]))\n",
    "daylight_count.append(sum(crime[crime[\"daylight\"] == \"night\"][\"count\"]))\n",
    "\n",
    "plt.bar(daylight, daylight_count)\n",
    "plt.ylabel(\"number of crashes\", fontweight=\"bold\")\n",
    "plt.xlabel(\"daylight\", fontweight=\"bold\")\n",
    "plt.title(\"Total Number of Crashes by Daylight\")\n",
    "plt.savefig(\"../plots/daylight_crash.png\")"
   ]
  },
  {
   "cell_type": "code",
   "execution_count": 59,
   "metadata": {},
   "outputs": [
    {
     "data": {
      "image/png": "[encoded data removed]",
      "text/plain": [
       "<Figure size 432x288 with 1 Axes>"
      ]
     },
     "metadata": {
      "needs_background": "light"
     },
     "output_type": "display_data"
    }
   ],
   "source": [
    "boro_count = []\n",
    "boro = [\"Manhattan\", \"Staten Island\", \"Brooklyn\", \"Queens\", \"Bronx\"]\n",
    "boro_count.append(sum(crime[crime[\"borough\"] == \"Manhattan\"][\"count\"]))\n",
    "boro_count.append(sum(crime[crime[\"borough\"] == \"Staten Island\"][\"count\"]))\n",
    "boro_count.append(sum(crime[crime[\"borough\"] == \"Brooklyn\"][\"count\"]))\n",
    "boro_count.append(sum(crime[crime[\"borough\"] == \"Queens\"][\"count\"]))\n",
    "boro_count.append(sum(crime[crime[\"borough\"] == \"Bronx\"][\"count\"]))\n",
    "\n",
    "plt.bar(boro, boro_count)\n",
    "plt.ylabel(\"number of crashes\", fontweight=\"bold\")\n",
    "plt.xlabel(\"borough\", fontweight=\"bold\")\n",
    "plt.title(\"Total Number of Crashes by Borough\")\n",
    "plt.savefig(\"../plots/boro_crash.png\")"
   ]
  }
 ],
 "metadata": {
  "kernelspec": {
   "display_name": "Python 3.8.10 64-bit",
   "language": "python",
   "name": "python3"
  },
  "language_info": {
   "codemirror_mode": {
    "name": "ipython",
    "version": 3
   },
   "file_extension": ".py",
   "mimetype": "text/x-python",
   "name": "python",
   "nbconvert_exporter": "python",
   "pygments_lexer": "ipython3",
   "version": "3.8.10"
  },
  "orig_nbformat": 4,
  "vscode": {
   "interpreter": {
    "hash": "916dbcbb3f70747c44a77c7bcd40155683ae19c65e1c03b4aa3499c5328201f1"
   }
  }
 },
 "nbformat": 4,
 "nbformat_minor": 2
}
