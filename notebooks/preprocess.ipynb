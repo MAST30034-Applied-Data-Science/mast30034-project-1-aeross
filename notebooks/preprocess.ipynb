{
 "cells": [
  {
   "cell_type": "code",
   "execution_count": 1,
   "metadata": {},
   "outputs": [
    {
     "name": "stdout",
     "output_type": "stream",
     "text": [
      "22/08/05 12:34:18 WARN Utils: Your hostname, MSI resolves to a loopback address: 127.0.1.1; using 192.168.207.1 instead (on interface eth1)\n",
      "22/08/05 12:34:18 WARN Utils: Set SPARK_LOCAL_IP if you need to bind to another address\n"
     ]
    },
    {
     "name": "stderr",
     "output_type": "stream",
     "text": [
      "Setting default log level to \"WARN\".\n",
      "To adjust logging level use sc.setLogLevel(newLevel). For SparkR, use setLogLevel(newLevel).\n"
     ]
    },
    {
     "name": "stdout",
     "output_type": "stream",
     "text": [
      "22/08/05 12:34:18 WARN NativeCodeLoader: Unable to load native-hadoop library for your platform... using builtin-java classes where applicable\n"
     ]
    }
   ],
   "source": [
    "### all the necessary imports\n",
    "\n",
    "# python script imports\n",
    "import sys\n",
    "sys.path.insert(0, '../scripts')\n",
    "from download import *\n",
    "from sparkshape import *\n",
    "\n",
    "# This is copied from tutorial 1\n",
    "from pyspark.sql import SparkSession\n",
    "\n",
    "# Create a spark session (which will run spark jobs)\n",
    "spark = (\n",
    "    SparkSession.builder.appName(\"MAST30034 Tutorial 1\")\n",
    "    .config(\"spark.sql.repl.eagerEval.enabled\", True) \n",
    "    .config(\"spark.sql.parquet.cacheMetadata\", \"true\")\n",
    "    .getOrCreate()\n",
    ")\n",
    "\n",
    "# other imports\n",
    "from pyspark.sql.functions import col\n",
    "from pyspark.sql.functions import unix_timestamp"
   ]
  },
  {
   "cell_type": "code",
   "execution_count": 3,
   "metadata": {},
   "outputs": [
    {
     "name": "stderr",
     "output_type": "stream",
     "text": [
      "                                                                                \r"
     ]
    },
    {
     "name": "stdout",
     "output_type": "stream",
     "text": [
      "root\n",
      " |-- VendorID: long (nullable = true)\n",
      " |-- lpep_pickup_datetime: timestamp (nullable = true)\n",
      " |-- lpep_dropoff_datetime: timestamp (nullable = true)\n",
      " |-- store_and_fwd_flag: string (nullable = true)\n",
      " |-- RatecodeID: double (nullable = true)\n",
      " |-- PULocationID: long (nullable = true)\n",
      " |-- DOLocationID: long (nullable = true)\n",
      " |-- passenger_count: double (nullable = true)\n",
      " |-- trip_distance: double (nullable = true)\n",
      " |-- fare_amount: double (nullable = true)\n",
      " |-- extra: double (nullable = true)\n",
      " |-- mta_tax: double (nullable = true)\n",
      " |-- tip_amount: double (nullable = true)\n",
      " |-- tolls_amount: double (nullable = true)\n",
      " |-- ehail_fee: double (nullable = true)\n",
      " |-- improvement_surcharge: double (nullable = true)\n",
      " |-- total_amount: double (nullable = true)\n",
      " |-- payment_type: double (nullable = true)\n",
      " |-- trip_type: double (nullable = true)\n",
      " |-- congestion_surcharge: double (nullable = true)\n",
      "\n"
     ]
    },
    {
     "name": "stderr",
     "output_type": "stream",
     "text": [
      "                                                                                \r"
     ]
    },
    {
     "name": "stdout",
     "output_type": "stream",
     "text": [
      "+--------+--------------------+---------------------+------------------+----------+------------+------------+---------------+-------------+-----------+-----+-------+----------+------------+---------+---------------------+------------+------------+---------+--------------------+\n",
      "|VendorID|lpep_pickup_datetime|lpep_dropoff_datetime|store_and_fwd_flag|RatecodeID|PULocationID|DOLocationID|passenger_count|trip_distance|fare_amount|extra|mta_tax|tip_amount|tolls_amount|ehail_fee|improvement_surcharge|total_amount|payment_type|trip_type|congestion_surcharge|\n",
      "+--------+--------------------+---------------------+------------------+----------+------------+------------+---------------+-------------+-----------+-----+-------+----------+------------+---------+---------------------+------------+------------+---------+--------------------+\n",
      "|       2| 2018-12-22 02:17:29|  2018-12-22 02:18:57|                 N|       1.0|         264|         264|            5.0|          0.0|        3.0|  0.5|    0.5|       0.0|         0.0|     null|                  0.3|         4.3|         2.0|      1.0|                null|\n",
      "|       2| 2019-01-01 11:10:16|  2019-01-01 11:16:32|                 N|       1.0|          97|          49|            2.0|         0.86|        6.0|  0.5|    0.5|       0.0|         0.0|     null|                  0.3|         7.3|         2.0|      1.0|                null|\n",
      "|       2| 2019-01-01 11:27:11|  2019-01-01 11:31:38|                 N|       1.0|          49|         189|            2.0|         0.66|        4.5|  0.5|    0.5|       0.0|         0.0|     null|                  0.3|         5.8|         1.0|      1.0|                null|\n",
      "|       2| 2019-01-01 11:46:20|  2019-01-01 12:04:54|                 N|       1.0|         189|          17|            2.0|         2.68|       13.5|  0.5|    0.5|      2.96|         0.0|     null|                  0.3|       19.71|         1.0|      1.0|                null|\n",
      "|       2| 2019-01-01 11:19:06|  2019-01-01 11:39:43|                 N|       1.0|          82|         258|            1.0|         4.53|       18.0|  0.5|    0.5|       0.0|         0.0|     null|                  0.3|        19.3|         2.0|      1.0|                null|\n",
      "|       2| 2019-01-01 11:12:35|  2019-01-01 11:19:09|                 N|       1.0|          49|          17|            1.0|         1.05|        6.5|  0.5|    0.5|       0.0|         0.0|     null|                  0.3|         7.8|         1.0|      1.0|                null|\n",
      "|       2| 2019-01-01 11:47:55|  2019-01-01 12:00:01|                 N|       1.0|         255|          33|            1.0|         3.77|       13.5|  0.5|    0.5|       0.0|         0.0|     null|                  0.3|        14.8|         1.0|      1.0|                null|\n",
      "|       1| 2019-01-01 11:12:47|  2019-01-01 11:30:50|                 N|       1.0|          76|         225|            1.0|          4.1|       16.0|  0.5|    0.5|       0.0|         0.0|     null|                  0.3|        17.3|         1.0|      1.0|                null|\n",
      "|       2| 2019-01-01 11:16:23|  2019-01-01 11:39:46|                 N|       1.0|          25|          89|            1.0|         7.75|       25.5|  0.5|    0.5|       0.0|         0.0|     null|                  0.3|        26.8|         1.0|      1.0|                null|\n",
      "|       2| 2019-01-01 11:58:02|  2019-01-01 12:19:02|                 N|       1.0|          85|          39|            1.0|         3.68|       15.5|  0.5|    0.5|       0.0|         0.0|     null|                  0.3|        16.8|         1.0|      1.0|                null|\n",
      "|       2| 2019-01-01 11:37:00|  2019-01-01 11:56:42|                 N|       1.0|         223|         238|            1.0|         6.84|       22.0|  0.5|    0.5|       8.0|        5.76|     null|                  0.3|       37.06|         1.0|      1.0|                null|\n",
      "|       2| 2019-01-01 11:13:48|  2019-01-01 11:21:00|                 N|       1.0|         129|         129|            2.0|         1.15|        6.5|  0.5|    0.5|      1.56|         0.0|     null|                  0.3|        9.36|         1.0|      1.0|                null|\n",
      "|       2| 2019-01-01 11:19:59|  2019-01-01 11:45:50|                 N|       1.0|          71|          71|            1.0|         0.49|       15.5|  0.5|    0.5|       0.0|         0.0|     null|                  0.3|        16.8|         1.0|      1.0|                null|\n",
      "|       2| 2019-01-01 11:57:57|  2019-01-01 12:20:10|                 N|       1.0|          85|         177|            1.0|         3.61|       17.0|  0.5|    0.5|       0.0|         0.0|     null|                  0.3|        18.3|         1.0|      1.0|                null|\n",
      "|       1| 2019-01-01 11:09:02|  2019-01-01 11:17:50|                 N|       1.0|         256|          80|            1.0|          1.2|        7.5|  0.5|    0.5|       5.2|         0.0|     null|                  0.3|        14.0|         1.0|      1.0|                null|\n",
      "|       1| 2019-01-01 11:22:12|  2019-01-01 11:25:29|                 N|       1.0|          80|          80|            1.0|          0.5|        4.0|  0.5|    0.5|       0.0|         0.0|     null|                  0.3|         5.3|         2.0|      1.0|                null|\n",
      "|       1| 2019-01-01 11:31:55|  2019-01-01 11:52:59|                 N|       1.0|         256|         229|            1.0|          5.5|       19.5|  0.5|    0.5|      4.15|         0.0|     null|                  0.3|       24.95|         1.0|      1.0|                null|\n",
      "|       2| 2019-01-01 11:30:20|  2019-01-01 11:54:19|                 N|       1.0|         255|         231|            1.0|         5.01|       20.0|  0.5|    0.5|      4.26|         0.0|     null|                  0.3|       25.56|         1.0|      1.0|                null|\n",
      "|       2| 2019-01-01 10:58:06|  2019-01-01 11:00:57|                 N|       1.0|         146|           7|            1.0|         0.43|        4.0|  0.5|    0.5|      1.06|         0.0|     null|                  0.3|        6.36|         1.0|      1.0|                null|\n",
      "|       2| 2019-01-01 11:40:17|  2019-01-01 11:50:23|                 N|       1.0|         146|         129|            1.0|         2.72|       10.5|  0.5|    0.5|      2.36|         0.0|     null|                  0.3|       14.16|         1.0|      1.0|                null|\n",
      "+--------+--------------------+---------------------+------------------+----------+------------+------------+---------------+-------------+-----------+-----+-------+----------+------------+---------+---------------------+------------+------------+---------+--------------------+\n",
      "only showing top 20 rows\n",
      "\n"
     ]
    }
   ],
   "source": [
    "# let's import all the green taxi data for the year 2019 and take a closer look into what the data looks like\n",
    "sdf_g = spark.read.parquet(\"../data/raw/green/\")\n",
    "sdf_g.printSchema()\n",
    "sdf_g.show()"
   ]
  },
  {
   "cell_type": "code",
   "execution_count": 4,
   "metadata": {},
   "outputs": [],
   "source": [
    "# Alright! Now that I've had a good idea what this data looks like, let's remove ehail_fee out of the data \n",
    "# because the values in ehail_fee are always null. I also need data for the length of each trip, and that is acquired by calculating\n",
    "# the difference between lpep_pickup_datetime and lpep_dropoff_datetime.\n",
    "time_diff = unix_timestamp(\"lpep_dropoff_datetime\") - unix_timestamp(\"lpep_pickup_datetime\")\n",
    "sdf_g = sdf_g.drop(col(\"ehail_fee\"))\n",
    "sdf_g = sdf_g.withColumn(\"trip_duration\", time_diff)"
   ]
  },
  {
   "cell_type": "code",
   "execution_count": 5,
   "metadata": {},
   "outputs": [
    {
     "name": "stderr",
     "output_type": "stream",
     "text": [
      "[Stage 2:>                                                         (0 + 8) / 11]\r"
     ]
    },
    {
     "name": "stdout",
     "output_type": "stream",
     "text": [
      "22/08/05 12:23:00 WARN MemoryManager: Total allocation exceeds 95.00% (906,992,014 bytes) of heap memory\n",
      "Scaling row group sizes to 96.54% for 7 writers\n",
      "22/08/05 12:23:00 WARN MemoryManager: Total allocation exceeds 95.00% (906,992,014 bytes) of heap memory\n",
      "Scaling row group sizes to 84.47% for 8 writers\n",
      "22/08/05 12:23:07 WARN MemoryManager: Total allocation exceeds 95.00% (906,992,014 bytes) of heap memory\n",
      "Scaling row group sizes to 96.54% for 7 writers\n"
     ]
    },
    {
     "name": "stderr",
     "output_type": "stream",
     "text": [
      "                                                                                \r"
     ]
    }
   ],
   "source": [
    "# save this as a new parquet file\n",
    "sdf_g.write.mode(\"overwrite\").parquet(\"../data/curated/green\")\n",
    "# to copy what tute1 said: \"Your directory might look a bit funky. Don't worry, just leave it as is,\n",
    "# (we don't have time to cover everything about Spark unfortunately) and you can just read in the directory as is.\"\n",
    "# I TAKE YOUR WORD FOR THIS, OKAY!!"
   ]
  },
  {
   "cell_type": "markdown",
   "metadata": {},
   "source": [
    "Now, do the same thing (yes, same exact thing) for the yellow taxi data."
   ]
  },
  {
   "cell_type": "code",
   "execution_count": 6,
   "metadata": {},
   "outputs": [
    {
     "name": "stdout",
     "output_type": "stream",
     "text": [
      "root\n",
      " |-- VendorID: long (nullable = true)\n",
      " |-- tpep_pickup_datetime: timestamp (nullable = true)\n",
      " |-- tpep_dropoff_datetime: timestamp (nullable = true)\n",
      " |-- passenger_count: double (nullable = true)\n",
      " |-- trip_distance: double (nullable = true)\n",
      " |-- RatecodeID: double (nullable = true)\n",
      " |-- store_and_fwd_flag: string (nullable = true)\n",
      " |-- PULocationID: long (nullable = true)\n",
      " |-- DOLocationID: long (nullable = true)\n",
      " |-- payment_type: long (nullable = true)\n",
      " |-- fare_amount: double (nullable = true)\n",
      " |-- extra: double (nullable = true)\n",
      " |-- mta_tax: double (nullable = true)\n",
      " |-- tip_amount: double (nullable = true)\n",
      " |-- tolls_amount: double (nullable = true)\n",
      " |-- improvement_surcharge: double (nullable = true)\n",
      " |-- total_amount: double (nullable = true)\n",
      " |-- congestion_surcharge: double (nullable = true)\n",
      " |-- airport_fee: integer (nullable = true)\n",
      "\n",
      "+--------+--------------------+---------------------+---------------+-------------+----------+------------------+------------+------------+------------+-----------+-----+-------+----------+------------+---------------------+------------+--------------------+-----------+\n",
      "|VendorID|tpep_pickup_datetime|tpep_dropoff_datetime|passenger_count|trip_distance|RatecodeID|store_and_fwd_flag|PULocationID|DOLocationID|payment_type|fare_amount|extra|mta_tax|tip_amount|tolls_amount|improvement_surcharge|total_amount|congestion_surcharge|airport_fee|\n",
      "+--------+--------------------+---------------------+---------------+-------------+----------+------------------+------------+------------+------------+-----------+-----+-------+----------+------------+---------------------+------------+--------------------+-----------+\n",
      "|       1| 2019-03-01 11:24:41|  2019-03-01 11:25:31|            1.0|          0.0|       1.0|                 N|         145|         145|           2|        2.5|  0.5|    0.5|       0.0|         0.0|                  0.3|         3.8|                 0.0|       null|\n",
      "|       1| 2019-03-01 11:25:27|  2019-03-01 11:36:37|            2.0|          3.7|       1.0|                 N|          95|         130|           1|       13.0|  0.5|    0.5|       0.7|         0.0|                  0.3|        15.0|                 0.0|       null|\n",
      "|       1| 2019-03-01 11:05:21|  2019-03-01 11:38:23|            1.0|         14.1|       1.0|                 N|         249|          28|           1|       41.0|  3.0|    0.5|      10.1|        5.76|                  0.3|       60.66|                 2.5|       null|\n",
      "|       1| 2019-03-01 11:48:55|  2019-03-01 12:06:03|            1.0|          9.6|       1.0|                 N|         138|          98|           2|       27.0|  0.5|    0.5|       0.0|         0.0|                  0.3|        28.3|                 0.0|       null|\n",
      "|       1| 2019-03-01 11:11:42|  2019-03-01 11:16:40|            1.0|          0.8|       1.0|                 N|          48|          48|           1|        5.5|  3.0|    0.5|       3.0|         0.0|                  0.3|        12.3|                 2.5|       null|\n",
      "|       1| 2019-03-01 11:45:03|  2019-03-01 11:49:38|            1.0|          1.2|       1.0|                 N|         246|          48|           2|        6.0|  3.0|    0.5|       0.0|         0.0|                  0.3|         9.8|                 2.5|       null|\n",
      "|       1| 2019-03-01 11:02:37|  2019-03-01 11:07:30|            1.0|          0.6|       1.0|                 Y|         239|         238|           2|        5.5|  3.0|    0.5|       0.0|         0.0|                  0.3|         9.3|                 2.5|       null|\n",
      "|       2| 2019-03-01 06:52:45|  2019-03-01 07:01:54|            1.0|         5.65|       1.0|                 N|         132|         197|           2|       17.0|  0.5|    0.5|       0.0|         0.0|                  0.3|        18.3|                 0.0|       null|\n",
      "|       2| 2019-03-01 11:14:23|  2019-03-01 11:19:17|            1.0|         1.16|       1.0|                 N|         229|         170|           1|        6.0|  0.5|    0.5|      2.45|         0.0|                  0.3|       12.25|                 2.5|       null|\n",
      "|       2| 2019-03-01 11:19:09|  2019-03-01 11:23:30|            1.0|         0.71|       1.0|                 N|         137|         234|           1|        5.0|  0.5|    0.5|       1.0|         0.0|                  0.3|         9.8|                 2.5|       null|\n",
      "|       2| 2019-03-01 11:06:46|  2019-03-01 11:17:09|            5.0|         2.63|       1.0|                 N|         231|         246|           1|       10.5|  0.5|    0.5|      2.86|         0.0|                  0.3|       17.16|                 2.5|       null|\n",
      "|       1| 2019-03-01 11:00:46|  2019-03-01 11:26:41|            1.0|          5.0|       1.0|                 N|         230|           7|           3|       20.5|  3.0|    0.5|       0.0|         0.0|                  0.3|        24.3|                 2.5|       null|\n",
      "|       2| 2019-03-01 11:00:40|  2019-03-01 11:49:26|            2.0|        14.04|       1.0|                 N|         170|         123|           1|       45.5|  0.5|    0.5|     14.79|         0.0|                  0.3|       64.09|                 2.5|       null|\n",
      "|       1| 2019-03-01 11:21:46|  2019-03-01 11:30:25|            1.0|          2.0|       1.0|                 N|         143|         263|           1|        9.0|  3.0|    0.5|      2.55|         0.0|                  0.3|       15.35|                 2.5|       null|\n",
      "|       2| 2019-03-01 11:25:16|  2019-03-01 11:31:39|            5.0|         2.11|       1.0|                 N|         229|         236|           1|        8.0|  0.5|    0.5|       2.0|         0.0|                  0.3|        13.8|                 2.5|       null|\n",
      "|       1| 2019-03-01 11:03:09|  2019-03-01 11:49:16|            1.0|          6.8|       1.0|                 N|         162|          49|           2|       31.5|  3.0|    0.5|       0.0|         0.0|                  0.3|        35.3|                 2.5|       null|\n",
      "|       2| 2019-03-01 11:55:49|  2019-03-01 12:11:06|            1.0|         5.97|       1.0|                 N|         152|         153|           2|       19.0|  0.5|    0.5|       0.0|         0.0|                  0.3|        20.3|                 0.0|       null|\n",
      "|       1| 2019-03-01 11:35:42|  2019-03-01 11:47:06|            1.0|          3.4|       1.0|                 N|         162|          74|           1|       12.0|  3.0|    0.5|       1.5|         0.0|                  0.3|        17.3|                 2.5|       null|\n",
      "|       2| 2019-03-01 11:45:03|  2019-03-01 12:14:25|            1.0|        16.89|       2.0|                 N|         132|         229|           1|       52.0|  0.0|    0.5|     11.06|         0.0|                  0.3|       66.36|                 2.5|       null|\n",
      "|       1| 2019-03-01 11:42:38|  2019-03-01 12:02:58|            1.0|          5.4|       1.0|                 N|          25|         246|           1|       19.5|  3.0|    0.5|       3.5|         0.0|                  0.3|        26.8|                 2.5|       null|\n",
      "+--------+--------------------+---------------------+---------------+-------------+----------+------------------+------------+------------+------------+-----------+-----+-------+----------+------------+---------------------+------------+--------------------+-----------+\n",
      "only showing top 20 rows\n",
      "\n"
     ]
    }
   ],
   "source": [
    "sdf_y = spark.read.parquet(\"../data/raw/yellow/\")\n",
    "sdf_y.printSchema()\n",
    "sdf_y.show()"
   ]
  },
  {
   "cell_type": "markdown",
   "metadata": {},
   "source": [
    "It seems like there is no ehail_fee unlike the green data. All is good to proceed to the next step."
   ]
  },
  {
   "cell_type": "code",
   "execution_count": 7,
   "metadata": {},
   "outputs": [
    {
     "name": "stderr",
     "output_type": "stream",
     "text": [
      "                                                                                \r"
     ]
    },
    {
     "data": {
      "text/plain": [
       "(84598444, 19)"
      ]
     },
     "execution_count": 7,
     "metadata": {},
     "output_type": "execute_result"
    }
   ],
   "source": [
    "spark_shape(sdf_y)"
   ]
  },
  {
   "cell_type": "markdown",
   "metadata": {},
   "source": [
    "...\n",
    "\n",
    "Okay, about the next step...I collected the data from all 12 months and honestly, the total number of rows is 8.46 x 10^7 which is MASSIVE. I tried saving the entire dataset into a parquet file, and my memory straight up refused.\n",
    "\n",
    "What do now? Well, because of this, one solution that I thought of so far is that I'll save the yellow data in a different way -- instead of merging all of them together, I'll save it month by month."
   ]
  },
  {
   "cell_type": "code",
   "execution_count": 8,
   "metadata": {},
   "outputs": [
    {
     "name": "stderr",
     "output_type": "stream",
     "text": [
      "                                                                                \r"
     ]
    }
   ],
   "source": [
    "for i in range(1, 13):\n",
    "    if i < 10:\n",
    "        sdf_y = spark.read.parquet(\"../data/raw/yellow/2019-0\" + str(i) + \".parquet\")\n",
    "        time_diff = unix_timestamp(\"tpep_dropoff_datetime\") - unix_timestamp(\"tpep_pickup_datetime\")\n",
    "        sdf_y = sdf_y.withColumn(\"trip_duration\", time_diff)\n",
    "        sdf_y.write.mode(\"overwrite\").parquet(\"../data/curated/yellow/2019-0\" + str(i))\n",
    "    else:\n",
    "        sdf_y = spark.read.parquet(\"../data/raw/yellow/2019-\" + str(i) + \".parquet\")\n",
    "        time_diff = unix_timestamp(\"tpep_dropoff_datetime\") - unix_timestamp(\"tpep_pickup_datetime\")\n",
    "        sdf_y = sdf_y.withColumn(\"trip_duration\", time_diff)\n",
    "        sdf_y.write.mode(\"overwrite\").parquet(\"../data/curated/yellow/2019-\" + str(i))"
   ]
  },
  {
   "cell_type": "markdown",
   "metadata": {},
   "source": [
    "Now one last thing to note: I am not downloading the taxi zone datasets using the py script because..."
   ]
  },
  {
   "cell_type": "code",
   "execution_count": 9,
   "metadata": {},
   "outputs": [
    {
     "ename": "HTTPError",
     "evalue": "HTTP Error 403: Forbidden",
     "output_type": "error",
     "traceback": [
      "\u001b[0;31m---------------------------------------------------------------------------\u001b[0m",
      "\u001b[0;31mHTTPError\u001b[0m                                 Traceback (most recent call last)",
      "\u001b[1;32m/mnt/c/Users/andre/Downloads/Unimelb/MAST30034 Applied Data Science/Project 1/GitHub/notebooks/preprocess.ipynb Cell 12\u001b[0m in \u001b[0;36m<cell line: 7>\u001b[0;34m()\u001b[0m\n\u001b[1;32m      <a href='vscode-notebook-cell://wsl%2Bubuntu/mnt/c/Users/andre/Downloads/Unimelb/MAST30034%20Applied%20Data%20Science/Project%201/GitHub/notebooks/preprocess.ipynb#ch0000035vscode-remote?line=3'>4</a>\u001b[0m TZL_DATA \u001b[39m=\u001b[39m \u001b[39m\"\u001b[39m\u001b[39mtaxi_zone_lookup\u001b[39m\u001b[39m\"\u001b[39m\n\u001b[1;32m      <a href='vscode-notebook-cell://wsl%2Bubuntu/mnt/c/Users/andre/Downloads/Unimelb/MAST30034%20Applied%20Data%20Science/Project%201/GitHub/notebooks/preprocess.ipynb#ch0000035vscode-remote?line=4'>5</a>\u001b[0m TZ_DATA \u001b[39m=\u001b[39m \u001b[39m\"\u001b[39m\u001b[39mtaxi_zones\u001b[39m\u001b[39m\"\u001b[39m\n\u001b[0;32m----> <a href='vscode-notebook-cell://wsl%2Bubuntu/mnt/c/Users/andre/Downloads/Unimelb/MAST30034%20Applied%20Data%20Science/Project%201/GitHub/notebooks/preprocess.ipynb#ch0000035vscode-remote?line=6'>7</a>\u001b[0m download(\u001b[39mNone\u001b[39;49;00m, \u001b[39mNone\u001b[39;49;00m, URL_TZL, TZL_DATA)\n\u001b[1;32m      <a href='vscode-notebook-cell://wsl%2Bubuntu/mnt/c/Users/andre/Downloads/Unimelb/MAST30034%20Applied%20Data%20Science/Project%201/GitHub/notebooks/preprocess.ipynb#ch0000035vscode-remote?line=7'>8</a>\u001b[0m download(\u001b[39mNone\u001b[39;00m, \u001b[39mNone\u001b[39;00m, URL_TZL, TZ_DATA)\n",
      "File \u001b[0;32m/mnt/c/Users/andre/Downloads/Unimelb/MAST30034 Applied Data Science/Project 1/GitHub/notebooks/../scripts/download.py:71\u001b[0m, in \u001b[0;36mdownload\u001b[0;34m(YEAR, MONTHS, URL_TEMPLATE, TAXI_DATA)\u001b[0m\n\u001b[1;32m     68\u001b[0m     tlc_output_dir \u001b[39m=\u001b[39m output_relative_dir \u001b[39m+\u001b[39m TAXI_DATA\n\u001b[1;32m     70\u001b[0m     \u001b[39m# download\u001b[39;00m\n\u001b[0;32m---> 71\u001b[0m     urlretrieve(URL_TEMPLATE, tlc_output_dir)\n\u001b[1;32m     72\u001b[0m     \u001b[39mprint\u001b[39m(\u001b[39mf\u001b[39m\u001b[39m\"\u001b[39m\u001b[39msuccessfully downloaded \u001b[39m\u001b[39m{\u001b[39;00mURL_TEMPLATE\u001b[39m}\u001b[39;00m\u001b[39m\"\u001b[39m)\n\u001b[1;32m     74\u001b[0m \u001b[39mreturn\u001b[39;00m\n",
      "File \u001b[0;32m/usr/lib/python3.8/urllib/request.py:247\u001b[0m, in \u001b[0;36murlretrieve\u001b[0;34m(url, filename, reporthook, data)\u001b[0m\n\u001b[1;32m    230\u001b[0m \u001b[39m\"\"\"\u001b[39;00m\n\u001b[1;32m    231\u001b[0m \u001b[39mRetrieve a URL into a temporary location on disk.\u001b[39;00m\n\u001b[1;32m    232\u001b[0m \n\u001b[0;32m   (...)\u001b[0m\n\u001b[1;32m    243\u001b[0m \u001b[39mdata file as well as the resulting HTTPMessage object.\u001b[39;00m\n\u001b[1;32m    244\u001b[0m \u001b[39m\"\"\"\u001b[39;00m\n\u001b[1;32m    245\u001b[0m url_type, path \u001b[39m=\u001b[39m _splittype(url)\n\u001b[0;32m--> 247\u001b[0m \u001b[39mwith\u001b[39;00m contextlib\u001b[39m.\u001b[39mclosing(urlopen(url, data)) \u001b[39mas\u001b[39;00m fp:\n\u001b[1;32m    248\u001b[0m     headers \u001b[39m=\u001b[39m fp\u001b[39m.\u001b[39minfo()\n\u001b[1;32m    250\u001b[0m     \u001b[39m# Just return the local path and the \"headers\" for file://\u001b[39;00m\n\u001b[1;32m    251\u001b[0m     \u001b[39m# URLs. No sense in performing a copy unless requested.\u001b[39;00m\n",
      "File \u001b[0;32m/usr/lib/python3.8/urllib/request.py:222\u001b[0m, in \u001b[0;36murlopen\u001b[0;34m(url, data, timeout, cafile, capath, cadefault, context)\u001b[0m\n\u001b[1;32m    220\u001b[0m \u001b[39melse\u001b[39;00m:\n\u001b[1;32m    221\u001b[0m     opener \u001b[39m=\u001b[39m _opener\n\u001b[0;32m--> 222\u001b[0m \u001b[39mreturn\u001b[39;00m opener\u001b[39m.\u001b[39;49mopen(url, data, timeout)\n",
      "File \u001b[0;32m/usr/lib/python3.8/urllib/request.py:531\u001b[0m, in \u001b[0;36mOpenerDirector.open\u001b[0;34m(self, fullurl, data, timeout)\u001b[0m\n\u001b[1;32m    529\u001b[0m \u001b[39mfor\u001b[39;00m processor \u001b[39min\u001b[39;00m \u001b[39mself\u001b[39m\u001b[39m.\u001b[39mprocess_response\u001b[39m.\u001b[39mget(protocol, []):\n\u001b[1;32m    530\u001b[0m     meth \u001b[39m=\u001b[39m \u001b[39mgetattr\u001b[39m(processor, meth_name)\n\u001b[0;32m--> 531\u001b[0m     response \u001b[39m=\u001b[39m meth(req, response)\n\u001b[1;32m    533\u001b[0m \u001b[39mreturn\u001b[39;00m response\n",
      "File \u001b[0;32m/usr/lib/python3.8/urllib/request.py:640\u001b[0m, in \u001b[0;36mHTTPErrorProcessor.http_response\u001b[0;34m(self, request, response)\u001b[0m\n\u001b[1;32m    637\u001b[0m \u001b[39m# According to RFC 2616, \"2xx\" code indicates that the client's\u001b[39;00m\n\u001b[1;32m    638\u001b[0m \u001b[39m# request was successfully received, understood, and accepted.\u001b[39;00m\n\u001b[1;32m    639\u001b[0m \u001b[39mif\u001b[39;00m \u001b[39mnot\u001b[39;00m (\u001b[39m200\u001b[39m \u001b[39m<\u001b[39m\u001b[39m=\u001b[39m code \u001b[39m<\u001b[39m \u001b[39m300\u001b[39m):\n\u001b[0;32m--> 640\u001b[0m     response \u001b[39m=\u001b[39m \u001b[39mself\u001b[39;49m\u001b[39m.\u001b[39;49mparent\u001b[39m.\u001b[39;49merror(\n\u001b[1;32m    641\u001b[0m         \u001b[39m'\u001b[39;49m\u001b[39mhttp\u001b[39;49m\u001b[39m'\u001b[39;49m, request, response, code, msg, hdrs)\n\u001b[1;32m    643\u001b[0m \u001b[39mreturn\u001b[39;00m response\n",
      "File \u001b[0;32m/usr/lib/python3.8/urllib/request.py:569\u001b[0m, in \u001b[0;36mOpenerDirector.error\u001b[0;34m(self, proto, *args)\u001b[0m\n\u001b[1;32m    567\u001b[0m \u001b[39mif\u001b[39;00m http_err:\n\u001b[1;32m    568\u001b[0m     args \u001b[39m=\u001b[39m (\u001b[39mdict\u001b[39m, \u001b[39m'\u001b[39m\u001b[39mdefault\u001b[39m\u001b[39m'\u001b[39m, \u001b[39m'\u001b[39m\u001b[39mhttp_error_default\u001b[39m\u001b[39m'\u001b[39m) \u001b[39m+\u001b[39m orig_args\n\u001b[0;32m--> 569\u001b[0m     \u001b[39mreturn\u001b[39;00m \u001b[39mself\u001b[39;49m\u001b[39m.\u001b[39;49m_call_chain(\u001b[39m*\u001b[39;49margs)\n",
      "File \u001b[0;32m/usr/lib/python3.8/urllib/request.py:502\u001b[0m, in \u001b[0;36mOpenerDirector._call_chain\u001b[0;34m(self, chain, kind, meth_name, *args)\u001b[0m\n\u001b[1;32m    500\u001b[0m \u001b[39mfor\u001b[39;00m handler \u001b[39min\u001b[39;00m handlers:\n\u001b[1;32m    501\u001b[0m     func \u001b[39m=\u001b[39m \u001b[39mgetattr\u001b[39m(handler, meth_name)\n\u001b[0;32m--> 502\u001b[0m     result \u001b[39m=\u001b[39m func(\u001b[39m*\u001b[39;49margs)\n\u001b[1;32m    503\u001b[0m     \u001b[39mif\u001b[39;00m result \u001b[39mis\u001b[39;00m \u001b[39mnot\u001b[39;00m \u001b[39mNone\u001b[39;00m:\n\u001b[1;32m    504\u001b[0m         \u001b[39mreturn\u001b[39;00m result\n",
      "File \u001b[0;32m/usr/lib/python3.8/urllib/request.py:649\u001b[0m, in \u001b[0;36mHTTPDefaultErrorHandler.http_error_default\u001b[0;34m(self, req, fp, code, msg, hdrs)\u001b[0m\n\u001b[1;32m    648\u001b[0m \u001b[39mdef\u001b[39;00m \u001b[39mhttp_error_default\u001b[39m(\u001b[39mself\u001b[39m, req, fp, code, msg, hdrs):\n\u001b[0;32m--> 649\u001b[0m     \u001b[39mraise\u001b[39;00m HTTPError(req\u001b[39m.\u001b[39mfull_url, code, msg, hdrs, fp)\n",
      "\u001b[0;31mHTTPError\u001b[0m: HTTP Error 403: Forbidden"
     ]
    }
   ],
   "source": [
    "URL_TZL = \"https://d37ci6vzurychx.cloudfront.net/misc/taxi+_zone_lookup.parquet\"  # taxi zone lookup\n",
    "URL_TZ   = \"https://d37ci6vzurychx.cloudfront.net/misc/taxi_zones.zip\"  # taxi zones\n",
    "\n",
    "TZL_DATA = \"taxi_zone_lookup\"\n",
    "TZ_DATA = \"taxi_zones\"\n",
    "\n",
    "download(None, None, URL_TZL, TZL_DATA)\n",
    "download(None, None, URL_TZL, TZ_DATA)"
   ]
  },
  {
   "cell_type": "markdown",
   "metadata": {},
   "source": [
    "...the link I'm trying to download gives an HTTP 403 forbidden error. However, the data is in the tute repo, so I will simply get the data from there as an alternative solution. Make sure the data is downloaded into the /raw/taxi_zones folder before running the analysis notebooks.\n",
    "\n"
   ]
  }
 ],
 "metadata": {
  "kernelspec": {
   "display_name": "Python 3.8.10 64-bit",
   "language": "python",
   "name": "python3"
  },
  "language_info": {
   "codemirror_mode": {
    "name": "ipython",
    "version": 3
   },
   "file_extension": ".py",
   "mimetype": "text/x-python",
   "name": "python",
   "nbconvert_exporter": "python",
   "pygments_lexer": "ipython3",
   "version": "3.8.10"
  },
  "orig_nbformat": 4,
  "vscode": {
   "interpreter": {
    "hash": "916dbcbb3f70747c44a77c7bcd40155683ae19c65e1c03b4aa3499c5328201f1"
   }
  }
 },
 "nbformat": 4,
 "nbformat_minor": 2
}
