{
 "cells": [
  {
   "cell_type": "code",
   "execution_count": 43,
   "metadata": {},
   "outputs": [],
   "source": [
    "# read data\n",
    "import pandas as pd\n",
    "\n",
    "# Okay, I don't know why I named this variable crime...it's supposed to be crash, but my brain short-circuited so\n",
    "# from now on, let's just pretend that crime is the new, better way to spell crash.\n",
    "crime = pd.read_csv(\"../data/curated/crash.csv\")"
   ]
  },
  {
   "cell_type": "markdown",
   "metadata": {},
   "source": [
    "## The distribution of the response variable"
   ]
  },
  {
   "cell_type": "code",
   "execution_count": 60,
   "metadata": {},
   "outputs": [
    {
     "data": {
      "image/png": "[encoded data removed]",
      "text/plain": [
       "<Figure size 432x288 with 1 Axes>"
      ]
     },
     "metadata": {
      "needs_background": "light"
     },
     "output_type": "display_data"
    }
   ],
   "source": [
    "import numpy as np\n",
    "import matplotlib.pyplot as plt\n",
    "\n",
    "y = crime[\"count\"]\n",
    "plt.hist(y, bins=[i for i in range(max(crime[\"count\"]) + 1)])\n",
    "plt.xlabel(\"number of crashes\")\n",
    "plt.ylabel(\"frequency\")\n",
    "plt.title(\"Crash Distribution\")\n",
    "plt.savefig(\"../plots/crash_dist.png\")"
   ]
  },
  {
   "cell_type": "markdown",
   "metadata": {},
   "source": [
    "Based on the histogram, the data is not normally distributed. It could be negative binomial or poisson...?\n",
    "\n",
    "Anyway, the point is, any type of linear model is definitely not applicable here, and I'm not doing negative binomial regression because that is out of the scope of my knowledge.\n"
   ]
  },
  {
   "cell_type": "code",
   "execution_count": 45,
   "metadata": {},
   "outputs": [
    {
     "name": "stdout",
     "output_type": "stream",
     "text": [
      "['onehotencoder__season_autumn' 'onehotencoder__season_spring'\n",
      " 'onehotencoder__season_summer' 'onehotencoder__season_winter'\n",
      " 'onehotencoder__daylight_day' 'onehotencoder__daylight_night'\n",
      " 'onehotencoder__borough_Bronx' 'onehotencoder__borough_Brooklyn'\n",
      " 'onehotencoder__borough_Manhattan' 'onehotencoder__borough_Queens'\n",
      " 'onehotencoder__borough_Staten Island' 'ordinalencoder__speed']\n",
      "[[0. 0. 0. ... 1. 0. 0.]\n",
      " [0. 0. 0. ... 0. 0. 0.]\n",
      " [0. 0. 0. ... 0. 0. 0.]\n",
      " ...\n",
      " [0. 0. 0. ... 0. 0. 2.]\n",
      " [0. 0. 0. ... 0. 1. 2.]\n",
      " [0. 0. 0. ... 0. 0. 2.]]\n"
     ]
    }
   ],
   "source": [
    "# apply one hot encoding to transform nominal variable \n",
    "# and ordinal encoding to transform ordinal variable\n",
    "X = crime.drop(columns=[\"date\", \"count\"])\n",
    "\n",
    "from sklearn.preprocessing import OneHotEncoder, OrdinalEncoder\n",
    "from sklearn.compose import make_column_transformer\n",
    "\n",
    "ohe = OneHotEncoder()\n",
    "oe = OrdinalEncoder(categories=[[\"normal\", \"fast\", \"empty\"]])\n",
    "\n",
    "ohe.fit_transform(X[[\"season\", \"daylight\", \"borough\"]])\n",
    "oe.fit_transform(X[[\"speed\"]])\n",
    "\n",
    "X_t = make_column_transformer((ohe, [\"season\", \"daylight\", \"borough\"]), \\\n",
    "    (oe, [\"speed\"]))\n",
    "\n",
    "column_names = X_t.fit(X).get_feature_names_out()\n",
    "X = X_t.fit_transform(X)\n",
    "\n",
    "print(column_names)\n",
    "print(X)"
   ]
  },
  {
   "cell_type": "code",
   "execution_count": 46,
   "metadata": {},
   "outputs": [],
   "source": [
    "# split data into train and test sets\n",
    "from sklearn.model_selection import train_test_split\n",
    "\n",
    "X_train, X_test, y_train, y_test = train_test_split(X, y, test_size=0.25, random_state=0)"
   ]
  },
  {
   "cell_type": "markdown",
   "metadata": {},
   "source": [
    "## Dummy Regression"
   ]
  },
  {
   "cell_type": "code",
   "execution_count": 47,
   "metadata": {},
   "outputs": [
    {
     "name": "stdout",
     "output_type": "stream",
     "text": [
      "40.64804768437498\n",
      "21.91822672906916\n"
     ]
    }
   ],
   "source": [
    "# simply predicts the value which has the most occurrence, which is 0. This will be used as the baseline.\n",
    "dummy_pred = np.zeros(y_test.shape[0])\n",
    "\n",
    "# evaluation using MAE and RMSE\n",
    "from sklearn.metrics import mean_squared_error, mean_absolute_error\n",
    "print(np.sqrt(mean_squared_error(y_test, dummy_pred)))\n",
    "print(mean_absolute_error(y_test, dummy_pred))"
   ]
  },
  {
   "cell_type": "markdown",
   "metadata": {},
   "source": [
    "## Poisson Regression"
   ]
  },
  {
   "cell_type": "code",
   "execution_count": 48,
   "metadata": {},
   "outputs": [
    {
     "name": "stdout",
     "output_type": "stream",
     "text": [
      "21.865866195876983\n",
      "553.0199797566553\n",
      "18.2069078971439\n",
      "12.273542724483566\n"
     ]
    }
   ],
   "source": [
    "# note that although the data looks like it follows a poisson distribution,\n",
    "# its variance is actually a lot larger than its mean. (Poisson has equal mean and variance)\n",
    "\n",
    "from sklearn.linear_model import PoissonRegressor\n",
    "\n",
    "pr = PoissonRegressor()\n",
    "pr.fit(X_train, y_train)\n",
    "y_pred = pr.predict(X_test)\n",
    "\n",
    "print(np.mean(y_pred))\n",
    "print(np.var(y_pred))\n",
    "print(np.sqrt(mean_squared_error(y_test, y_pred)))\n",
    "print(mean_absolute_error(y_test, y_pred))"
   ]
  },
  {
   "cell_type": "code",
   "execution_count": 49,
   "metadata": {},
   "outputs": [
    {
     "name": "stdout",
     "output_type": "stream",
     "text": [
      "21.91822672906916\n"
     ]
    },
    {
     "data": {
      "text/plain": [
       "1171.8551176043402"
      ]
     },
     "execution_count": 49,
     "metadata": {},
     "output_type": "execute_result"
    }
   ],
   "source": [
    "# As seen there, although the mean of the predicted values looks fine, \n",
    "# the variance of the predicted values are way off the actual variance.\n",
    "print(np.mean(y_test))\n",
    "np.var(y_test)\n",
    "# In addition, the RMSE, although better from the baseline model, is still barely an improvement. \n",
    "# The MAE is even worse, possibly because most of the true values are skewed at 0."
   ]
  },
  {
   "cell_type": "markdown",
   "metadata": {},
   "source": [
    "Since this predicted data has higher variance than mean, the data is overdispersed. Dealing with overdispersion requires a much deeper statistical knowledge that is beyond the scope of my understanding as well as what's required in this subject. (I believe this topic is discussed in MAST30027, but that is in week 4. Given the deadline of this subject, and how much work I have to split among four subjects, I'm afraid that is not possible...not everyone has 150 IQ!)\n",
    "\n",
    "Instead of doing regression, I will use two models that are both based on decision trees as their main components: random forest and gradient boost. They should, in theory, work better because decision trees don't depend on whether the data follows a certain distribution.\n",
    "\n",
    "I will also use MAE and MAPE in addition to RMSE as evaluation metrics."
   ]
  },
  {
   "cell_type": "markdown",
   "metadata": {},
   "source": [
    "## Random Forest Regression"
   ]
  },
  {
   "cell_type": "code",
   "execution_count": 50,
   "metadata": {},
   "outputs": [
    {
     "name": "stdout",
     "output_type": "stream",
     "text": [
      "21.903811471109858\n",
      "1071.3895769712717\n",
      "RMSE = 10.085603137309388\n",
      "MAE  = 5.752070297315643\n"
     ]
    },
    {
     "data": {
      "text/plain": [
       "array([0.00512082, 0.00102429, 0.0014735 , 0.01692335, 0.1514377 ,\n",
       "       0.16466516, 0.05115328, 0.00085469, 0.03746687, 0.00098442,\n",
       "       0.1657478 , 0.40314812])"
      ]
     },
     "execution_count": 50,
     "metadata": {},
     "output_type": "execute_result"
    }
   ],
   "source": [
    "from sklearn.ensemble import RandomForestRegressor\n",
    "rfr = RandomForestRegressor(n_estimators=500, max_depth=10, random_state=0)\n",
    "rfr.fit(X_train, y_train)\n",
    "y_pred = rfr.predict(X_test)\n",
    "\n",
    "\n",
    "print(np.mean(y_pred))\n",
    "print(np.var(y_pred))\n",
    "print(f\"RMSE = {np.sqrt(mean_squared_error(y_test, y_pred))}\")\n",
    "print(F\"MAE  = {mean_absolute_error(y_test, y_pred)}\")\n",
    "rfr_fi = rfr.feature_importances_\n",
    "rfr_fi"
   ]
  },
  {
   "cell_type": "markdown",
   "metadata": {},
   "source": [
    "## Gradient Boosting Regression"
   ]
  },
  {
   "cell_type": "code",
   "execution_count": 51,
   "metadata": {},
   "outputs": [
    {
     "name": "stdout",
     "output_type": "stream",
     "text": [
      "21.905029132628055\n",
      "1071.556229051951\n",
      "RMSE = 10.086443240390942\n",
      "MAE  = 5.752781603307638\n"
     ]
    },
    {
     "data": {
      "text/plain": [
       "array([0.00549205, 0.00063131, 0.00114558, 0.01723692, 0.1739773 ,\n",
       "       0.14220714, 0.051199  , 0.00064215, 0.03756441, 0.0008402 ,\n",
       "       0.16592327, 0.40314067])"
      ]
     },
     "execution_count": 51,
     "metadata": {},
     "output_type": "execute_result"
    }
   ],
   "source": [
    "from sklearn.ensemble import GradientBoostingRegressor\n",
    "gbr = GradientBoostingRegressor(learning_rate=0.1, n_estimators=500, max_depth=10)\n",
    "gbr.fit(X_train, y_train)\n",
    "y_pred = gbr.predict(X_test)\n",
    "\n",
    "print(np.mean(y_pred))\n",
    "print(np.var(y_pred))\n",
    "print(f\"RMSE = {np.sqrt(mean_squared_error(y_test, y_pred))}\")\n",
    "print(F\"MAE  = {mean_absolute_error(y_test, y_pred)}\")\n",
    "gbr_fi = gbr.feature_importances_\n",
    "gbr_fi"
   ]
  },
  {
   "cell_type": "markdown",
   "metadata": {},
   "source": [
    "From the values seen above, the mean and variance of predicted values are very similar, and so are the MAE and RMSE. The feature importance are also similar, and there seem to be a decent gap between the top 4 features compared to the rest.\n",
    "\n",
    "Hence, I will test that hypothesis by re-doing the modelling to find the ideal number of features."
   ]
  },
  {
   "cell_type": "code",
   "execution_count": 52,
   "metadata": {},
   "outputs": [
    {
     "data": {
      "text/plain": [
       "[(11, 40.314439828757585),\n",
       " (10, 16.583553317662624),\n",
       " (4, 16.27074980199913),\n",
       " (5, 15.343614897082613),\n",
       " (6, 5.117613892993555),\n",
       " (8, 3.751563950361278),\n",
       " (3, 1.7080133576309733),\n",
       " (0, 0.530643558516115),\n",
       " (2, 0.13095416492123796),\n",
       " (9, 0.09123113830717405),\n",
       " (1, 0.08278019496963444),\n",
       " (7, 0.07484189679807568)]"
      ]
     },
     "execution_count": 52,
     "metadata": {},
     "output_type": "execute_result"
    }
   ],
   "source": [
    "feature_importance = (rfr_fi + gbr_fi) / 2  # average values between the two models\n",
    "feature_importance = [float(i) * 100 for i in feature_importance]  # in terms of percentage so that it's easier to see\n",
    "sorted_fi = sorted(enumerate(feature_importance), key=lambda i: i[1], reverse=True)  # so the original index is kept after sorting\n",
    "sorted_fi"
   ]
  },
  {
   "cell_type": "code",
   "execution_count": 53,
   "metadata": {},
   "outputs": [],
   "source": [
    "feature_indices = []\n",
    "rfr_RMSE = []\n",
    "rfr_MAE = []\n",
    "gbr_RMSE = []\n",
    "gbr_MAE = []\n",
    "\n",
    "for i in range(len(feature_importance)):\n",
    "    feature_indices.append(sorted_fi[i][0])\n",
    "    X_train2 = X_train[:, feature_indices]\n",
    "    X_test2 = X_test[:, feature_indices]\n",
    "\n",
    "    # random forest\n",
    "    rfr.fit(X_train2, y_train)\n",
    "    y_pred = rfr.predict(X_test2)\n",
    "\n",
    "    rfr_RMSE.append(np.sqrt(mean_squared_error(y_test, y_pred)))\n",
    "    rfr_MAE.append(mean_absolute_error(y_test, y_pred))\n",
    "\n",
    "    # gradient boost\n",
    "    gbr = GradientBoostingRegressor(learning_rate=0.1, n_estimators=500, max_depth=10)\n",
    "    gbr.fit(X_train2, y_train)\n",
    "    y_pred = gbr.predict(X_test2)\n",
    "\n",
    "    gbr_RMSE.append(np.sqrt(mean_squared_error(y_test, y_pred)))\n",
    "    gbr_MAE.append(mean_absolute_error(y_test, y_pred))"
   ]
  },
  {
   "cell_type": "code",
   "execution_count": 54,
   "metadata": {},
   "outputs": [
    {
     "name": "stdout",
     "output_type": "stream",
     "text": [
      "[27.40576813237437, 24.825506468587516, 14.765318977113932, 14.765318977113932, 12.786259417603908, 11.186044004263124, 10.36935252334343, 10.075084780555452, 10.072392047108382, 10.085605225750744, 10.085602532595285, 10.085603041876837]\n",
      "[27.405766613556892, 24.82544598095163, 14.76495519262043, 14.76495519262043, 12.786242878525146, 11.186032644835105, 10.369127881330538, 10.075159326828478, 10.07272432805397, 10.086443240390942, 10.086443240390942, 10.086443240390942]\n",
      "[17.07577327149088, 14.346208983428255, 8.055650893959122, 8.055650893959122, 6.982101257076528, 6.401245974654215, 5.95231694574912, 5.775085945686179, 5.758190643249059, 5.75206606726084, 5.752066072897621, 5.752071121434462]\n",
      "[17.075052915322473, 14.346188768017054, 8.056244931679942, 8.056244931679942, 6.982391613366897, 6.401479789566118, 5.952648588225517, 5.775442183324806, 5.75861195590533, 5.752781603307637, 5.752781603307638, 5.752781603307638]\n"
     ]
    }
   ],
   "source": [
    "print(rfr_RMSE)\n",
    "print(gbr_RMSE)\n",
    "print(rfr_MAE)\n",
    "print(gbr_MAE)"
   ]
  },
  {
   "cell_type": "code",
   "execution_count": 55,
   "metadata": {},
   "outputs": [
    {
     "name": "stdout",
     "output_type": "stream",
     "text": [
      "column name = ordinalencoder__speed\n",
      "significance = 40.31%\n",
      "\n",
      "column name = onehotencoder__borough_Staten Island\n",
      "significance = 16.58%\n",
      "\n",
      "column name = onehotencoder__daylight_day\n",
      "significance = 16.27%\n",
      "\n"
     ]
    }
   ],
   "source": [
    "# in conclusion, all though some features might look insignificant, random forest and gradient boost are \n",
    "# robust to overfitting and therefore generally performs better, if not the same, if more features are added in.\n",
    "# Nevertheless, I will take the top 3 features as the most significanat features. They are:\n",
    "for i in range(3):\n",
    "    print(f\"column name = {column_names[sorted_fi[i][0]]}\")\n",
    "    print(f\"significance = {round(sorted_fi[i][1], 2)}%\")\n",
    "    print(\"\")\n",
    "    \n"
   ]
  },
  {
   "cell_type": "code",
   "execution_count": 56,
   "metadata": {},
   "outputs": [],
   "source": [
    "# take a look at how features are distributed\n",
    "import matplotlib.pyplot as plt"
   ]
  },
  {
   "cell_type": "code",
   "execution_count": 119,
   "metadata": {},
   "outputs": [
    {
     "data": {
      "image/png": "[encoded data removed]",
      "text/plain": [
       "<Figure size 432x288 with 1 Axes>"
      ]
     },
     "metadata": {
      "needs_background": "light"
     },
     "output_type": "display_data"
    }
   ],
   "source": [
    "season_count = []\n",
    "season = [\"summer\", \"autumn\", \"winter\", \"spring\"]\n",
    "season_count.append(sum(crime[crime[\"season\"] == \"summer\"][\"count\"]) / 1000)\n",
    "season_count.append(sum(crime[crime[\"season\"] == \"autumn\"][\"count\"]) / 1000)\n",
    "season_count.append(sum(crime[crime[\"season\"] == \"winter\"][\"count\"]) / 1000)\n",
    "season_count.append(sum(crime[crime[\"season\"] == \"spring\"][\"count\"]) / 1000)\n",
    "\n",
    "plt.bar(season, season_count)\n",
    "plt.ylabel(\"number of crashes (thousands)\", fontweight=\"bold\")\n",
    "plt.xlabel(\"season\", fontweight=\"bold\")\n",
    "plt.title(\"Total Number of Crashes by Season\")\n",
    "plt.savefig(\"../plots/season_crash.png\")"
   ]
  },
  {
   "cell_type": "code",
   "execution_count": 116,
   "metadata": {},
   "outputs": [
    {
     "data": {
      "image/png": "[encoded data removed]",
      "text/plain": [
       "<Figure size 432x288 with 1 Axes>"
      ]
     },
     "metadata": {
      "needs_background": "light"
     },
     "output_type": "display_data"
    }
   ],
   "source": [
    "speed_count = []\n",
    "speed = [\"normal\", \"fast\", \"empty\"]\n",
    "speed_count.append(sum(crime[crime[\"speed\"] == \"normal\"][\"count\"]) / 1000)\n",
    "speed_count.append(sum(crime[crime[\"speed\"] == \"fast\"][\"count\"]) / 1000)\n",
    "speed_count.append(sum(crime[crime[\"speed\"] == \"empty\"][\"count\"]) / 1000)\n",
    "\n",
    "plt.bar(speed, speed_count)\n",
    "plt.ylabel(\"number of crashes (thousands)\", fontweight=\"bold\")\n",
    "plt.xlabel(\"speed\", fontweight=\"bold\")\n",
    "plt.title(\"Total Number of Crashes by Speed\")\n",
    "plt.savefig(\"../plots/speed_crash.png\")"
   ]
  },
  {
   "cell_type": "code",
   "execution_count": 117,
   "metadata": {},
   "outputs": [
    {
     "data": {
      "image/png": "[encoded data removed]",
      "text/plain": [
       "<Figure size 432x288 with 1 Axes>"
      ]
     },
     "metadata": {
      "needs_background": "light"
     },
     "output_type": "display_data"
    }
   ],
   "source": [
    "daylight_count = []\n",
    "daylight = [\"day\", \"night\"]\n",
    "daylight_count.append(sum(crime[crime[\"daylight\"] == \"day\"][\"count\"]) / 1000)\n",
    "daylight_count.append(sum(crime[crime[\"daylight\"] == \"night\"][\"count\"]) / 1000)\n",
    "\n",
    "plt.bar(daylight, daylight_count)\n",
    "plt.ylabel(\"number of crashes (thousands)\", fontweight=\"bold\")\n",
    "plt.xlabel(\"daylight\", fontweight=\"bold\")\n",
    "plt.title(\"Total Number of Crashes by Daylight\")\n",
    "plt.savefig(\"../plots/daylight_crash.png\")"
   ]
  },
  {
   "cell_type": "code",
   "execution_count": 118,
   "metadata": {},
   "outputs": [
    {
     "data": {
      "image/png": "[encoded data removed]",
      "text/plain": [
       "<Figure size 432x288 with 1 Axes>"
      ]
     },
     "metadata": {
      "needs_background": "light"
     },
     "output_type": "display_data"
    }
   ],
   "source": [
    "boro_count = []\n",
    "boro = [\"Manhattan\", \"Staten Island\", \"Brooklyn\", \"Queens\", \"Bronx\"]\n",
    "boro_count.append(sum(crime[crime[\"borough\"] == \"Manhattan\"][\"count\"]) / 1000)\n",
    "boro_count.append(sum(crime[crime[\"borough\"] == \"Staten Island\"][\"count\"]) / 1000)\n",
    "boro_count.append(sum(crime[crime[\"borough\"] == \"Brooklyn\"][\"count\"]) / 1000)\n",
    "boro_count.append(sum(crime[crime[\"borough\"] == \"Queens\"][\"count\"]) / 1000)\n",
    "boro_count.append(sum(crime[crime[\"borough\"] == \"Bronx\"][\"count\"]) / 1000)\n",
    "\n",
    "plt.bar(boro, boro_count)\n",
    "plt.ylabel(\"number of crashes (thousands)\", fontweight=\"bold\")\n",
    "plt.xlabel(\"borough\", fontweight=\"bold\")\n",
    "plt.title(\"Total Number of Crashes by Borough\")\n",
    "plt.savefig(\"../plots/boro_crash.png\")"
   ]
  },
  {
   "cell_type": "code",
   "execution_count": null,
   "metadata": {},
   "outputs": [],
   "source": []
  },
  {
   "cell_type": "code",
   "execution_count": 115,
   "metadata": {},
   "outputs": [
    {
     "data": {
      "text/html": [
       "<div>\n",
       "<style scoped>\n",
       "    .dataframe tbody tr th:only-of-type {\n",
       "        vertical-align: middle;\n",
       "    }\n",
       "\n",
       "    .dataframe tbody tr th {\n",
       "        vertical-align: top;\n",
       "    }\n",
       "\n",
       "    .dataframe thead th {\n",
       "        text-align: right;\n",
       "    }\n",
       "</style>\n",
       "<table border=\"1\" class=\"dataframe\">\n",
       "  <thead>\n",
       "    <tr style=\"text-align: right;\">\n",
       "      <th></th>\n",
       "      <th>onehotencoder__season_autumn</th>\n",
       "      <th>onehotencoder__season_spring</th>\n",
       "      <th>onehotencoder__season_summer</th>\n",
       "      <th>onehotencoder__season_winter</th>\n",
       "      <th>onehotencoder__daylight_day</th>\n",
       "      <th>onehotencoder__daylight_night</th>\n",
       "      <th>onehotencoder__borough_Bronx</th>\n",
       "      <th>onehotencoder__borough_Brooklyn</th>\n",
       "      <th>onehotencoder__borough_Manhattan</th>\n",
       "      <th>onehotencoder__borough_Queens</th>\n",
       "      <th>onehotencoder__borough_Staten Island</th>\n",
       "      <th>ordinalencoder__speed</th>\n",
       "      <th>pred_count</th>\n",
       "    </tr>\n",
       "  </thead>\n",
       "  <tbody>\n",
       "    <tr>\n",
       "      <th>2472</th>\n",
       "      <td>0.0</td>\n",
       "      <td>0.0</td>\n",
       "      <td>1.0</td>\n",
       "      <td>0.0</td>\n",
       "      <td>1.0</td>\n",
       "      <td>0.0</td>\n",
       "      <td>0.0</td>\n",
       "      <td>1.0</td>\n",
       "      <td>0.0</td>\n",
       "      <td>0.0</td>\n",
       "      <td>0.0</td>\n",
       "      <td>0.0</td>\n",
       "      <td>137.0</td>\n",
       "    </tr>\n",
       "    <tr>\n",
       "      <th>7361</th>\n",
       "      <td>0.0</td>\n",
       "      <td>0.0</td>\n",
       "      <td>1.0</td>\n",
       "      <td>0.0</td>\n",
       "      <td>1.0</td>\n",
       "      <td>0.0</td>\n",
       "      <td>0.0</td>\n",
       "      <td>0.0</td>\n",
       "      <td>0.0</td>\n",
       "      <td>1.0</td>\n",
       "      <td>0.0</td>\n",
       "      <td>0.0</td>\n",
       "      <td>130.0</td>\n",
       "    </tr>\n",
       "    <tr>\n",
       "      <th>2046</th>\n",
       "      <td>0.0</td>\n",
       "      <td>1.0</td>\n",
       "      <td>0.0</td>\n",
       "      <td>0.0</td>\n",
       "      <td>1.0</td>\n",
       "      <td>0.0</td>\n",
       "      <td>0.0</td>\n",
       "      <td>1.0</td>\n",
       "      <td>0.0</td>\n",
       "      <td>0.0</td>\n",
       "      <td>0.0</td>\n",
       "      <td>0.0</td>\n",
       "      <td>129.0</td>\n",
       "    </tr>\n",
       "    <tr>\n",
       "      <th>3345</th>\n",
       "      <td>0.0</td>\n",
       "      <td>1.0</td>\n",
       "      <td>0.0</td>\n",
       "      <td>0.0</td>\n",
       "      <td>1.0</td>\n",
       "      <td>0.0</td>\n",
       "      <td>0.0</td>\n",
       "      <td>0.0</td>\n",
       "      <td>0.0</td>\n",
       "      <td>1.0</td>\n",
       "      <td>0.0</td>\n",
       "      <td>0.0</td>\n",
       "      <td>125.0</td>\n",
       "    </tr>\n",
       "    <tr>\n",
       "      <th>6825</th>\n",
       "      <td>1.0</td>\n",
       "      <td>0.0</td>\n",
       "      <td>0.0</td>\n",
       "      <td>0.0</td>\n",
       "      <td>1.0</td>\n",
       "      <td>0.0</td>\n",
       "      <td>0.0</td>\n",
       "      <td>1.0</td>\n",
       "      <td>0.0</td>\n",
       "      <td>0.0</td>\n",
       "      <td>0.0</td>\n",
       "      <td>0.0</td>\n",
       "      <td>119.0</td>\n",
       "    </tr>\n",
       "    <tr>\n",
       "      <th>4511</th>\n",
       "      <td>1.0</td>\n",
       "      <td>0.0</td>\n",
       "      <td>0.0</td>\n",
       "      <td>0.0</td>\n",
       "      <td>1.0</td>\n",
       "      <td>0.0</td>\n",
       "      <td>0.0</td>\n",
       "      <td>0.0</td>\n",
       "      <td>0.0</td>\n",
       "      <td>1.0</td>\n",
       "      <td>0.0</td>\n",
       "      <td>0.0</td>\n",
       "      <td>111.0</td>\n",
       "    </tr>\n",
       "    <tr>\n",
       "      <th>4231</th>\n",
       "      <td>0.0</td>\n",
       "      <td>0.0</td>\n",
       "      <td>0.0</td>\n",
       "      <td>1.0</td>\n",
       "      <td>1.0</td>\n",
       "      <td>0.0</td>\n",
       "      <td>0.0</td>\n",
       "      <td>1.0</td>\n",
       "      <td>0.0</td>\n",
       "      <td>0.0</td>\n",
       "      <td>0.0</td>\n",
       "      <td>0.0</td>\n",
       "      <td>97.0</td>\n",
       "    </tr>\n",
       "    <tr>\n",
       "      <th>165</th>\n",
       "      <td>0.0</td>\n",
       "      <td>0.0</td>\n",
       "      <td>0.0</td>\n",
       "      <td>1.0</td>\n",
       "      <td>1.0</td>\n",
       "      <td>0.0</td>\n",
       "      <td>0.0</td>\n",
       "      <td>0.0</td>\n",
       "      <td>0.0</td>\n",
       "      <td>1.0</td>\n",
       "      <td>0.0</td>\n",
       "      <td>0.0</td>\n",
       "      <td>96.0</td>\n",
       "    </tr>\n",
       "    <tr>\n",
       "      <th>3530</th>\n",
       "      <td>0.0</td>\n",
       "      <td>0.0</td>\n",
       "      <td>1.0</td>\n",
       "      <td>0.0</td>\n",
       "      <td>1.0</td>\n",
       "      <td>0.0</td>\n",
       "      <td>0.0</td>\n",
       "      <td>0.0</td>\n",
       "      <td>1.0</td>\n",
       "      <td>0.0</td>\n",
       "      <td>0.0</td>\n",
       "      <td>0.0</td>\n",
       "      <td>92.0</td>\n",
       "    </tr>\n",
       "    <tr>\n",
       "      <th>3482</th>\n",
       "      <td>0.0</td>\n",
       "      <td>1.0</td>\n",
       "      <td>0.0</td>\n",
       "      <td>0.0</td>\n",
       "      <td>1.0</td>\n",
       "      <td>0.0</td>\n",
       "      <td>0.0</td>\n",
       "      <td>0.0</td>\n",
       "      <td>1.0</td>\n",
       "      <td>0.0</td>\n",
       "      <td>0.0</td>\n",
       "      <td>0.0</td>\n",
       "      <td>85.0</td>\n",
       "    </tr>\n",
       "  </tbody>\n",
       "</table>\n",
       "</div>"
      ],
      "text/plain": [
       "      onehotencoder__season_autumn  onehotencoder__season_spring  \\\n",
       "2472                           0.0                           0.0   \n",
       "7361                           0.0                           0.0   \n",
       "2046                           0.0                           1.0   \n",
       "3345                           0.0                           1.0   \n",
       "6825                           1.0                           0.0   \n",
       "4511                           1.0                           0.0   \n",
       "4231                           0.0                           0.0   \n",
       "165                            0.0                           0.0   \n",
       "3530                           0.0                           0.0   \n",
       "3482                           0.0                           1.0   \n",
       "\n",
       "      onehotencoder__season_summer  onehotencoder__season_winter  \\\n",
       "2472                           1.0                           0.0   \n",
       "7361                           1.0                           0.0   \n",
       "2046                           0.0                           0.0   \n",
       "3345                           0.0                           0.0   \n",
       "6825                           0.0                           0.0   \n",
       "4511                           0.0                           0.0   \n",
       "4231                           0.0                           1.0   \n",
       "165                            0.0                           1.0   \n",
       "3530                           1.0                           0.0   \n",
       "3482                           0.0                           0.0   \n",
       "\n",
       "      onehotencoder__daylight_day  onehotencoder__daylight_night  \\\n",
       "2472                          1.0                            0.0   \n",
       "7361                          1.0                            0.0   \n",
       "2046                          1.0                            0.0   \n",
       "3345                          1.0                            0.0   \n",
       "6825                          1.0                            0.0   \n",
       "4511                          1.0                            0.0   \n",
       "4231                          1.0                            0.0   \n",
       "165                           1.0                            0.0   \n",
       "3530                          1.0                            0.0   \n",
       "3482                          1.0                            0.0   \n",
       "\n",
       "      onehotencoder__borough_Bronx  onehotencoder__borough_Brooklyn  \\\n",
       "2472                           0.0                              1.0   \n",
       "7361                           0.0                              0.0   \n",
       "2046                           0.0                              1.0   \n",
       "3345                           0.0                              0.0   \n",
       "6825                           0.0                              1.0   \n",
       "4511                           0.0                              0.0   \n",
       "4231                           0.0                              1.0   \n",
       "165                            0.0                              0.0   \n",
       "3530                           0.0                              0.0   \n",
       "3482                           0.0                              0.0   \n",
       "\n",
       "      onehotencoder__borough_Manhattan  onehotencoder__borough_Queens  \\\n",
       "2472                               0.0                            0.0   \n",
       "7361                               0.0                            1.0   \n",
       "2046                               0.0                            0.0   \n",
       "3345                               0.0                            1.0   \n",
       "6825                               0.0                            0.0   \n",
       "4511                               0.0                            1.0   \n",
       "4231                               0.0                            0.0   \n",
       "165                                0.0                            1.0   \n",
       "3530                               1.0                            0.0   \n",
       "3482                               1.0                            0.0   \n",
       "\n",
       "      onehotencoder__borough_Staten Island  ordinalencoder__speed  pred_count  \n",
       "2472                                   0.0                    0.0       137.0  \n",
       "7361                                   0.0                    0.0       130.0  \n",
       "2046                                   0.0                    0.0       129.0  \n",
       "3345                                   0.0                    0.0       125.0  \n",
       "6825                                   0.0                    0.0       119.0  \n",
       "4511                                   0.0                    0.0       111.0  \n",
       "4231                                   0.0                    0.0        97.0  \n",
       "165                                    0.0                    0.0        96.0  \n",
       "3530                                   0.0                    0.0        92.0  \n",
       "3482                                   0.0                    0.0        85.0  "
      ]
     },
     "execution_count": 115,
     "metadata": {},
     "output_type": "execute_result"
    }
   ],
   "source": [
    "# Both models perform very similarly, so it doesn't matter which one to choose\n",
    "# (I'm choosing GBR in this case)\n",
    "pred_df = pd.DataFrame(X_test, columns=column_names)\n",
    "pred_df[\"pred_count\"] = np.rint(y_pred)\n",
    "# find the top 10 predicted values\n",
    "pred_df.sort_values(by=\"pred_count\", ascending=False).drop_duplicates().head(10)"
   ]
  }
 ],
 "metadata": {
  "kernelspec": {
   "display_name": "Python 3.8.10 64-bit",
   "language": "python",
   "name": "python3"
  },
  "language_info": {
   "codemirror_mode": {
    "name": "ipython",
    "version": 3
   },
   "file_extension": ".py",
   "mimetype": "text/x-python",
   "name": "python",
   "nbconvert_exporter": "python",
   "pygments_lexer": "ipython3",
   "version": "3.8.10"
  },
  "orig_nbformat": 4,
  "vscode": {
   "interpreter": {
    "hash": "916dbcbb3f70747c44a77c7bcd40155683ae19c65e1c03b4aa3499c5328201f1"
   }
  }
 },
 "nbformat": 4,
 "nbformat_minor": 2
}
