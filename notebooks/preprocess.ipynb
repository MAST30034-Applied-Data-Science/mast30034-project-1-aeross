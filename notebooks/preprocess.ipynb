{
 "cells": [
  {
   "cell_type": "code",
   "execution_count": 1,
   "metadata": {},
   "outputs": [
    {
     "name": "stdout",
     "output_type": "stream",
     "text": [
      "22/08/04 22:01:07 WARN Utils: Your hostname, MSI resolves to a loopback address: 127.0.1.1; using 192.168.207.1 instead (on interface eth1)\n",
      "22/08/04 22:01:07 WARN Utils: Set SPARK_LOCAL_IP if you need to bind to another address\n"
     ]
    },
    {
     "name": "stderr",
     "output_type": "stream",
     "text": [
      "Setting default log level to \"WARN\".\n",
      "To adjust logging level use sc.setLogLevel(newLevel). For SparkR, use setLogLevel(newLevel).\n"
     ]
    },
    {
     "name": "stdout",
     "output_type": "stream",
     "text": [
      "22/08/04 22:01:08 WARN NativeCodeLoader: Unable to load native-hadoop library for your platform... using builtin-java classes where applicable\n"
     ]
    }
   ],
   "source": [
    "### all the necessary imports\n",
    "\n",
    "# python script imports\n",
    "import sys\n",
    "sys.path.insert(0, '../scripts')\n",
    "from download import *\n",
    "from sparkshape import *\n",
    "\n",
    "# This is copied from tutorial 1\n",
    "from pyspark.sql import SparkSession\n",
    "\n",
    "# Create a spark session (which will run spark jobs)\n",
    "spark = (\n",
    "    SparkSession.builder.appName(\"MAST30034 Tutorial 1\")\n",
    "    .config(\"spark.sql.repl.eagerEval.enabled\", True) \n",
    "    .config(\"spark.sql.parquet.cacheMetadata\", \"true\")\n",
    "    .getOrCreate()\n",
    ")\n",
    "\n",
    "# other imports\n",
    "from pyspark.sql.functions import col\n",
    "from pyspark.sql.functions import unix_timestamp"
   ]
  },
  {
   "cell_type": "code",
   "execution_count": 2,
   "metadata": {},
   "outputs": [
    {
     "name": "stdout",
     "output_type": "stream",
     "text": [
      "Begin month 01\n",
      "Completed month 01\n",
      "Begin month 02\n",
      "Completed month 02\n",
      "Begin month 03\n",
      "Completed month 03\n",
      "Begin month 04\n",
      "Completed month 04\n",
      "Begin month 05\n",
      "Completed month 05\n",
      "Begin month 06\n",
      "Completed month 06\n",
      "Begin month 07\n",
      "Completed month 07\n",
      "Begin month 08\n",
      "Completed month 08\n",
      "Begin month 09\n",
      "Completed month 09\n",
      "Begin month 10\n",
      "Completed month 10\n",
      "Begin month 11\n",
      "Completed month 11\n",
      "Begin month 12\n",
      "Completed month 12\n"
     ]
    }
   ],
   "source": [
    "# download the green taxi data\n",
    "URL_TEMPLATE = \"https://d37ci6vzurychx.cloudfront.net/trip-data/green_tripdata_\"\n",
    "YEAR = '2019'\n",
    "MONTHS = range(1, 13)\n",
    "TAXI_DATA = \"raw/green\"\n",
    "download(YEAR, MONTHS, URL_TEMPLATE, TAXI_DATA)"
   ]
  },
  {
   "cell_type": "code",
   "execution_count": 3,
   "metadata": {},
   "outputs": [
    {
     "name": "stderr",
     "output_type": "stream",
     "text": [
      "                                                                                \r"
     ]
    },
    {
     "name": "stdout",
     "output_type": "stream",
     "text": [
      "root\n",
      " |-- VendorID: long (nullable = true)\n",
      " |-- lpep_pickup_datetime: timestamp (nullable = true)\n",
      " |-- lpep_dropoff_datetime: timestamp (nullable = true)\n",
      " |-- store_and_fwd_flag: string (nullable = true)\n",
      " |-- RatecodeID: double (nullable = true)\n",
      " |-- PULocationID: long (nullable = true)\n",
      " |-- DOLocationID: long (nullable = true)\n",
      " |-- passenger_count: double (nullable = true)\n",
      " |-- trip_distance: double (nullable = true)\n",
      " |-- fare_amount: double (nullable = true)\n",
      " |-- extra: double (nullable = true)\n",
      " |-- mta_tax: double (nullable = true)\n",
      " |-- tip_amount: double (nullable = true)\n",
      " |-- tolls_amount: double (nullable = true)\n",
      " |-- ehail_fee: double (nullable = true)\n",
      " |-- improvement_surcharge: double (nullable = true)\n",
      " |-- total_amount: double (nullable = true)\n",
      " |-- payment_type: double (nullable = true)\n",
      " |-- trip_type: double (nullable = true)\n",
      " |-- congestion_surcharge: double (nullable = true)\n",
      "\n"
     ]
    },
    {
     "name": "stderr",
     "output_type": "stream",
     "text": [
      "[Stage 1:>                                                          (0 + 1) / 1]\r"
     ]
    },
    {
     "name": "stdout",
     "output_type": "stream",
     "text": [
      "+--------+--------------------+---------------------+------------------+----------+------------+------------+---------------+-------------+-----------+-----+-------+----------+------------+---------+---------------------+------------+------------+---------+--------------------+\n",
      "|VendorID|lpep_pickup_datetime|lpep_dropoff_datetime|store_and_fwd_flag|RatecodeID|PULocationID|DOLocationID|passenger_count|trip_distance|fare_amount|extra|mta_tax|tip_amount|tolls_amount|ehail_fee|improvement_surcharge|total_amount|payment_type|trip_type|congestion_surcharge|\n",
      "+--------+--------------------+---------------------+------------------+----------+------------+------------+---------------+-------------+-----------+-----+-------+----------+------------+---------+---------------------+------------+------------+---------+--------------------+\n",
      "|       2| 2018-12-22 02:17:29|  2018-12-22 02:18:57|                 N|       1.0|         264|         264|            5.0|          0.0|        3.0|  0.5|    0.5|       0.0|         0.0|     null|                  0.3|         4.3|         2.0|      1.0|                null|\n",
      "|       2| 2019-01-01 11:10:16|  2019-01-01 11:16:32|                 N|       1.0|          97|          49|            2.0|         0.86|        6.0|  0.5|    0.5|       0.0|         0.0|     null|                  0.3|         7.3|         2.0|      1.0|                null|\n",
      "|       2| 2019-01-01 11:27:11|  2019-01-01 11:31:38|                 N|       1.0|          49|         189|            2.0|         0.66|        4.5|  0.5|    0.5|       0.0|         0.0|     null|                  0.3|         5.8|         1.0|      1.0|                null|\n",
      "|       2| 2019-01-01 11:46:20|  2019-01-01 12:04:54|                 N|       1.0|         189|          17|            2.0|         2.68|       13.5|  0.5|    0.5|      2.96|         0.0|     null|                  0.3|       19.71|         1.0|      1.0|                null|\n",
      "|       2| 2019-01-01 11:19:06|  2019-01-01 11:39:43|                 N|       1.0|          82|         258|            1.0|         4.53|       18.0|  0.5|    0.5|       0.0|         0.0|     null|                  0.3|        19.3|         2.0|      1.0|                null|\n",
      "|       2| 2019-01-01 11:12:35|  2019-01-01 11:19:09|                 N|       1.0|          49|          17|            1.0|         1.05|        6.5|  0.5|    0.5|       0.0|         0.0|     null|                  0.3|         7.8|         1.0|      1.0|                null|\n",
      "|       2| 2019-01-01 11:47:55|  2019-01-01 12:00:01|                 N|       1.0|         255|          33|            1.0|         3.77|       13.5|  0.5|    0.5|       0.0|         0.0|     null|                  0.3|        14.8|         1.0|      1.0|                null|\n",
      "|       1| 2019-01-01 11:12:47|  2019-01-01 11:30:50|                 N|       1.0|          76|         225|            1.0|          4.1|       16.0|  0.5|    0.5|       0.0|         0.0|     null|                  0.3|        17.3|         1.0|      1.0|                null|\n",
      "|       2| 2019-01-01 11:16:23|  2019-01-01 11:39:46|                 N|       1.0|          25|          89|            1.0|         7.75|       25.5|  0.5|    0.5|       0.0|         0.0|     null|                  0.3|        26.8|         1.0|      1.0|                null|\n",
      "|       2| 2019-01-01 11:58:02|  2019-01-01 12:19:02|                 N|       1.0|          85|          39|            1.0|         3.68|       15.5|  0.5|    0.5|       0.0|         0.0|     null|                  0.3|        16.8|         1.0|      1.0|                null|\n",
      "|       2| 2019-01-01 11:37:00|  2019-01-01 11:56:42|                 N|       1.0|         223|         238|            1.0|         6.84|       22.0|  0.5|    0.5|       8.0|        5.76|     null|                  0.3|       37.06|         1.0|      1.0|                null|\n",
      "|       2| 2019-01-01 11:13:48|  2019-01-01 11:21:00|                 N|       1.0|         129|         129|            2.0|         1.15|        6.5|  0.5|    0.5|      1.56|         0.0|     null|                  0.3|        9.36|         1.0|      1.0|                null|\n",
      "|       2| 2019-01-01 11:19:59|  2019-01-01 11:45:50|                 N|       1.0|          71|          71|            1.0|         0.49|       15.5|  0.5|    0.5|       0.0|         0.0|     null|                  0.3|        16.8|         1.0|      1.0|                null|\n",
      "|       2| 2019-01-01 11:57:57|  2019-01-01 12:20:10|                 N|       1.0|          85|         177|            1.0|         3.61|       17.0|  0.5|    0.5|       0.0|         0.0|     null|                  0.3|        18.3|         1.0|      1.0|                null|\n",
      "|       1| 2019-01-01 11:09:02|  2019-01-01 11:17:50|                 N|       1.0|         256|          80|            1.0|          1.2|        7.5|  0.5|    0.5|       5.2|         0.0|     null|                  0.3|        14.0|         1.0|      1.0|                null|\n",
      "|       1| 2019-01-01 11:22:12|  2019-01-01 11:25:29|                 N|       1.0|          80|          80|            1.0|          0.5|        4.0|  0.5|    0.5|       0.0|         0.0|     null|                  0.3|         5.3|         2.0|      1.0|                null|\n",
      "|       1| 2019-01-01 11:31:55|  2019-01-01 11:52:59|                 N|       1.0|         256|         229|            1.0|          5.5|       19.5|  0.5|    0.5|      4.15|         0.0|     null|                  0.3|       24.95|         1.0|      1.0|                null|\n",
      "|       2| 2019-01-01 11:30:20|  2019-01-01 11:54:19|                 N|       1.0|         255|         231|            1.0|         5.01|       20.0|  0.5|    0.5|      4.26|         0.0|     null|                  0.3|       25.56|         1.0|      1.0|                null|\n",
      "|       2| 2019-01-01 10:58:06|  2019-01-01 11:00:57|                 N|       1.0|         146|           7|            1.0|         0.43|        4.0|  0.5|    0.5|      1.06|         0.0|     null|                  0.3|        6.36|         1.0|      1.0|                null|\n",
      "|       2| 2019-01-01 11:40:17|  2019-01-01 11:50:23|                 N|       1.0|         146|         129|            1.0|         2.72|       10.5|  0.5|    0.5|      2.36|         0.0|     null|                  0.3|       14.16|         1.0|      1.0|                null|\n",
      "+--------+--------------------+---------------------+------------------+----------+------------+------------+---------------+-------------+-----------+-----+-------+----------+------------+---------+---------------------+------------+------------+---------+--------------------+\n",
      "only showing top 20 rows\n",
      "\n"
     ]
    },
    {
     "name": "stderr",
     "output_type": "stream",
     "text": [
      "                                                                                \r"
     ]
    }
   ],
   "source": [
    "# let's import all the green taxi data for the past 6 months and take a closer look into what the data looks like\n",
    "sdf_g = spark.read.parquet(\"../data/raw/green/\")\n",
    "sdf_g.printSchema()\n",
    "sdf_g.show()"
   ]
  },
  {
   "cell_type": "code",
   "execution_count": 4,
   "metadata": {},
   "outputs": [],
   "source": [
    "# Alright! Now that I've had a good idea what this data looks like, let's remove ehail_fee out of the data \n",
    "# because the values in ehail_fee are always null. I also need data for the length of each trip, and that is acquired by calculating\n",
    "# the difference between lpep_pickup_datetime and lpep_dropoff_datetime.\n",
    "time_diff = unix_timestamp(\"lpep_dropoff_datetime\") - unix_timestamp(\"lpep_pickup_datetime\")\n",
    "sdf_g = sdf_g.drop(col(\"ehail_fee\"))\n",
    "sdf_g = sdf_g.withColumn(\"trip_duration\", time_diff)"
   ]
  },
  {
   "cell_type": "code",
   "execution_count": 5,
   "metadata": {},
   "outputs": [
    {
     "name": "stderr",
     "output_type": "stream",
     "text": [
      "[Stage 2:>                                                         (0 + 8) / 11]\r"
     ]
    },
    {
     "name": "stdout",
     "output_type": "stream",
     "text": [
      "22/08/04 20:12:27 WARN MemoryManager: Total allocation exceeds 95.00% (906,992,014 bytes) of heap memory\n",
      "Scaling row group sizes to 96.54% for 7 writers\n",
      "22/08/04 20:12:27 WARN MemoryManager: Total allocation exceeds 95.00% (906,992,014 bytes) of heap memory\n",
      "Scaling row group sizes to 84.47% for 8 writers\n",
      "22/08/04 20:12:34 WARN MemoryManager: Total allocation exceeds 95.00% (906,992,014 bytes) of heap memory\n",
      "Scaling row group sizes to 96.54% for 7 writers\n"
     ]
    },
    {
     "name": "stderr",
     "output_type": "stream",
     "text": [
      "                                                                                \r"
     ]
    }
   ],
   "source": [
    "# save this as a new parquet file\n",
    "sdf_g.write.mode(\"overwrite\").parquet(\"../data/curated/green\")\n",
    "# to copy what tute1 said: \"Your directory might look a bit funky. Don't worry, just leave it as is,\n",
    "# (we don't have time to cover everything about Spark unfortunately) and you can just read in the directory as is.\"\n",
    "# I TAKE YOUR WORD FOR THIS, OKAY!!"
   ]
  },
  {
   "cell_type": "markdown",
   "metadata": {},
   "source": [
    "Now, do the same thing (yes, same exact thing) for the yellow taxi data."
   ]
  },
  {
   "cell_type": "code",
   "execution_count": 2,
   "metadata": {},
   "outputs": [
    {
     "name": "stdout",
     "output_type": "stream",
     "text": [
      "Begin month 01\n",
      "Completed month 01\n",
      "Begin month 02\n",
      "Completed month 02\n",
      "Begin month 03\n",
      "Completed month 03\n",
      "Begin month 04\n",
      "Completed month 04\n",
      "Begin month 05\n",
      "Completed month 05\n",
      "Begin month 06\n",
      "Completed month 06\n",
      "Begin month 07\n",
      "Completed month 07\n",
      "Begin month 08\n",
      "Completed month 08\n",
      "Begin month 09\n",
      "Completed month 09\n",
      "Begin month 10\n",
      "Completed month 10\n",
      "Begin month 11\n",
      "Completed month 11\n",
      "Begin month 12\n",
      "Completed month 12\n"
     ]
    }
   ],
   "source": [
    "# download the yellow taxi data\n",
    "URL_TEMPLATE = \"https://d37ci6vzurychx.cloudfront.net/trip-data/yellow_tripdata_\"\n",
    "YEAR = '2019'\n",
    "MONTHS = range(1, 13)\n",
    "TAXI_DATA = \"raw/yellow\"\n",
    "download(YEAR, MONTHS, URL_TEMPLATE, TAXI_DATA)"
   ]
  },
  {
   "cell_type": "code",
   "execution_count": 6,
   "metadata": {},
   "outputs": [
    {
     "name": "stdout",
     "output_type": "stream",
     "text": [
      "root\n",
      " |-- VendorID: long (nullable = true)\n",
      " |-- tpep_pickup_datetime: timestamp (nullable = true)\n",
      " |-- tpep_dropoff_datetime: timestamp (nullable = true)\n",
      " |-- passenger_count: double (nullable = true)\n",
      " |-- trip_distance: double (nullable = true)\n",
      " |-- RatecodeID: double (nullable = true)\n",
      " |-- store_and_fwd_flag: string (nullable = true)\n",
      " |-- PULocationID: long (nullable = true)\n",
      " |-- DOLocationID: long (nullable = true)\n",
      " |-- payment_type: long (nullable = true)\n",
      " |-- fare_amount: double (nullable = true)\n",
      " |-- extra: double (nullable = true)\n",
      " |-- mta_tax: double (nullable = true)\n",
      " |-- tip_amount: double (nullable = true)\n",
      " |-- tolls_amount: double (nullable = true)\n",
      " |-- improvement_surcharge: double (nullable = true)\n",
      " |-- total_amount: double (nullable = true)\n",
      " |-- congestion_surcharge: double (nullable = true)\n",
      " |-- airport_fee: integer (nullable = true)\n",
      "\n",
      "+--------+--------------------+---------------------+---------------+-------------+----------+------------------+------------+------------+------------+-----------+-----+-------+----------+------------+---------------------+------------+--------------------+-----------+\n",
      "|VendorID|tpep_pickup_datetime|tpep_dropoff_datetime|passenger_count|trip_distance|RatecodeID|store_and_fwd_flag|PULocationID|DOLocationID|payment_type|fare_amount|extra|mta_tax|tip_amount|tolls_amount|improvement_surcharge|total_amount|congestion_surcharge|airport_fee|\n",
      "+--------+--------------------+---------------------+---------------+-------------+----------+------------------+------------+------------+------------+-----------+-----+-------+----------+------------+---------------------+------------+--------------------+-----------+\n",
      "|       1| 2019-01-01 11:46:40|  2019-01-01 11:53:20|            1.0|          1.5|       1.0|                 N|         151|         239|           1|        7.0|  0.5|    0.5|      1.65|         0.0|                  0.3|        9.95|                null|       null|\n",
      "|       1| 2019-01-01 11:59:47|  2019-01-01 12:18:59|            1.0|          2.6|       1.0|                 N|         239|         246|           1|       14.0|  0.5|    0.5|       1.0|         0.0|                  0.3|        16.3|                null|       null|\n",
      "|       2| 2018-12-22 00:48:30|  2018-12-22 00:52:40|            3.0|          0.0|       1.0|                 N|         236|         236|           1|        4.5|  0.5|    0.5|       0.0|         0.0|                  0.3|         5.8|                null|       null|\n",
      "|       2| 2018-11-29 02:52:25|  2018-11-29 02:55:45|            5.0|          0.0|       1.0|                 N|         193|         193|           2|        3.5|  0.5|    0.5|       0.0|         0.0|                  0.3|        7.55|                null|       null|\n",
      "|       2| 2018-11-29 02:56:57|  2018-11-29 02:58:33|            5.0|          0.0|       2.0|                 N|         193|         193|           2|       52.0|  0.0|    0.5|       0.0|         0.0|                  0.3|       55.55|                null|       null|\n",
      "|       2| 2018-11-29 03:25:49|  2018-11-29 03:28:26|            5.0|          0.0|       1.0|                 N|         193|         193|           2|        3.5|  0.5|    0.5|       0.0|        5.76|                  0.3|       13.31|                null|       null|\n",
      "|       2| 2018-11-29 03:29:37|  2018-11-29 03:33:43|            5.0|          0.0|       2.0|                 N|         193|         193|           2|       52.0|  0.0|    0.5|       0.0|         0.0|                  0.3|       55.55|                null|       null|\n",
      "|       1| 2019-01-01 11:21:28|  2019-01-01 11:28:37|            1.0|          1.3|       1.0|                 N|         163|         229|           1|        6.5|  0.5|    0.5|      1.25|         0.0|                  0.3|        9.05|                null|       null|\n",
      "|       1| 2019-01-01 11:32:01|  2019-01-01 11:45:39|            1.0|          3.7|       1.0|                 N|         229|           7|           1|       13.5|  0.5|    0.5|       3.7|         0.0|                  0.3|        18.5|                null|       null|\n",
      "|       1| 2019-01-01 11:57:32|  2019-01-01 12:09:32|            2.0|          2.1|       1.0|                 N|         141|         234|           1|       10.0|  0.5|    0.5|       1.7|         0.0|                  0.3|        13.0|                null|       null|\n",
      "|       1| 2019-01-01 11:24:04|  2019-01-01 11:47:06|            2.0|          2.8|       1.0|                 N|         246|         162|           1|       15.0|  0.5|    0.5|      3.25|         0.0|                  0.3|       19.55|                null|       null|\n",
      "|       1| 2019-01-01 11:21:59|  2019-01-01 11:28:24|            1.0|          0.7|       1.0|                 N|         238|         151|           1|        5.5|  0.5|    0.5|       1.7|         0.0|                  0.3|         8.5|                null|       null|\n",
      "|       1| 2019-01-01 11:45:21|  2019-01-01 12:31:05|            1.0|          8.7|       1.0|                 N|         163|          25|           1|       34.5|  0.5|    0.5|      7.15|         0.0|                  0.3|       42.95|                null|       null|\n",
      "|       1| 2019-01-01 11:43:19|  2019-01-01 12:07:42|            1.0|          6.3|       1.0|                 N|         224|          25|           1|       21.5|  0.5|    0.5|       5.7|         0.0|                  0.3|        28.5|                null|       null|\n",
      "|       1| 2019-01-01 11:58:24|  2019-01-01 12:15:18|            1.0|          2.7|       1.0|                 N|         141|         234|           1|       13.0|  0.5|    0.5|       1.0|         0.0|                  0.3|        15.3|                null|       null|\n",
      "|       2| 2019-01-01 11:23:14|  2019-01-01 11:25:40|            1.0|         0.38|       1.0|                 N|         170|         170|           2|        3.5|  0.5|    0.5|       0.0|         0.0|                  0.3|         4.8|                null|       null|\n",
      "|       2| 2019-01-01 11:39:51|  2019-01-01 11:48:02|            1.0|         0.55|       1.0|                 N|         170|         170|           1|        6.5|  0.5|    0.5|      1.95|         0.0|                  0.3|        9.75|                null|       null|\n",
      "|       2| 2019-01-01 11:46:00|  2019-01-01 11:49:07|            1.0|          0.3|       1.0|                 N|         107|         107|           1|        4.0|  0.5|    0.5|      1.06|         0.0|                  0.3|        6.36|                null|       null|\n",
      "|       2| 2019-01-01 11:57:45|  2019-01-01 12:03:51|            1.0|         1.42|       1.0|                 N|         170|         141|           1|        6.5|  0.5|    0.5|      1.56|         0.0|                  0.3|        9.36|                null|       null|\n",
      "|       2| 2019-01-01 11:16:16|  2019-01-01 11:25:57|            1.0|         1.72|       1.0|                 N|          41|         247|           2|        9.0|  0.5|    0.5|       0.0|         0.0|                  0.3|        10.3|                null|       null|\n",
      "+--------+--------------------+---------------------+---------------+-------------+----------+------------------+------------+------------+------------+-----------+-----+-------+----------+------------+---------------------+------------+--------------------+-----------+\n",
      "only showing top 20 rows\n",
      "\n"
     ]
    }
   ],
   "source": [
    "sdf_y = spark.read.parquet(\"../data/raw/yellow/2019-01.parquet\")\n",
    "sdf_y.printSchema()\n",
    "sdf_y.show()"
   ]
  },
  {
   "cell_type": "markdown",
   "metadata": {},
   "source": [
    "It seems like there is no ehail_fee unlike the green data. All is good to proceed to the next step.\n",
    "Okay, about the next step...I collected the data from all 12 months and honestly, the total number of rows is 8.46 x 10^7 which is MASSIVE. I tried saving the entire dataset into a parquet file, and my memory straight up refused.\n",
    "\n",
    "What do now? Well, because of this, one solution that I thought of so far is that I'll save the yellow data in a different way -- instead of merging all of them together, I'll save it month by month."
   ]
  },
  {
   "cell_type": "code",
   "execution_count": 8,
   "metadata": {},
   "outputs": [
    {
     "name": "stderr",
     "output_type": "stream",
     "text": [
      "                                                                                \r"
     ]
    }
   ],
   "source": [
    "for i in range(1, 13):\n",
    "    if i < 10:\n",
    "        sdf_y = spark.read.parquet(\"../data/raw/yellow/2019-0\" + str(i) + \".parquet\")\n",
    "        time_diff = unix_timestamp(\"tpep_dropoff_datetime\") - unix_timestamp(\"tpep_pickup_datetime\")\n",
    "        sdf_y = sdf_y.withColumn(\"trip_duration\", time_diff)\n",
    "        sdf_y.write.mode(\"overwrite\").parquet(\"../data/curated/yellow/2019-0\" + str(i))\n",
    "    else:\n",
    "        sdf_y = spark.read.parquet(\"../data/raw/yellow/2019-\" + str(i) + \".parquet\")\n",
    "        time_diff = unix_timestamp(\"tpep_dropoff_datetime\") - unix_timestamp(\"tpep_pickup_datetime\")\n",
    "        sdf_y = sdf_y.withColumn(\"trip_duration\", time_diff)\n",
    "        sdf_y.write.mode(\"overwrite\").parquet(\"../data/curated/yellow/2019-\" + str(i))"
   ]
  },
  {
   "cell_type": "markdown",
   "metadata": {},
   "source": [
    "yay! all done"
   ]
  }
 ],
 "metadata": {
  "kernelspec": {
   "display_name": "Python 3.8.10 64-bit",
   "language": "python",
   "name": "python3"
  },
  "language_info": {
   "codemirror_mode": {
    "name": "ipython",
    "version": 3
   },
   "file_extension": ".py",
   "mimetype": "text/x-python",
   "name": "python",
   "nbconvert_exporter": "python",
   "pygments_lexer": "ipython3",
   "version": "3.8.10"
  },
  "orig_nbformat": 4,
  "vscode": {
   "interpreter": {
    "hash": "916dbcbb3f70747c44a77c7bcd40155683ae19c65e1c03b4aa3499c5328201f1"
   }
  }
 },
 "nbformat": 4,
 "nbformat_minor": 2
}
